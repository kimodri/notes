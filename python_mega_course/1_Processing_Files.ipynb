{
 "cells": [
  {
   "cell_type": "markdown",
   "id": "161ac511-cf11-4ed4-a8f0-80162e14183c",
   "metadata": {},
   "source": [
    "# Processing Files with Python"
   ]
  },
  {
   "cell_type": "markdown",
   "id": "fa718bd7-97ff-4a76-9991-7bbcaf979dc0",
   "metadata": {},
   "source": [
    "## Opening, Reading, Writing a File in Python\n",
    "\n",
    "---"
   ]
  },
  {
   "cell_type": "markdown",
   "id": "e50abf97-56c7-417a-a505-179a676124d4",
   "metadata": {},
   "source": [
    "- When you open a file in python it becomes an object and you might want to store that in a variable.\n",
    "- The object is not deleted until your program ends therefore it is a good idea to close the file after you've used it."
   ]
  },
  {
   "cell_type": "code",
   "execution_count": 30,
   "id": "d08a777d-7c04-4507-a5e4-021c61a7bab8",
   "metadata": {},
   "outputs": [
    {
     "name": "stdout",
     "output_type": "stream",
     "text": [
      "Apple\n",
      "Banana\n",
      "Orange\n",
      "\n",
      "\n",
      "Apple\n",
      "Banana\n",
      "OrangeTomato\n"
     ]
    }
   ],
   "source": [
    "myFile = open(\"fruits.txt\") # We just created file object\n",
    "# Now if you want to read what's inside the file\n",
    "print(myFile.read())\n",
    "myFile.close()\n",
    "\n",
    "myFile = open(\"fruits.txt\", mode = 'a') \n",
    "myFile.write(\"Tomato\")\n",
    "myFile.close()\n",
    "\n",
    "print(\"\\n\")\n",
    "\n",
    "myFile = open(\"fruits.txt\")\n",
    "print(myFile.read())\n",
    "myFile.close()"
   ]
  },
  {
   "cell_type": "markdown",
   "id": "472fbe5e-9d34-4c59-b9f4-2cd537a30099",
   "metadata": {},
   "source": [
    "The following are the functions and arguments you can use when dealing with files:\n",
    "\n",
    "**Arguments**  \n",
    "\n",
    "| Arguments  | Description  | Syntax  |\n",
    "|------------|-------------|---------|\n",
    "| file  | Specifies the file to be opened | `open(file, mode)` |\n",
    "| mode  | Defines the mode for opening a file (e.g., read, write, append) | `open(file, mode='r')` |\n",
    "| encoding  | Specifies the file encoding | `open(file, mode='r', encoding='utf-8')` |\n",
    "| errors  | Specifies how encoding errors are handled | `open(file, mode='r', errors='ignore')` |\n",
    "| newline  | Controls how newlines are handled in text mode | `open(file, mode='r', newline='')` |\n",
    "| buffering  | Controls buffering policy (0 for no buffering, 1 for line buffering, etc.) | `open(file, mode='r', buffering=1)` |\n",
    "\n",
    "\n",
    "**Functions**  \n",
    "\n",
    "| Functions  | Description  | Syntax  |\n",
    "|------------|-------------|---------|\n",
    "| open  | Opens a file for reading or writing | `open(file, mode)` |\n",
    "| read  | Reads the content of a file | `file.read(size)` |\n",
    "| readline  | Reads a single line from a file | `file.readline()` |\n",
    "| readlines  | Reads all lines into a list | `file.readlines()` |\n",
    "| write  | Writes a string to a file | `file.write(data)` |\n",
    "| writelines  | Writes a list of strings to a file | `file.writelines(lines)` |\n",
    "| close  | Closes the file | `file.close()` |\n",
    "\n",
    "\n"
   ]
  },
  {
   "cell_type": "markdown",
   "id": "10d30df9-09b4-4483-87a9-6ccbe009d595",
   "metadata": {},
   "source": [
    "## File Cursor\n",
    "\n",
    "---\n",
    "- The cursor after you read a file goes to the last line and therefore if you read it again you won't see anything:\n",
    "\n",
    "```python \n",
    "print(myFile.read())\n",
    "```\n",
    "- If you want to read files over and over you can assign the read file to a variable.\n",
    "\n",
    "```python\n",
    "content = myFile.read())\n",
    "print(content)\n",
    "print(content)"
   ]
  },
  {
   "cell_type": "markdown",
   "id": "caf12054-1c03-4698-ae3b-30d225b9b0c3",
   "metadata": {},
   "source": [
    "## Opening Files with `with`\n",
    "\n",
    "---\n",
    "Using `with` ensures that files are properly closed after their operations.  \n",
    "\n",
    "```python\n",
    "with open(file, mode='r') as f:\n",
    "    content = f.read()"
   ]
  },
  {
   "cell_type": "markdown",
   "id": "7cce880c-beae-4fcd-870b-a1a031c4e915",
   "metadata": {},
   "source": [
    "END"
   ]
  }
 ],
 "metadata": {
  "kernelspec": {
   "display_name": "Python 3 (ipykernel)",
   "language": "python",
   "name": "python3"
  },
  "language_info": {
   "codemirror_mode": {
    "name": "ipython",
    "version": 3
   },
   "file_extension": ".py",
   "mimetype": "text/x-python",
   "name": "python",
   "nbconvert_exporter": "python",
   "pygments_lexer": "ipython3",
   "version": "3.12.9"
  }
 },
 "nbformat": 4,
 "nbformat_minor": 5
}
