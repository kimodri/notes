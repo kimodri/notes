{
 "cells": [
  {
   "cell_type": "markdown",
   "id": "3da26610-2719-40b0-be43-dabccc341d9c",
   "metadata": {},
   "source": [
    "# Linear Algebra with Numpy\n",
    "---\n",
    "In here you get to see how computers see images because of arrays (linear algebra) through the use of NumPy and OpenCV"
   ]
  },
  {
   "cell_type": "markdown",
   "id": "5c70627b-b1a0-4925-a0aa-db19d5463091",
   "metadata": {},
   "source": [
    "## Representing Images in Computers\n",
    "---\n",
    "- Remember in your Linear Algebra class that you can represent images with arrays?"
   ]
  },
  {
   "cell_type": "code",
   "execution_count": 2,
   "id": "50c76681-1985-49a9-8945-6e9e4a3db735",
   "metadata": {},
   "outputs": [
    {
     "data": {
      "image/png": "[encoded data removed]",
      "text/plain": [
       "<Figure size 640x480 with 1 Axes>"
      ]
     },
     "metadata": {},
     "output_type": "display_data"
    }
   ],
   "source": [
    "import matplotlib.pyplot as plt\n",
    "import matplotlib.image as mpimg\n",
    "\n",
    "# Open an image file\n",
    "image = mpimg.imread('assets/smallgray.png')\n",
    "\n",
    "# Display the image\n",
    "plt.imshow(image)\n",
    "plt.axis('off')  # Hide axes\n",
    "plt.show()\n"
   ]
  },
  {
   "cell_type": "markdown",
   "id": "d87ac95c-e1b9-49ec-a199-9f63cf93fd01",
   "metadata": {},
   "source": [
    "So for example, this image can be represented as:\n",
    "```python\n",
    "myImg = [[1, 2, 3, 4, 5],\n",
    "        [6, 7, 8, 9, 10],\n",
    "        [2, 5, 4, 6, 3,]] \n",
    "```\n",
    "We have three lists representing rows inside a list with 5 values as columns\n",
    "\n",
    "Now, lists can be space consuming because it is a list hence we use arrays instead from **NumPy**."
   ]
  },
  {
   "cell_type": "markdown",
   "id": "cb4a850b-a626-49c3-8bc5-1a380e56c998",
   "metadata": {},
   "source": [
    "## NumPy Arrays\n",
    "\n",
    "---"
   ]
  },
  {
   "cell_type": "code",
   "execution_count": 3,
   "id": "d373585d-a3fb-40a3-940e-603eca8f5f8e",
   "metadata": {},
   "outputs": [
    {
     "data": {
      "text/plain": [
       "array([ 0,  1,  2,  3,  4,  5,  6,  7,  8,  9, 10, 11, 12, 13, 14, 15, 16,\n",
       "       17, 18, 19, 20, 21, 22, 23, 24, 25, 26])"
      ]
     },
     "execution_count": 3,
     "metadata": {},
     "output_type": "execute_result"
    }
   ],
   "source": [
    "import numpy as np\n",
    "\n",
    "# This is a one dimensional\n",
    "n = np.arange(27)\n",
    "n"
   ]
  },
  {
   "cell_type": "code",
   "execution_count": 4,
   "id": "96855da2-8671-44ab-a81e-d9c0e81a98fc",
   "metadata": {},
   "outputs": [
    {
     "data": {
      "text/plain": [
       "array([[ 0,  1,  2,  3,  4,  5,  6,  7,  8],\n",
       "       [ 9, 10, 11, 12, 13, 14, 15, 16, 17],\n",
       "       [18, 19, 20, 21, 22, 23, 24, 25, 26]])"
      ]
     },
     "execution_count": 4,
     "metadata": {},
     "output_type": "execute_result"
    }
   ],
   "source": [
    "# two dimensional\n",
    "n2 = n.reshape(3, 9) # row column\n",
    "n2"
   ]
  },
  {
   "cell_type": "markdown",
   "id": "23e7a6c5-0175-47d6-892e-a282db47792e",
   "metadata": {},
   "source": [
    "## Loading an Image with OpenCV\n",
    "\n",
    "---"
   ]
  },
  {
   "cell_type": "markdown",
   "id": "ecf796ef-7629-499b-b359-9db48427809d",
   "metadata": {},
   "source": [
    "**Functions**\n",
    "\n",
    "| Function          | Description                                      | Syntax                                           |\n",
    "|-------------------|--------------------------------------------------|--------------------------------------------------|\n",
    "| `cv2.imread`      | Reads an image from a file.                      | `cv2.imread('path/to/your/image.jpg')`           |\n",
    "| `cv2.imshow`      | Displays an image in a window.                   | `cv2.imshow('Window Name', image)`               |\n",
    "| `cv2.waitKey`     | Waits for a key event indefinitely or for a delay. | `cv2.waitKey()`                                  |\n",
    "| `cv2.destroyAllWindows` | Closes all the windows opened by OpenCV.       | `cv2.destroyAllWindows()`                        |\n",
    "\n",
    "**Arguments**\n",
    "\n",
    "| Argument          | Description                                      | Possible Values                                  | Syntax                                           |\n",
    "|-------------------|--------------------------------------------------|--------------------------------------------------|--------------------------------------------------|\n",
    "| `filename`        | Name of the file to be read.                     | `path/to/your/image.jpg`                         | `cv2.imread('filename')`                         |\n",
    "| `flags`           | Specifies the color type of a loaded image.      | `cv2.IMREAD_COLOR`, `cv2.IMREAD_GRAYSCALE`, `cv2.IMREAD_UNCHANGED` | `cv2.imread('filename', flags)`                  |\n",
    "| `winname`         | Name of the window in which the image is displayed. | Any string                                       | `cv2.imshow('winname', image)`                   |\n",
    "| `image`           | The image matrix to be displayed.                | `image`                                          | `cv2.imshow('winname', image)`                   |\n",
    "| `delay`           | Time in milliseconds.                            | `0`, any positive integer                        | `cv2.waitKey(delay)`                             |\n"
   ]
  },
  {
   "cell_type": "markdown",
   "id": "5acc2996-7adb-4951-be79-617992a70a7a",
   "metadata": {},
   "source": [
    "**Reading the Image as an BGR:**\n",
    "\n",
    "- Be careful though because the image gets rotated by 90 degrees that's why your rows become 5 and columns become 3."
   ]
  },
  {
   "cell_type": "code",
   "execution_count": 5,
   "id": "54f3e0e4-5fe8-4784-ba65-483affa2f2b5",
   "metadata": {},
   "outputs": [
    {
     "data": {
      "text/plain": [
       "array([[[187, 187, 187],\n",
       "        [158, 158, 158],\n",
       "        [104, 104, 104],\n",
       "        [121, 121, 121],\n",
       "        [143, 143, 143]],\n",
       "\n",
       "       [[198, 198, 198],\n",
       "        [125, 125, 125],\n",
       "        [255, 255, 255],\n",
       "        [255, 255, 255],\n",
       "        [147, 147, 147]],\n",
       "\n",
       "       [[209, 209, 209],\n",
       "        [134, 134, 134],\n",
       "        [255, 255, 255],\n",
       "        [ 97,  97,  97],\n",
       "        [182, 182, 182]]], dtype=uint8)"
      ]
     },
     "execution_count": 5,
     "metadata": {},
     "output_type": "execute_result"
    }
   ],
   "source": [
    "import cv2 \n",
    "img = cv2.imread(\"assets\\smallgray.png\", cv2.IMREAD_COLOR)\n",
    "img"
   ]
  },
  {
   "cell_type": "markdown",
   "id": "df5c4a3c-4cf1-41df-ba91-ef4a7d7d5557",
   "metadata": {},
   "source": [
    "**Reading the Image as Graysale:**"
   ]
  },
  {
   "cell_type": "code",
   "execution_count": 6,
   "id": "23a638c5-bfb4-4cf5-9415-c66506262a75",
   "metadata": {},
   "outputs": [
    {
     "data": {
      "text/plain": [
       "array([[187, 158, 104, 121, 143],\n",
       "       [198, 125, 255, 255, 147],\n",
       "       [209, 134, 255,  97, 182]], dtype=uint8)"
      ]
     },
     "execution_count": 6,
     "metadata": {},
     "output_type": "execute_result"
    }
   ],
   "source": [
    "imgGray = cv2.imread(\"assets\\smallgray.png\", cv2.IMREAD_GRAYSCALE)\n",
    "imgGray"
   ]
  },
  {
   "cell_type": "markdown",
   "id": "242a862a-8403-44c9-9fdf-b13f05cf53f5",
   "metadata": {},
   "source": [
    "## Creating Image from Arrays With OpenCV\n",
    "---"
   ]
  },
  {
   "cell_type": "markdown",
   "id": "c5bca1b0-e0c3-4b4f-972d-6d8af3ed1f73",
   "metadata": {},
   "source": [
    "**Functions**\n",
    "\n",
    "| Function          | Description                                      | Syntax                                           |\n",
    "|-------------------|--------------------------------------------------|--------------------------------------------------|\n",
    "| `np.zeros`        | Creates an array of given shape and type, filled with zeros. | `np.zeros((height, width, channels), dtype=np.uint8)` |\n",
    "| `cv2.imshow`      | Displays an image in a window.                   | `cv2.imshow('Window Name', array)`               |\n",
    "| `cv2.waitKey`     | Waits for a key event indefinitely or for a delay. | `cv2.waitKey()`                                  |\n",
    "| `cv2.destroyAllWindows` | Closes all the windows opened by OpenCV.       | `cv2.destroyAllWindows()`                        |\n",
    "| `cv2.imwrite`     | Saves an image to a specified file.              | `cv2.imwrite('path/to/save/image.jpg', array)`   |\n",
    "\n",
    "**Arguments**\n",
    "\n",
    "| Argument          | Description                                      | Possible Values                                  | Syntax                                           |\n",
    "|-------------------|--------------------------------------------------|--------------------------------------------------|--------------------------------------------------|\n",
    "| `shape`           | Shape of the array to be created.                | `(height, width, channels)`                      | `np.zeros(shape, dtype)`                         |\n",
    "| `dtype`           | Data type of the array.                          | `np.uint8`, `np.float32`, etc.                   | `np.zeros(shape, dtype)`                         |\n",
    "| `winname`         | Name of the window in which the image is displayed. | Any string                                       | `cv2.imshow('winname', array)`                   |\n",
    "| `array`           | The NumPy array to be displayed or saved as an image. | `array`                                          | `cv2.imshow('winname', array)`                   |\n",
    "| `delay`           | Time in milliseconds.                            | `0`, any positive integer                        | `cv2.waitKey(delay)`                             |\n",
    "| `filename`        | Name of the file to save the image.              | `path/to/save/image.jpg`                         | `cv2.imwrite('filename', array)`                 |"
   ]
  },
  {
   "cell_type": "code",
   "execution_count": 12,
   "id": "6d4aacb0-368f-4208-a7d2-a89d03c21bd8",
   "metadata": {},
   "outputs": [
    {
     "data": {
      "text/plain": [
       "True"
      ]
     },
     "execution_count": 12,
     "metadata": {},
     "output_type": "execute_result"
    }
   ],
   "source": [
    "cv2.imwrite(\"assets\\\\newimgGray.png\", img)"
   ]
  },
  {
   "cell_type": "markdown",
   "id": "f3c2ea64-8145-408b-9555-1b33df1b3811",
   "metadata": {},
   "source": [
    "## Stacking and Splitting NumPy Arrays\n",
    "\n",
    "---"
   ]
  },
  {
   "cell_type": "markdown",
   "id": "f3009e29-74c2-4d71-9ab5-987ae09e4dc6",
   "metadata": {},
   "source": [
    "Here are the functions and arguments that you can use when stacking and splitting NumPy arrays:\n",
    "\n",
    "**Functions**\n",
    "\n",
    "| Function          | Description                                      | Syntax                                           |\n",
    "|-------------------|--------------------------------------------------|--------------------------------------------------|\n",
    "| `np.vstack`       | Stacks arrays in sequence vertically (row-wise). | `np.vstack((array1, array2))`                    |\n",
    "| `np.hstack`       | Stacks arrays in sequence horizontally (column-wise). | `np.hstack((array1, array2))`                    |\n",
    "| `np.dstack`       | Stacks arrays in sequence depth-wise (along the third axis). | `np.dstack((array1, array2))`                    |\n",
    "| `np.split`        | Splits an array into multiple sub-arrays.        | `np.split(array, indices_or_sections)`           |\n",
    "| `np.vsplit`       | Splits an array into multiple sub-arrays vertically (row-wise). | `np.vsplit(array, indices_or_sections)`          |\n",
    "| `np.hsplit`       | Splits an array into multiple sub-arrays horizontally (column-wise). | `np.hsplit(array, indices_or_sections)`          |\n",
    "\n",
    "**Arguments**\n",
    "\n",
    "| Argument                | Description                                      | Possible Values                                  | Syntax                                           |\n",
    "|-------------------------|--------------------------------------------------|--------------------------------------------------|--------------------------------------------------|\n",
    "| `arrays`                | Sequence of arrays to stack.                     | `array1`, `array2`, ...                          | `np.vstack((array1, array2))`                    |\n",
    "| `array`                 | The array to split.                              | `array`                                          | `np.split(array, indices_or_sections)`           |\n",
    "| `indices_or_sections`   | Indices or sections where the array is split.    | `integer`, `list of integers`                    | `np.split(array, indices_or_sections)`           "
   ]
  },
  {
   "cell_type": "code",
   "execution_count": 14,
   "id": "a88051c2-b754-4632-ad05-e237d98fd231",
   "metadata": {},
   "outputs": [
    {
     "name": "stdout",
     "output_type": "stream",
     "text": [
      "[[ 0  1  2  3  4  5  6  7  8]\n",
      " [ 9 10 11 12 13 14 15 16 17]\n",
      " [18 19 20 21 22 23 24 25 26]]\n",
      "[[187 158 104 121 143]\n",
      " [198 125 255 255 147]\n",
      " [209 134 255  97 182]]\n"
     ]
    }
   ],
   "source": [
    "print(n2)\n",
    "print(imgGray)"
   ]
  },
  {
   "cell_type": "code",
   "execution_count": 19,
   "id": "2e3ad9cd-1eed-4551-9a71-86a57dfcb897",
   "metadata": {},
   "outputs": [
    {
     "name": "stdout",
     "output_type": "stream",
     "text": [
      "[[  0   1   2   3   4   5   6   7   8 187 158 104 121 143]\n",
      " [  9  10  11  12  13  14  15  16  17 198 125 255 255 147]\n",
      " [ 18  19  20  21  22  23  24  25  26 209 134 255  97 182]]\n",
      "143\n"
     ]
    }
   ],
   "source": [
    "stackedArrayH = np.hstack((n2, imgGray))\n",
    "print(stackedArrayH)\n",
    "print(stackedArrayH[0][-1])"
   ]
  },
  {
   "cell_type": "code",
   "execution_count": 22,
   "id": "dd363c5c-80b6-41d6-9df1-8617c285dda0",
   "metadata": {},
   "outputs": [
    {
     "name": "stdout",
     "output_type": "stream",
     "text": [
      "[array([[ 0,  1,  2,  3,  4,  5,  6],\n",
      "       [ 9, 10, 11, 12, 13, 14, 15],\n",
      "       [18, 19, 20, 21, 22, 23, 24]]), array([[  7,   8, 187, 158, 104, 121, 143],\n",
      "       [ 16,  17, 198, 125, 255, 255, 147],\n",
      "       [ 25,  26, 209, 134, 255,  97, 182]])]\n"
     ]
    }
   ],
   "source": [
    "# Splitting horizontally, column wise\n",
    "print(np.hsplit((stackedArrayH), 2))"
   ]
  },
  {
   "cell_type": "markdown",
   "id": "0fa6f395-fa4f-4582-b8f7-cb8a8ce4355d",
   "metadata": {},
   "source": []
  }
 ],
 "metadata": {
  "kernelspec": {
   "display_name": "Python 3 (ipykernel)",
   "language": "python",
   "name": "python3"
  },
  "language_info": {
   "codemirror_mode": {
    "name": "ipython",
    "version": 3
   },
   "file_extension": ".py",
   "mimetype": "text/x-python",
   "name": "python",
   "nbconvert_exporter": "python",
   "pygments_lexer": "ipython3",
   "version": "3.11.5"
  }
 },
 "nbformat": 4,
 "nbformat_minor": 5
}
