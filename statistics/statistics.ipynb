{
 "cells": [
  {
   "cell_type": "markdown",
   "id": "341085cf-b7ba-4a37-bff6-7eb90d4d6c3b",
   "metadata": {},
   "source": [
    "# Elementary Statistics \n",
    "Taugth by: Professor Leonard <br>\n",
    "Created by: Kim Audrey Magan <br>\n",
    "Created on: November 2, 2024 <hr>"
   ]
  },
  {
   "cell_type": "markdown",
   "id": "8e1aa593-3dc0-459d-a6ed-79cf25bc1bc1",
   "metadata": {},
   "source": [
    "## Chapter 1: Introduction to Statistics"
   ]
  },
  {
   "cell_type": "markdown",
   "id": "9475a48b-9a20-4043-8b70-b7df5413d25e",
   "metadata": {},
   "source": [
    "Statistics\n",
    "- Collecting data\n",
    "- Analyzing and summarizing it\n",
    "- Interpreting the results\n",
    "- Drawing conclusions to support decision-making"
   ]
  },
  {
   "cell_type": "markdown",
   "id": "60786419-c9d3-468a-978c-51576e7c38c0",
   "metadata": {},
   "source": [
    "The main goal of this course is to become a data analyst/data scientist. To do so, we must check the bullet points above. The first parts of the course is us collecting data soon on the last parts we will be able to interpret using statistical tools and draw conclusions with hypothesis testing. "
   ]
  },
  {
   "cell_type": "markdown",
   "id": "369585be-a190-4186-b2d5-d15fe5657737",
   "metadata": {},
   "source": [
    "### 1.1. Types of Data"
   ]
  },
  {
   "cell_type": "markdown",
   "id": "14d822b4-9a00-4038-a7aa-7164ab3f5875",
   "metadata": {},
   "source": [
    "We have two types of data: <br>\n",
    "There are various sources that give you the definition of this, Kim.<br> I suggest: https://byjus.com/maths/types-of-data-in-statistics/\n",
    "- Qualitative (Categorical)\n",
    "  - Nominal\n",
    "  - Ordinal\n",
    "- Quantitative (Numerical)\n",
    "  - Discrete\n",
    "  - Continuous"
   ]
  },
  {
   "cell_type": "markdown",
   "id": "e3d4cc76-cf75-49a6-a1d5-1a8daded2758",
   "metadata": {},
   "source": [
    "### 1.2. Sampling Techniques\n",
    "**Note**: This is still a part of collecting data<br>\n",
    "**Population**: The entire people (population of BSCS 2-4, population Angono, Rizal)<br>\n",
    "**Sample**: A subset of the population, often used when studying the entire population isn't feasible. <br>\n",
    "**Random**: No single person would be expected to be in a sample. <br>"
   ]
  },
  {
   "cell_type": "markdown",
   "id": "958d47f5-0103-4a4d-8872-614a54f81602",
   "metadata": {},
   "source": [
    "**4 Common Sampling Techniques:**<br>\n",
    "1. Convenice Sampling\n",
    "    * Use the individuals that are easy to get. (This is biased)\n",
    "2. Systematic Sampling\n",
    "    * Put the population into some order and select every k^th member\n",
    "3. Stratafied Sampling\n",
    "    * Divide the population into subgroups based on shared characteristics and then sample each group\n",
    "4. Clustered Sampling\n",
    "    * Divide the population into clusters regardless of the characteristics, randomly select a certain number of clusrters and then sample the entire cluster"
   ]
  },
  {
   "cell_type": "markdown",
   "id": "fb8d5be8-dd34-41ae-809b-a31bd26386f6",
   "metadata": {},
   "source": [
    "We now checked the first skill in statistics:\n",
    "- Collecting data (check)\n",
    "- Analyzing/Summarizing\n",
    "- Interpreting\n",
    "- Drawing conclusions"
   ]
  },
  {
   "cell_type": "markdown",
   "id": "050c85c5-0a8b-48f7-aef9-a08f4a4bbfbc",
   "metadata": {},
   "source": [
    "## Chapter 2: Frequency Distribution\n",
    "**Note**: We are now organizing the data. <br>\n",
    "Knowing this is important because in data analysis we often work with **histograms** and knowing frequency distribution aids in knowing histograms."
   ]
  },
  {
   "cell_type": "code",
   "execution_count": 32,
   "id": "0846abf1-f6bf-49e3-9d54-2661bdd2b491",
   "metadata": {},
   "outputs": [
    {
     "data": {
      "text/html": [
       "<div>\n",
       "<style scoped>\n",
       "    .dataframe tbody tr th:only-of-type {\n",
       "        vertical-align: middle;\n",
       "    }\n",
       "\n",
       "    .dataframe tbody tr th {\n",
       "        vertical-align: top;\n",
       "    }\n",
       "\n",
       "    .dataframe thead th {\n",
       "        text-align: right;\n",
       "    }\n",
       "</style>\n",
       "<table border=\"1\" class=\"dataframe\">\n",
       "  <thead>\n",
       "    <tr style=\"text-align: right;\">\n",
       "      <th></th>\n",
       "      <th>age classes</th>\n",
       "    </tr>\n",
       "  </thead>\n",
       "  <tbody>\n",
       "    <tr>\n",
       "      <th>0</th>\n",
       "      <td>18-21</td>\n",
       "    </tr>\n",
       "    <tr>\n",
       "      <th>1</th>\n",
       "      <td>22-25</td>\n",
       "    </tr>\n",
       "    <tr>\n",
       "      <th>2</th>\n",
       "      <td>26-29</td>\n",
       "    </tr>\n",
       "    <tr>\n",
       "      <th>3</th>\n",
       "      <td>30-33</td>\n",
       "    </tr>\n",
       "    <tr>\n",
       "      <th>4</th>\n",
       "      <td>34-37</td>\n",
       "    </tr>\n",
       "    <tr>\n",
       "      <th>5</th>\n",
       "      <td>38-41</td>\n",
       "    </tr>\n",
       "    <tr>\n",
       "      <th>6</th>\n",
       "      <td>42-45</td>\n",
       "    </tr>\n",
       "    <tr>\n",
       "      <th>7</th>\n",
       "      <td>48-49</td>\n",
       "    </tr>\n",
       "  </tbody>\n",
       "</table>\n",
       "</div>"
      ],
      "text/plain": [
       "  age classes\n",
       "0       18-21\n",
       "1       22-25\n",
       "2       26-29\n",
       "3       30-33\n",
       "4       34-37\n",
       "5       38-41\n",
       "6       42-45\n",
       "7       48-49"
      ]
     },
     "execution_count": 32,
     "metadata": {},
     "output_type": "execute_result"
    }
   ],
   "source": [
    "import pandas as pd\n",
    "age = pd.DataFrame({'age classes': ['18-21', '22-25', '26-29', '30-33', '34-37', '38-41', '42-45', '48-49']})\n",
    "age"
   ]
  },
  {
   "cell_type": "markdown",
   "id": "046d875f-e792-4fb4-9ad7-4b50636beb8a",
   "metadata": {},
   "source": [
    "**Frequency distribution**: A list of values w/ corresponding frequencies. The above data frame is not yet a frequency distribution.<br>\n",
    "**Lower class limit**: Smallest value in a class say you have a class of 18 - 21. The lower class limit is 18.<br>\n",
    "**Upper class limit**: Highest value in a class so in the class of 18-21 the upper class limit is 21. <br>\n",
    "**Class width**: Difference between two lower class limit.<br>\n",
    "- To know the class width we can subtract two lower class limit say (22 - 18) thus the class width is 4 <br>\n"
   ]
  },
  {
   "cell_type": "markdown",
   "id": "36cba384-ca71-4333-b8b6-e35046f1fac1",
   "metadata": {},
   "source": [
    "### 2.1. Steps in constructing a frequency table\n",
    "For context: Prof leonard asked his students for age and the highest that came up is 44, the lowest is 18. He then decided to have 8 classes.\n",
    "1. Determine the number of classes, this is up to you usually 5 - 20\n",
    "2. Determine the class width: $$\\dfrac{\\text{Max value - Min value}}{\\text{\\# of classes}}$$ <br>\n",
    "     $$\\dfrac{44-18}{8} = 3.25 \\space\\text{or}\\space 4$$\n",
    "3. Start creating the table starting from the lowest value with the width of 4 so if it's 18 then the first class shall be 18, 19, 20, 21. The next class shall be 22, 23, 24, 25. Proceeding from this till you get the required 8 classes. "
   ]
  },
  {
   "cell_type": "code",
   "execution_count": 33,
   "id": "69cf106d-adf3-47ff-9f8a-b0e4c653cc9c",
   "metadata": {},
   "outputs": [
    {
     "data": {
      "text/html": [
       "<div>\n",
       "<style scoped>\n",
       "    .dataframe tbody tr th:only-of-type {\n",
       "        vertical-align: middle;\n",
       "    }\n",
       "\n",
       "    .dataframe tbody tr th {\n",
       "        vertical-align: top;\n",
       "    }\n",
       "\n",
       "    .dataframe thead th {\n",
       "        text-align: right;\n",
       "    }\n",
       "</style>\n",
       "<table border=\"1\" class=\"dataframe\">\n",
       "  <thead>\n",
       "    <tr style=\"text-align: right;\">\n",
       "      <th></th>\n",
       "      <th>age classes</th>\n",
       "    </tr>\n",
       "  </thead>\n",
       "  <tbody>\n",
       "    <tr>\n",
       "      <th>0</th>\n",
       "      <td>18-21</td>\n",
       "    </tr>\n",
       "    <tr>\n",
       "      <th>1</th>\n",
       "      <td>22-25</td>\n",
       "    </tr>\n",
       "    <tr>\n",
       "      <th>2</th>\n",
       "      <td>26-29</td>\n",
       "    </tr>\n",
       "    <tr>\n",
       "      <th>3</th>\n",
       "      <td>30-33</td>\n",
       "    </tr>\n",
       "    <tr>\n",
       "      <th>4</th>\n",
       "      <td>34-37</td>\n",
       "    </tr>\n",
       "    <tr>\n",
       "      <th>5</th>\n",
       "      <td>38-41</td>\n",
       "    </tr>\n",
       "    <tr>\n",
       "      <th>6</th>\n",
       "      <td>42-45</td>\n",
       "    </tr>\n",
       "    <tr>\n",
       "      <th>7</th>\n",
       "      <td>48-49</td>\n",
       "    </tr>\n",
       "  </tbody>\n",
       "</table>\n",
       "</div>"
      ],
      "text/plain": [
       "  age classes\n",
       "0       18-21\n",
       "1       22-25\n",
       "2       26-29\n",
       "3       30-33\n",
       "4       34-37\n",
       "5       38-41\n",
       "6       42-45\n",
       "7       48-49"
      ]
     },
     "execution_count": 33,
     "metadata": {},
     "output_type": "execute_result"
    }
   ],
   "source": [
    "# after the steps we get the table:\n",
    "age"
   ]
  },
  {
   "cell_type": "markdown",
   "id": "d360c502-50af-4da4-8097-f666a2c8e820",
   "metadata": {},
   "source": [
    "### 2.2. Filling out the Table:\n",
    "To organize the table we must fill out sum information that can tell us more about our data\n",
    "- Frequency\n",
    "- class midpoint\n",
    "- Relative Frequency\n",
    "- Cumulative Frequency"
   ]
  },
  {
   "cell_type": "markdown",
   "id": "5ed47d89-141a-4dc6-9ec3-ad89f5935673",
   "metadata": {},
   "source": [
    "After this, Professor Leonard took the frequency of each class by asking his students and got:"
   ]
  },
  {
   "cell_type": "code",
   "execution_count": 34,
   "id": "115ea895-deac-4a75-8a3a-65ca098dac8d",
   "metadata": {},
   "outputs": [
    {
     "data": {
      "text/html": [
       "<div>\n",
       "<style scoped>\n",
       "    .dataframe tbody tr th:only-of-type {\n",
       "        vertical-align: middle;\n",
       "    }\n",
       "\n",
       "    .dataframe tbody tr th {\n",
       "        vertical-align: top;\n",
       "    }\n",
       "\n",
       "    .dataframe thead th {\n",
       "        text-align: right;\n",
       "    }\n",
       "</style>\n",
       "<table border=\"1\" class=\"dataframe\">\n",
       "  <thead>\n",
       "    <tr style=\"text-align: right;\">\n",
       "      <th></th>\n",
       "      <th>age classes</th>\n",
       "      <th>frequency</th>\n",
       "    </tr>\n",
       "  </thead>\n",
       "  <tbody>\n",
       "    <tr>\n",
       "      <th>0</th>\n",
       "      <td>18-21</td>\n",
       "      <td>25</td>\n",
       "    </tr>\n",
       "    <tr>\n",
       "      <th>1</th>\n",
       "      <td>22-25</td>\n",
       "      <td>10</td>\n",
       "    </tr>\n",
       "    <tr>\n",
       "      <th>2</th>\n",
       "      <td>26-29</td>\n",
       "      <td>4</td>\n",
       "    </tr>\n",
       "    <tr>\n",
       "      <th>3</th>\n",
       "      <td>30-33</td>\n",
       "      <td>2</td>\n",
       "    </tr>\n",
       "    <tr>\n",
       "      <th>4</th>\n",
       "      <td>34-37</td>\n",
       "      <td>1</td>\n",
       "    </tr>\n",
       "    <tr>\n",
       "      <th>5</th>\n",
       "      <td>38-41</td>\n",
       "      <td>0</td>\n",
       "    </tr>\n",
       "    <tr>\n",
       "      <th>6</th>\n",
       "      <td>42-45</td>\n",
       "      <td>1</td>\n",
       "    </tr>\n",
       "    <tr>\n",
       "      <th>7</th>\n",
       "      <td>48-49</td>\n",
       "      <td>0</td>\n",
       "    </tr>\n",
       "  </tbody>\n",
       "</table>\n",
       "</div>"
      ],
      "text/plain": [
       "  age classes  frequency\n",
       "0       18-21         25\n",
       "1       22-25         10\n",
       "2       26-29          4\n",
       "3       30-33          2\n",
       "4       34-37          1\n",
       "5       38-41          0\n",
       "6       42-45          1\n",
       "7       48-49          0"
      ]
     },
     "execution_count": 34,
     "metadata": {},
     "output_type": "execute_result"
    }
   ],
   "source": [
    "age['frequency'] = [25, 10, 4, 2, 1, 0, 1, 0]\n",
    "age"
   ]
  },
  {
   "cell_type": "markdown",
   "id": "155d9f9b-66ab-45b4-bc64-127f3fa16fd3",
   "metadata": {},
   "source": [
    "With this information we have to get the:\n",
    "- Class midpoint (will be useful for histograms)\n",
    "- Relative frequency\n",
    "- Cumulative Frequency"
   ]
  },
  {
   "cell_type": "markdown",
   "id": "dfe2c21a-de35-4534-a65f-d93fe028e082",
   "metadata": {},
   "source": [
    "#### Class midpoint\n",
    "We also get the class midpoint of each class. It is from getting the average of each class, using the above data:<br><br> $$ \\frac{\\text{Upper class limit - Lower class limit}}{2} $$ <br> $$ \\frac{21 - 18}{2} $$ <br> $$ 19.5 $$ "
   ]
  },
  {
   "cell_type": "code",
   "execution_count": 35,
   "id": "5852a265-5af4-4b67-9c79-4bc3bf510770",
   "metadata": {},
   "outputs": [
    {
     "data": {
      "text/html": [
       "<div>\n",
       "<style scoped>\n",
       "    .dataframe tbody tr th:only-of-type {\n",
       "        vertical-align: middle;\n",
       "    }\n",
       "\n",
       "    .dataframe tbody tr th {\n",
       "        vertical-align: top;\n",
       "    }\n",
       "\n",
       "    .dataframe thead th {\n",
       "        text-align: right;\n",
       "    }\n",
       "</style>\n",
       "<table border=\"1\" class=\"dataframe\">\n",
       "  <thead>\n",
       "    <tr style=\"text-align: right;\">\n",
       "      <th></th>\n",
       "      <th>age classes</th>\n",
       "      <th>frequency</th>\n",
       "      <th>midpoint</th>\n",
       "    </tr>\n",
       "  </thead>\n",
       "  <tbody>\n",
       "    <tr>\n",
       "      <th>0</th>\n",
       "      <td>18-21</td>\n",
       "      <td>25</td>\n",
       "      <td>19.5</td>\n",
       "    </tr>\n",
       "    <tr>\n",
       "      <th>1</th>\n",
       "      <td>22-25</td>\n",
       "      <td>10</td>\n",
       "      <td>23.5</td>\n",
       "    </tr>\n",
       "    <tr>\n",
       "      <th>2</th>\n",
       "      <td>26-29</td>\n",
       "      <td>4</td>\n",
       "      <td>27.5</td>\n",
       "    </tr>\n",
       "    <tr>\n",
       "      <th>3</th>\n",
       "      <td>30-33</td>\n",
       "      <td>2</td>\n",
       "      <td>31.5</td>\n",
       "    </tr>\n",
       "    <tr>\n",
       "      <th>4</th>\n",
       "      <td>34-37</td>\n",
       "      <td>1</td>\n",
       "      <td>35.5</td>\n",
       "    </tr>\n",
       "    <tr>\n",
       "      <th>5</th>\n",
       "      <td>38-41</td>\n",
       "      <td>0</td>\n",
       "      <td>39.5</td>\n",
       "    </tr>\n",
       "    <tr>\n",
       "      <th>6</th>\n",
       "      <td>42-45</td>\n",
       "      <td>1</td>\n",
       "      <td>43.5</td>\n",
       "    </tr>\n",
       "    <tr>\n",
       "      <th>7</th>\n",
       "      <td>48-49</td>\n",
       "      <td>0</td>\n",
       "      <td>47.5</td>\n",
       "    </tr>\n",
       "  </tbody>\n",
       "</table>\n",
       "</div>"
      ],
      "text/plain": [
       "  age classes  frequency  midpoint\n",
       "0       18-21         25      19.5\n",
       "1       22-25         10      23.5\n",
       "2       26-29          4      27.5\n",
       "3       30-33          2      31.5\n",
       "4       34-37          1      35.5\n",
       "5       38-41          0      39.5\n",
       "6       42-45          1      43.5\n",
       "7       48-49          0      47.5"
      ]
     },
     "execution_count": 35,
     "metadata": {},
     "output_type": "execute_result"
    }
   ],
   "source": [
    "firstMp =  19.5\n",
    "midpoint = []\n",
    "for i in range(8):\n",
    "    midpoint.append(firstMp)\n",
    "    firstMp += 4\n",
    "age['midpoint'] = midpoint\n",
    "age"
   ]
  },
  {
   "cell_type": "markdown",
   "id": "1833bc74-2649-4b51-9164-b7fe9eb09669",
   "metadata": {},
   "source": [
    "#### Class Boundaries\n",
    "Study the class boundaries but in short, <b>class boundaries</b> is just used to separate classes w/o gaps for a histogram. In the video we have the boundaries = [17. 5, 21.5, 25.5, 29.5, 33.5, 37.5, 41.5, 45.5, 49.5]"
   ]
  },
  {
   "cell_type": "markdown",
   "id": "de5da37a-2ba6-46d5-bc72-d68edc976911",
   "metadata": {},
   "source": [
    "To organize data, perhaps summarize it we can proceed in finding the **relative frequency**<br>\n",
    "#### Relative frequency \n",
    "- Compare each frequency from the total number of participants. It tells you something from a frequency of a class from the other classes. This is in percent."
   ]
  },
  {
   "cell_type": "code",
   "execution_count": 36,
   "id": "b1de171f-7da7-40a7-a8b1-3cfbe6717a61",
   "metadata": {},
   "outputs": [
    {
     "data": {
      "text/html": [
       "<div>\n",
       "<style scoped>\n",
       "    .dataframe tbody tr th:only-of-type {\n",
       "        vertical-align: middle;\n",
       "    }\n",
       "\n",
       "    .dataframe tbody tr th {\n",
       "        vertical-align: top;\n",
       "    }\n",
       "\n",
       "    .dataframe thead th {\n",
       "        text-align: right;\n",
       "    }\n",
       "</style>\n",
       "<table border=\"1\" class=\"dataframe\">\n",
       "  <thead>\n",
       "    <tr style=\"text-align: right;\">\n",
       "      <th></th>\n",
       "      <th>age classes</th>\n",
       "      <th>frequency</th>\n",
       "      <th>midpoint</th>\n",
       "      <th>relative freq (%)</th>\n",
       "    </tr>\n",
       "  </thead>\n",
       "  <tbody>\n",
       "    <tr>\n",
       "      <th>0</th>\n",
       "      <td>18-21</td>\n",
       "      <td>25</td>\n",
       "      <td>19.5</td>\n",
       "      <td>58.1</td>\n",
       "    </tr>\n",
       "    <tr>\n",
       "      <th>1</th>\n",
       "      <td>22-25</td>\n",
       "      <td>10</td>\n",
       "      <td>23.5</td>\n",
       "      <td>23.3</td>\n",
       "    </tr>\n",
       "    <tr>\n",
       "      <th>2</th>\n",
       "      <td>26-29</td>\n",
       "      <td>4</td>\n",
       "      <td>27.5</td>\n",
       "      <td>9.3</td>\n",
       "    </tr>\n",
       "    <tr>\n",
       "      <th>3</th>\n",
       "      <td>30-33</td>\n",
       "      <td>2</td>\n",
       "      <td>31.5</td>\n",
       "      <td>4.7</td>\n",
       "    </tr>\n",
       "    <tr>\n",
       "      <th>4</th>\n",
       "      <td>34-37</td>\n",
       "      <td>1</td>\n",
       "      <td>35.5</td>\n",
       "      <td>2.3</td>\n",
       "    </tr>\n",
       "    <tr>\n",
       "      <th>5</th>\n",
       "      <td>38-41</td>\n",
       "      <td>0</td>\n",
       "      <td>39.5</td>\n",
       "      <td>0.0</td>\n",
       "    </tr>\n",
       "    <tr>\n",
       "      <th>6</th>\n",
       "      <td>42-45</td>\n",
       "      <td>1</td>\n",
       "      <td>43.5</td>\n",
       "      <td>2.3</td>\n",
       "    </tr>\n",
       "    <tr>\n",
       "      <th>7</th>\n",
       "      <td>48-49</td>\n",
       "      <td>0</td>\n",
       "      <td>47.5</td>\n",
       "      <td>0.0</td>\n",
       "    </tr>\n",
       "  </tbody>\n",
       "</table>\n",
       "</div>"
      ],
      "text/plain": [
       "  age classes  frequency  midpoint  relative freq (%)\n",
       "0       18-21         25      19.5               58.1\n",
       "1       22-25         10      23.5               23.3\n",
       "2       26-29          4      27.5                9.3\n",
       "3       30-33          2      31.5                4.7\n",
       "4       34-37          1      35.5                2.3\n",
       "5       38-41          0      39.5                0.0\n",
       "6       42-45          1      43.5                2.3\n",
       "7       48-49          0      47.5                0.0"
      ]
     },
     "execution_count": 36,
     "metadata": {},
     "output_type": "execute_result"
    }
   ],
   "source": [
    "# the total number of students in the room is 43\n",
    "age['relative freq (%)'] = round(age['frequency'] / 43 * 100, 1)\n",
    "age"
   ]
  },
  {
   "cell_type": "markdown",
   "id": "a5293d42-837a-41ef-a29d-21debd40b1c0",
   "metadata": {},
   "source": [
    "So what does 58.1% (relative freq) mean? <br> it means 58% of the data belong to the 81 - 21 class"
   ]
  },
  {
   "cell_type": "markdown",
   "id": "81c829fc-8202-48a7-949a-5b95016760d9",
   "metadata": {},
   "source": [
    "#### Cumulative Frequency\n",
    "This just tells you how many people do we have now after the previous classes."
   ]
  },
  {
   "cell_type": "code",
   "execution_count": 37,
   "id": "68ff5b75-cbc9-4d67-b10b-45d4591070b0",
   "metadata": {},
   "outputs": [
    {
     "data": {
      "text/html": [
       "<div>\n",
       "<style scoped>\n",
       "    .dataframe tbody tr th:only-of-type {\n",
       "        vertical-align: middle;\n",
       "    }\n",
       "\n",
       "    .dataframe tbody tr th {\n",
       "        vertical-align: top;\n",
       "    }\n",
       "\n",
       "    .dataframe thead th {\n",
       "        text-align: right;\n",
       "    }\n",
       "</style>\n",
       "<table border=\"1\" class=\"dataframe\">\n",
       "  <thead>\n",
       "    <tr style=\"text-align: right;\">\n",
       "      <th></th>\n",
       "      <th>age classes</th>\n",
       "      <th>frequency</th>\n",
       "      <th>midpoint</th>\n",
       "      <th>relative freq (%)</th>\n",
       "      <th>cum freq</th>\n",
       "    </tr>\n",
       "  </thead>\n",
       "  <tbody>\n",
       "    <tr>\n",
       "      <th>0</th>\n",
       "      <td>18-21</td>\n",
       "      <td>25</td>\n",
       "      <td>19.5</td>\n",
       "      <td>58.1</td>\n",
       "      <td>25</td>\n",
       "    </tr>\n",
       "    <tr>\n",
       "      <th>1</th>\n",
       "      <td>22-25</td>\n",
       "      <td>10</td>\n",
       "      <td>23.5</td>\n",
       "      <td>23.3</td>\n",
       "      <td>35</td>\n",
       "    </tr>\n",
       "    <tr>\n",
       "      <th>2</th>\n",
       "      <td>26-29</td>\n",
       "      <td>4</td>\n",
       "      <td>27.5</td>\n",
       "      <td>9.3</td>\n",
       "      <td>39</td>\n",
       "    </tr>\n",
       "    <tr>\n",
       "      <th>3</th>\n",
       "      <td>30-33</td>\n",
       "      <td>2</td>\n",
       "      <td>31.5</td>\n",
       "      <td>4.7</td>\n",
       "      <td>41</td>\n",
       "    </tr>\n",
       "    <tr>\n",
       "      <th>4</th>\n",
       "      <td>34-37</td>\n",
       "      <td>1</td>\n",
       "      <td>35.5</td>\n",
       "      <td>2.3</td>\n",
       "      <td>42</td>\n",
       "    </tr>\n",
       "    <tr>\n",
       "      <th>5</th>\n",
       "      <td>38-41</td>\n",
       "      <td>0</td>\n",
       "      <td>39.5</td>\n",
       "      <td>0.0</td>\n",
       "      <td>42</td>\n",
       "    </tr>\n",
       "    <tr>\n",
       "      <th>6</th>\n",
       "      <td>42-45</td>\n",
       "      <td>1</td>\n",
       "      <td>43.5</td>\n",
       "      <td>2.3</td>\n",
       "      <td>43</td>\n",
       "    </tr>\n",
       "    <tr>\n",
       "      <th>7</th>\n",
       "      <td>48-49</td>\n",
       "      <td>0</td>\n",
       "      <td>47.5</td>\n",
       "      <td>0.0</td>\n",
       "      <td>43</td>\n",
       "    </tr>\n",
       "  </tbody>\n",
       "</table>\n",
       "</div>"
      ],
      "text/plain": [
       "  age classes  frequency  midpoint  relative freq (%)  cum freq\n",
       "0       18-21         25      19.5               58.1        25\n",
       "1       22-25         10      23.5               23.3        35\n",
       "2       26-29          4      27.5                9.3        39\n",
       "3       30-33          2      31.5                4.7        41\n",
       "4       34-37          1      35.5                2.3        42\n",
       "5       38-41          0      39.5                0.0        42\n",
       "6       42-45          1      43.5                2.3        43\n",
       "7       48-49          0      47.5                0.0        43"
      ]
     },
     "execution_count": 37,
     "metadata": {},
     "output_type": "execute_result"
    }
   ],
   "source": [
    "age['cum freq'] = age['frequency'].cumsum()\n",
    "age"
   ]
  },
  {
   "cell_type": "markdown",
   "id": "7812c167-ba53-4697-a48a-32ccbf86569a",
   "metadata": {},
   "source": [
    "So with the cimulative freq definition we can say that after the first 2 classes we have 35 participants out of 43"
   ]
  },
  {
   "cell_type": "markdown",
   "id": "6238cad8-43ee-411e-a377-593b583286a3",
   "metadata": {},
   "source": [
    "### Chapter 3. Histograms\n",
    "All those data look good, but I don't know I can't understand them, is there a way where I can understand them better? <br>\n",
    "That's were histograms come in."
   ]
  },
  {
   "cell_type": "markdown",
   "id": "191705c7-4a48-4f9e-be4b-f6229df43ead",
   "metadata": {},
   "source": [
    "First we have to define: \n",
    "- **Normal data**: The data goes up to the center then go back down"
   ]
  },
  {
   "cell_type": "code",
   "execution_count": 38,
   "id": "881d7bf0-eed2-4fbe-898e-d9719b31a113",
   "metadata": {},
   "outputs": [
    {
     "data": {
      "image/png": "[encoded data removed]",
      "text/plain": [
       "<Figure size 640x480 with 1 Axes>"
      ]
     },
     "metadata": {},
     "output_type": "display_data"
    },
    {
     "name": "stdout",
     "output_type": "stream",
     "text": [
      "   Normal_Distribution\n",
      "0            68.145058\n",
      "1            60.935672\n",
      "2            47.637039\n",
      "3            36.271248\n",
      "4            67.819785\n"
     ]
    }
   ],
   "source": [
    "import numpy as np\n",
    "import pandas as pd\n",
    "import matplotlib.pyplot as plt\n",
    "# Set the parameters for the normal distribution\n",
    "mean = 50      # Mean of the distribution\n",
    "std_dev = 10   # Standard deviation of the distribution\n",
    "size = 1000    # Number of data points\n",
    "\n",
    "# Generate the normal distribution data\n",
    "data = np.random.normal(loc=mean, scale=std_dev, size=size)\n",
    "\n",
    "# Create a DataFrame\n",
    "df = pd.DataFrame(data, columns=[\"Normal_Distribution\"])\n",
    "\n",
    "# Display the first few rows of the DataFrame\n",
    "df.hist()\n",
    "plt.show()\n",
    "print(df.head())"
   ]
  },
  {
   "cell_type": "markdown",
   "id": "522f1340-9425-4638-b177-1b5538f2b517",
   "metadata": {},
   "source": [
    "The data of Prof Leonard obviously is not normal because we have a lot of data at the beginning."
   ]
  },
  {
   "cell_type": "markdown",
   "id": "1d83a017-f1d7-412d-96c6-029c71ca6415",
   "metadata": {},
   "source": [
    "#### Histograms:\n",
    "It is made of: \n",
    "- Horizontal axis (classes, midpoints, class boundaries)\n",
    "- Vertical axis (frequency, relative frequncy)"
   ]
  },
  {
   "cell_type": "markdown",
   "id": "61d5827a-57a2-4377-9315-c384c79cf51f",
   "metadata": {},
   "source": [
    "So if we are going to plot the age dataframe we can get create its histogram."
   ]
  },
  {
   "cell_type": "code",
   "execution_count": 39,
   "id": "0f200763-c8cd-4c01-a8a3-ce5cac784ad4",
   "metadata": {},
   "outputs": [
    {
     "data": {
      "image/png": "[encoded data removed]",
      "text/plain": [
       "<Figure size 640x480 with 1 Axes>"
      ]
     },
     "metadata": {},
     "output_type": "display_data"
    }
   ],
   "source": [
    "# unfortunately we can't create a tru histogram for the age data but we can do the bar graph\n",
    "plt.bar(age['midpoint'], age['frequency'], width = 5)\n",
    "plt.xlabel('midpoints')\n",
    "plt.ylabel('Frequency')\n",
    "plt.show()"
   ]
  },
  {
   "cell_type": "markdown",
   "id": "f5d20fe6-df10-4ee1-a9a9-ba0fb2a5162a",
   "metadata": {},
   "source": [
    "## Chapter 4: Finding the Center of Dataset"
   ]
  },
  {
   "cell_type": "markdown",
   "id": "2dd270b3-8251-41ca-a460-c840ad4aa819",
   "metadata": {},
   "source": [
    "We are still analyzing and summarizing the data."
   ]
  },
  {
   "cell_type": "markdown",
   "id": "b2cbf216-cd08-45d7-9e47-5f0daf42ee83",
   "metadata": {},
   "source": [
    "We are still describing data: (To describe the data we can go to these 5 charatceristics)\n",
    "1. Center\n",
    "2. Variation\n",
    "3. Distribution\n",
    "4. Outliers\n",
    "5. Changes over time"
   ]
  },
  {
   "cell_type": "markdown",
   "id": "c67539cf-40d0-4054-8750-657678444951",
   "metadata": {},
   "source": [
    "#### Center:\n",
    "When we say **center**, we can think of this as the middle of our dataset. <br>\n",
    "It's like saying what value is most of our data surrounding."
   ]
  },
  {
   "cell_type": "markdown",
   "id": "c4f27061-3adc-477e-928e-f0f3b9b82a94",
   "metadata": {},
   "source": [
    "We have 3 ways to get the center:\n",
    "1. Mean <br> <br> $\\bar{x} = \\dfrac{\\Sigma x}{n}$, $\\mu = \\dfrac{\\Sigma x}{N}$\n",
    "2. Median\n",
    "    * Why have median? \n",
    "4. Mode"
   ]
  },
  {
   "cell_type": "markdown",
   "id": "c88cfd2f-de43-4888-a92a-55f3985c89a0",
   "metadata": {},
   "source": [
    "With mean, Prof Leonard gave the sample data:"
   ]
  },
  {
   "cell_type": "code",
   "execution_count": 40,
   "id": "3d24266a-29c3-4109-80e8-213fdb79aa94",
   "metadata": {},
   "outputs": [
    {
     "name": "stdout",
     "output_type": "stream",
     "text": [
      "0    5.40\n",
      "1    1.10\n",
      "2    0.42\n",
      "3    0.73\n",
      "4    0.48\n",
      "5    1.10\n",
      "Name: sample data, dtype: float64\n",
      "Mean: 1.54\n"
     ]
    }
   ],
   "source": [
    "carwashexp = pd.Series([5.40, 1.10, 0.42, 0.73, 0.48, 1.10], name = 'sample data')\n",
    "print(carwashexp)\n",
    "print(\"Mean:\", round(carwashexp.mean(), 2))"
   ]
  },
  {
   "cell_type": "markdown",
   "id": "af2b5a70-ae2a-48e8-97d5-a4b0884d273d",
   "metadata": {},
   "source": [
    "**Question:** is 1.54 in our sample dataset? What does it tell about your data? <br>\n",
    "**Answer:** It does not have to be it just tells you that this is the number where each data is closed to, it is the expected value."
   ]
  },
  {
   "cell_type": "markdown",
   "id": "d9b2bf8e-64ef-4900-b278-dd52b905dbf5",
   "metadata": {},
   "source": [
    "With median, he gave the sample dataset:"
   ]
  },
  {
   "cell_type": "code",
   "execution_count": 41,
   "id": "599bc640-3e85-4dfd-9d24-6e8547cca085",
   "metadata": {},
   "outputs": [
    {
     "name": "stdout",
     "output_type": "stream",
     "text": [
      "0.915\n"
     ]
    }
   ],
   "source": [
    "print(carwashexp.median())"
   ]
  },
  {
   "cell_type": "markdown",
   "id": "891f30c4-1683-4a79-8c4a-aea76e31cb7b",
   "metadata": {},
   "source": [
    "**Note:** If I change a datum in the series, it affects the mean but it does not affect the median. <b>This is why we get the median</b>. That's why when we get income we don't use mean because there are millionaires and that data does not represent the data really well."
   ]
  },
  {
   "cell_type": "markdown",
   "id": "35bd9c21-d51a-4368-a842-4d8af6f2c4ab",
   "metadata": {},
   "source": [
    "With mode, the same data was used:"
   ]
  },
  {
   "cell_type": "code",
   "execution_count": 42,
   "id": "cf869bae-bb2f-41e9-b4ba-ac60c04a684c",
   "metadata": {},
   "outputs": [
    {
     "name": "stdout",
     "output_type": "stream",
     "text": [
      "0    1.1\n",
      "Name: sample data, dtype: float64\n"
     ]
    }
   ],
   "source": [
    "print(carwashexp.mode()) # this return a series"
   ]
  },
  {
   "cell_type": "markdown",
   "id": "b5b2a39d-f6bc-428c-bd15-4c7010ead32a",
   "metadata": {},
   "source": [
    "Remember that you can have more than one modes"
   ]
  },
  {
   "cell_type": "markdown",
   "id": "3a07fc7d-51ec-402b-8173-11f9595019e2",
   "metadata": {},
   "source": [
    "### 4.1. Finding the Mean of a Frequency Distribution\n",
    "We can't really get the exact mean in here cause we don't know the exact value of each data."
   ]
  },
  {
   "cell_type": "code",
   "execution_count": 43,
   "id": "5acd4bc1-f786-4cc2-a8f8-28f4541058b1",
   "metadata": {},
   "outputs": [
    {
     "name": "stdout",
     "output_type": "stream",
     "text": [
      "     Age  freq\n",
      "0  21-30    28\n",
      "1  31-40    30\n",
      "2  41-50    12\n",
      "3  51-60     2\n",
      "4  61-70     2\n",
      "5  71-80     2\n"
     ]
    }
   ],
   "source": [
    "df = pd.DataFrame({'Age':['21-30', '31-40', '41-50', '51-60', '61-70', '71-80'], 'freq':[28, 30, 12, 2, 2, 2]})\n",
    "print(df)"
   ]
  },
  {
   "cell_type": "code",
   "execution_count": 44,
   "id": "c50e327c-a75b-439f-8169-2ea9ff2c63c1",
   "metadata": {},
   "outputs": [
    {
     "name": "stdout",
     "output_type": "stream",
     "text": [
      "     Age  freq  midpoint (x)\n",
      "0  21-30    28          25.5\n",
      "1  31-40    30          35.5\n",
      "2  41-50    12          45.5\n",
      "3  51-60     2          55.5\n",
      "4  61-70     2          65.5\n",
      "5  71-80     2          75.5\n"
     ]
    }
   ],
   "source": [
    "startMp = 25.5\n",
    "midpoint = []\n",
    "for i in range(6):\n",
    "    midpoint.append(startMp)\n",
    "    startMp += 10\n",
    "df['midpoint (x)'] = midpoint\n",
    "print(df)"
   ]
  },
  {
   "cell_type": "markdown",
   "id": "5b434995-538a-4251-89f1-e524f9300fcb",
   "metadata": {},
   "source": [
    "**ANKI THIS:**<br>This is the approach or the thought process when taking the average of a frequency distribution: **\"Since I do not what's what, I'm gonna pick a single value that represents a class, and that value is the class midpoint\"**."
   ]
  },
  {
   "cell_type": "markdown",
   "id": "0f37552b-11fd-4005-af68-8e939f5ac1fa",
   "metadata": {},
   "source": [
    "So we are multiplying that representation to the frequency:"
   ]
  },
  {
   "cell_type": "code",
   "execution_count": 45,
   "id": "268a0cb4-63b4-4c27-abed-bad014388c63",
   "metadata": {},
   "outputs": [
    {
     "name": "stdout",
     "output_type": "stream",
     "text": [
      "     Age  freq  midpoint (x)    f(x)\n",
      "0  21-30    28          25.5   714.0\n",
      "1  31-40    30          35.5  1065.0\n",
      "2  41-50    12          45.5   546.0\n",
      "3  51-60     2          55.5   111.0\n",
      "4  61-70     2          65.5   131.0\n",
      "5  71-80     2          75.5   151.0\n"
     ]
    }
   ],
   "source": [
    "df['f(x)'] = df['freq'] * df['midpoint (x)']\n",
    "print(df)"
   ]
  },
  {
   "cell_type": "markdown",
   "id": "f081077d-27ec-4303-a038-a9c683dada69",
   "metadata": {},
   "source": [
    "**ANKI THIS:** So if we add f(x) and multiply it to the total number of participants we get the mean. Kind of like weighted mean. $$ \\bar{x} = \\dfrac{\\Sigma f(x)}{n} $$"
   ]
  },
  {
   "cell_type": "code",
   "execution_count": 50,
   "id": "3e5bcd7a-1ab4-4523-8828-c503eba0074c",
   "metadata": {
    "scrolled": true
   },
   "outputs": [
    {
     "name": "stdout",
     "output_type": "stream",
     "text": [
      "Approximated mean of the grouped data: 35.76\n"
     ]
    }
   ],
   "source": [
    "meanGrouped = round(df['f(x)'].sum() / df['freq'].sum(), 2)\n",
    "print(\"Approximated mean of the grouped data:\", meanGrouped)"
   ]
  },
  {
   "cell_type": "markdown",
   "id": "c1c8b0eb-b0a9-4b99-a976-08356e8da16d",
   "metadata": {},
   "source": [
    "**Can you get the mode and the median of the grouped data?**"
   ]
  },
  {
   "cell_type": "markdown",
   "id": "05414033-c620-4199-8318-eeee7596b4ce",
   "metadata": {},
   "source": [
    "## Chapter 5: Variation\n",
    "- Calculates how the data is spread apart\n",
    "- Relates this to the bank experiment: The situation, a man devised different approach to come up to the bank teller and he noted the time and got the data\n",
    "    * What does this answer?\n",
    "    * Mean is not enough to represent the data."
   ]
  },
  {
   "cell_type": "code",
   "execution_count": 51,
   "id": "ab2e8bd3-f029-479b-bd10-58b9948c9b97",
   "metadata": {},
   "outputs": [
    {
     "name": "stdout",
     "output_type": "stream",
     "text": [
      "    Bank 1  Bank 2  Bank 3\n",
      "c1       6       4       1\n",
      "c2       6       7       3\n",
      "c3       6       7      14\n"
     ]
    }
   ],
   "source": [
    "bankdf = pd.DataFrame({'Bank 1': [6, 6, 6], 'Bank 2': [4, 7, 7], 'Bank 3': [1, 3, 14]}, index = ['c1', 'c2', 'c3'])\n",
    "print(bankdf)"
   ]
  },
  {
   "cell_type": "code",
   "execution_count": 54,
   "id": "11502844-64ec-4dfc-9e78-d9f69c6be5d5",
   "metadata": {},
   "outputs": [
    {
     "name": "stdout",
     "output_type": "stream",
     "text": [
      "Bank 1 mean:  6.0\n",
      "Bank 2 mean:  6.0\n",
      "Bank 3 mean:  6.0\n"
     ]
    }
   ],
   "source": [
    "b1meanWait = bankdf['Bank 1'].mean()\n",
    "b2meanWait = bankdf['Bank 2'].mean()\n",
    "b3meanWait = bankdf['Bank 3'].mean()\n",
    "print('Bank 1 mean: ', b1meanWait)\n",
    "print('Bank 2 mean: ', b2meanWait)\n",
    "print('Bank 3 mean: ', b3meanWait)"
   ]
  },
  {
   "cell_type": "markdown",
   "id": "60e4f22d-26f3-4cce-aed9-839d99abb4aa",
   "metadata": {},
   "source": [
    "<b>How is this related?</b>\n",
    "If we have the same mean, are they all the same dataset? They have different waiting time. Lucky we can measure the spread of our data."
   ]
  },
  {
   "cell_type": "markdown",
   "id": "51848c74-73f9-430d-90cf-650d20699b4d",
   "metadata": {},
   "source": [
    "### 5.1. Ways to measure variation\n",
    "1. **Range**\n",
    "    - Why use? It is easy (max - min)\n",
    "    - For a downfall, to narrow down only to two, it does not represent the entire data\n",
    "2. **Standard deviation**\n",
    "    - Standard means average, deviation means how far away (separation from the mean)\n",
    "    - Calculates the average distance your data values are from the mean. (if mean can be not good, why use it?)\n",
    "    - denoted by 's' sample standard deviation\n",
    "    - char: it can't be negative\n",
    "    - never zero unless all the values are the same\n",
    "    - greatly affected by the outliers"
   ]
  },
  {
   "cell_type": "markdown",
   "id": "f0ec8628-9736-41a6-883c-17abf10fd1e7",
   "metadata": {},
   "source": [
    "#### Sample standard deviation:<br>\n",
    "$$ s = \\sqrt{\\dfrac{\\Sigma (x-\\bar{x})^2}{n - 1}} $$ <br>\n",
    "why n - 1? Takes your sample and lowers it by 1 number, it's overestimating and we want that because we are using a sample."
   ]
  },
  {
   "cell_type": "markdown",
   "id": "cb5a5ed2-aa63-4775-82e7-209db7a5dabd",
   "metadata": {},
   "source": [
    "There's another formula: <br>\n",
    "$$ s = \\sqrt{\\dfrac{n\\Sigma (x^2) - (\\Sigma x)^2}{n(n-1)}} $$ <br>\n",
    "In this one, we can not have the mean."
   ]
  },
  {
   "cell_type": "markdown",
   "id": "9a90059a-3d71-4c5d-8360-f7788860f96a",
   "metadata": {},
   "source": [
    "The formula for the population is: <br>\n",
    "$$ \\sigma = \\sqrt{\\dfrac{\\Sigma(x - \\mu)^2}{N}}$$ "
   ]
  },
  {
   "cell_type": "code",
   "execution_count": 56,
   "id": "6ef1a516-3e1c-4b4b-a967-adf96c0a9369",
   "metadata": {},
   "outputs": [
    {
     "name": "stdout",
     "output_type": "stream",
     "text": [
      "    Bank 1  Bank 2  Bank 3\n",
      "c1       6       4       1\n",
      "c2       6       7       3\n",
      "c3       6       7      14\n"
     ]
    }
   ],
   "source": [
    "# we will use this\n",
    "print(bankdf) "
   ]
  },
  {
   "cell_type": "code",
   "execution_count": 71,
   "id": "149bbfd5-da91-4a62-b674-d9ed6d4a1968",
   "metadata": {},
   "outputs": [
    {
     "name": "stdout",
     "output_type": "stream",
     "text": [
      "Standard deviation:  7.0\n"
     ]
    }
   ],
   "source": [
    "# calculating std dev. of the third bank.\n",
    "print(\"Standard deviation: \", bankdf['Bank 3'].std())"
   ]
  },
  {
   "cell_type": "code",
   "execution_count": 62,
   "id": "7d0c9df7-066a-4340-8ad9-c86298419103",
   "metadata": {},
   "outputs": [
    {
     "name": "stdout",
     "output_type": "stream",
     "text": [
      "    Bank 3  x - mean\n",
      "c1       1        -5\n",
      "c2       3        -3\n",
      "c3      14         8\n"
     ]
    }
   ],
   "source": [
    "# calculating it manually\n",
    "# 1. Get the difference\n",
    "thrdbankdf = bankdf.drop(columns = ['Bank 1', 'Bank 2'])\n",
    "thrdbankdf['x - mean'] = thrdbankdf - 6\n",
    "print(thrdbankdf)"
   ]
  },
  {
   "cell_type": "code",
   "execution_count": 65,
   "id": "7b011514-9058-4581-b173-b1ce50c36908",
   "metadata": {},
   "outputs": [
    {
     "name": "stdout",
     "output_type": "stream",
     "text": [
      "    Bank 3  x - mean  (x-mean)^2\n",
      "c1       1        -5          25\n",
      "c2       3        -3           9\n",
      "c3      14         8          64\n"
     ]
    }
   ],
   "source": [
    "thrdbankdf['(x-mean)^2'] = (thrdbankdf['x - mean'])**2\n",
    "print(thrdbankdf)"
   ]
  },
  {
   "cell_type": "code",
   "execution_count": 70,
   "id": "b2b833a8-4bba-4b26-9383-c638f2875492",
   "metadata": {},
   "outputs": [
    {
     "name": "stdout",
     "output_type": "stream",
     "text": [
      "Standard deviation:  7.0\n"
     ]
    }
   ],
   "source": [
    "from math import sqrt\n",
    "sumsqdiff = thrdbankdf['(x-mean)^2'].sum()\n",
    "denum = 3 - 1 # n - 1\n",
    "stddev = sqrt(sumsqdiff / denum)\n",
    "print(\"Standard deviation: \", stddev)"
   ]
  },
  {
   "cell_type": "markdown",
   "id": "532835c7-9cc6-442e-89f7-bf7a5e0c6e11",
   "metadata": {},
   "source": [
    "**They are the same, cool!** We can use the other one but it is just a substitution."
   ]
  },
  {
   "cell_type": "markdown",
   "id": "7695cd5c-dee0-4f55-914c-7772f20bfd12",
   "metadata": {},
   "source": [
    "#### Variance\n",
    "We can also measure dispersion using variance, but not as used as standard deviation\n",
    "$\\text{Sample variance: }\\space s^2 $<br>\n",
    "$ \\text{Population variance: }\\space \\sigma^2 $"
   ]
  },
  {
   "cell_type": "code",
   "execution_count": null,
   "id": "f5616f9d-3667-42d3-928b-d058ee4a5ca9",
   "metadata": {},
   "outputs": [],
   "source": []
  }
 ],
 "metadata": {
  "kernelspec": {
   "display_name": "Python 3 (ipykernel)",
   "language": "python",
   "name": "python3"
  },
  "language_info": {
   "codemirror_mode": {
    "name": "ipython",
    "version": 3
   },
   "file_extension": ".py",
   "mimetype": "text/x-python",
   "name": "python",
   "nbconvert_exporter": "python",
   "pygments_lexer": "ipython3",
   "version": "3.12.9"
  }
 },
 "nbformat": 4,
 "nbformat_minor": 5
}
