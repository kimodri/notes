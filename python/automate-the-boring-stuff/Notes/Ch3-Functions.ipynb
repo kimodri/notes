{
 "cells": [
  {
   "cell_type": "markdown",
   "id": "065842fb-c062-4797-8d58-4b244b4ddd6c",
   "metadata": {},
   "source": [
    "# Chapter 3\n",
    "## Functions"
   ]
  },
  {
   "cell_type": "markdown",
   "id": "4a0bd733-c1d0-4941-a57d-44c468228277",
   "metadata": {},
   "source": [
    "### THE NONE VALUE:"
   ]
  },
  {
   "cell_type": "markdown",
   "id": "e41ed655-f4b1-4aff-9033-148404025c9e",
   "metadata": {},
   "source": [
    "None - value that the function returns when it does not return any value"
   ]
  },
  {
   "cell_type": "code",
   "execution_count": 1,
   "id": "ea6a2cc1-cb4d-4aa8-93bd-ddb680ad016c",
   "metadata": {},
   "outputs": [
    {
     "name": "stdout",
     "output_type": "stream",
     "text": [
      "Hello World!\n",
      "None\n"
     ]
    }
   ],
   "source": [
    "print(print(\"Hello World!\"))"
   ]
  },
  {
   "cell_type": "markdown",
   "id": "b1f57d51-2dd1-4ddd-80b5-f797cf0c21f0",
   "metadata": {},
   "source": [
    "#### THE DIFFERENCE BETWEEN ARGUMENTS & KEYWORD ARGUMENTS:"
   ]
  },
  {
   "cell_type": "code",
   "execution_count": 2,
   "id": "b106e68b-714a-4859-bb21-793f2f1eefe3",
   "metadata": {},
   "outputs": [
    {
     "name": "stdout",
     "output_type": "stream",
     "text": [
      "cats & dogs\n"
     ]
    }
   ],
   "source": [
    "# just arguments \n",
    "# The values that you pass to a function\n",
    "\n",
    "def swap(a, b):\n",
    "    temp = a;\n",
    "    a = b;\n",
    "    b = temp;\n",
    "swap(1, 2)\n",
    "\n",
    "# keyword arguments\n",
    "# does not matter the arrangement\n",
    "print(\"cats\", \"dogs\", sep = ' & ')"
   ]
  },
  {
   "cell_type": "markdown",
   "id": "dcb6d4b5-ad79-41ad-a74d-ae78c8e8e3be",
   "metadata": {},
   "source": [
    "#### THE GLOBAL STATEMENT\n",
    "You use the global statement if you want to manipulate a global variable within a function"
   ]
  },
  {
   "cell_type": "code",
   "execution_count": 3,
   "id": "3e42c2a4-2848-4c2e-8548-ce18a25cba12",
   "metadata": {},
   "outputs": [
    {
     "name": "stdout",
     "output_type": "stream",
     "text": [
      "69\n"
     ]
    }
   ],
   "source": [
    "def spam():\n",
    "    global eggs\n",
    "    eggs = 69\n",
    "    \n",
    "eggs = 1\n",
    "spam()\n",
    "print(eggs)"
   ]
  },
  {
   "cell_type": "markdown",
   "id": "5f8c4c9c-e52f-45ac-aa4d-255888289598",
   "metadata": {},
   "source": [
    "### EXCEPTION HANDLING:"
   ]
  },
  {
   "cell_type": "code",
   "execution_count": 26,
   "id": "d6c99472-57bf-49a5-a55e-0a746167d170",
   "metadata": {
    "scrolled": true
   },
   "outputs": [
    {
     "name": "stdout",
     "output_type": "stream",
     "text": [
      "21.0\n",
      "3.5\n",
      "You divided with zero.\n",
      "42.0\n"
     ]
    }
   ],
   "source": [
    "def spam(a):\n",
    "    try:\n",
    "        return 42 / a\n",
    "    except ZeroDivisionError: # it works here even if the \"ZeroDivision ... \" is not here\n",
    "        return (\"You divided with zero.\")\n",
    "    \n",
    "print(spam(2))\n",
    "print(spam(12))\n",
    "print(spam(0))\n",
    "print(spam(1))"
   ]
  },
  {
   "cell_type": "code",
   "execution_count": 1,
   "id": "35d28220-e7c3-4fcc-bc42-10c0977b843f",
   "metadata": {},
   "outputs": [
    {
     "name": "stdout",
     "output_type": "stream",
     "text": [
      "21.0\n",
      "3.5\n",
      "You divided with zero.\n",
      "42.0\n"
     ]
    }
   ],
   "source": [
    "def spam(a):\n",
    "        return 42 / a\n",
    "\n",
    "    \n",
    "print(spam(2))\n",
    "print(spam(12))\n",
    "try:\n",
    "    print(spam(0))\n",
    "except ZeroDivisionError: # it works here even if the \"ZeroDivision ... \" is not here\n",
    "    print(\"You divided with zero.\")\n",
    "print(spam(1))"
   ]
  },
  {
   "cell_type": "code",
   "execution_count": null,
   "id": "46d6bc90-ca00-40ea-a96c-8c4a88871fc2",
   "metadata": {},
   "outputs": [],
   "source": []
  }
 ],
 "metadata": {
  "kernelspec": {
   "display_name": "Python 3 (ipykernel)",
   "language": "python",
   "name": "python3"
  },
  "language_info": {
   "codemirror_mode": {
    "name": "ipython",
    "version": 3
   },
   "file_extension": ".py",
   "mimetype": "text/x-python",
   "name": "python",
   "nbconvert_exporter": "python",
   "pygments_lexer": "ipython3",
   "version": "3.11.5"
  }
 },
 "nbformat": 4,
 "nbformat_minor": 5
}
