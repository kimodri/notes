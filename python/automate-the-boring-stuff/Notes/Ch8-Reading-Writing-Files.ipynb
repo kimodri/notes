{
 "cells": [
  {
   "cell_type": "markdown",
   "id": "677a855a-c113-4f02-a977-ef5730f823f1",
   "metadata": {},
   "source": [
    "# Reading and Writing Files"
   ]
  },
  {
   "cell_type": "markdown",
   "id": "fc13306a-be3d-427d-99e0-c34a8b5afdd4",
   "metadata": {},
   "source": [
    "## 1. Paths and Files <hr> \n",
    "#### 1.1 BACKSLASH ON WINDOWS & FORWARD SLASH ON OS & LINUX & THE os.path.join()\n",
    "Windows uses the backslash while OS and Linux use the forward slash as their path separator. <br><b>If you use different PC then it will return different strings</b>\n",
    "\n",
    "- If you want your programs to work on all operating systems, you can use: \n",
    "<b>os.path.join()</b> function"
   ]
  },
  {
   "cell_type": "code",
   "execution_count": 7,
   "id": "dea81247-44e9-49bd-a378-3f95790c8668",
   "metadata": {},
   "outputs": [
    {
     "name": "stdout",
     "output_type": "stream",
     "text": [
      "usr\\bin\\spam\n",
      "MyPythonScripts\\user\\Desktop\n"
     ]
    }
   ],
   "source": [
    "import os\n",
    "# If you pass the name of the folders and file it will return a string of the path that\n",
    "# will work in all the OS\n",
    "print(os.path.join('usr', 'bin', 'spam'))\n",
    "print(os.path.join('MyPythonScripts', 'user', 'Desktop'))"
   ]
  },
  {
   "cell_type": "code",
   "execution_count": 20,
   "id": "f5af7880-1cfe-4a07-bb93-9cfc9734d692",
   "metadata": {},
   "outputs": [
    {
     "name": "stdout",
     "output_type": "stream",
     "text": [
      "C:\\Users\\asweigart\\a.txt\n",
      "C:\\Users\\asweigart\\b.txt\n",
      "C:\\Users\\asweigart\\c.txt\n"
     ]
    }
   ],
   "source": [
    "# sometimes it's a good technique to get the paths from a list\n",
    "myFiles = ['a.txt', 'b.txt', 'c.txt']\n",
    "for filename in myFiles:\n",
    "    print(os.path.join('C:\\\\Users\\\\asweigart', filename))"
   ]
  },
  {
   "cell_type": "markdown",
   "id": "53b9c696-55b9-4bd9-9246-12cda0da9c48",
   "metadata": {},
   "source": [
    "#### 1.2 THE CWD\n",
    "\n",
    "- os.getcwd()\n",
    "- os.chdir()"
   ]
  },
  {
   "cell_type": "code",
   "execution_count": 9,
   "id": "1285d766-a2d7-41b9-a585-473ed64d5d19",
   "metadata": {},
   "outputs": [
    {
     "data": {
      "text/plain": [
       "'C:\\\\Users\\\\magan\\\\Desktop\\\\Automate the Boring Stuff'"
      ]
     },
     "execution_count": 9,
     "metadata": {},
     "output_type": "execute_result"
    }
   ],
   "source": [
    "os.getcwd()"
   ]
  },
  {
   "cell_type": "code",
   "execution_count": 6,
   "id": "3209f1e3-7466-4da7-a3b1-04dc5cb568b3",
   "metadata": {},
   "outputs": [
    {
     "data": {
      "text/plain": [
       "'C:\\\\Windows\\\\System32'"
      ]
     },
     "execution_count": 6,
     "metadata": {},
     "output_type": "execute_result"
    }
   ],
   "source": [
    "os.chdir(\"C:\\\\Windows\\\\System32\")\n",
    "os.getcwd()"
   ]
  },
  {
   "cell_type": "markdown",
   "id": "7d6a1c7f-6f41-493a-8c9c-ee0a84165072",
   "metadata": {},
   "source": [
    "#### 1.3 ABSOLUTE vs. RELATIVE PATHS\n",
    "- '..' refers to the parent folder\n",
    "- '.' refers to the folder "
   ]
  },
  {
   "cell_type": "markdown",
   "id": "81aa5168-015a-4eb5-93ec-1ef07ce295eb",
   "metadata": {},
   "source": [
    "#### 1.4 CREATING NEW FOLDERS\n",
    "You can create folders with os.makedirs()"
   ]
  },
  {
   "cell_type": "code",
   "execution_count": 22,
   "id": "423609d0-584f-41e5-a86c-1f4dc50c04e2",
   "metadata": {},
   "outputs": [
    {
     "name": "stdout",
     "output_type": "stream",
     "text": [
      "This is for creating folders\n"
     ]
    }
   ],
   "source": [
    "# os.makedirs('C:\\\\delicious\\\\wallnut\\\\waffles')\n",
    "print(\"This is for creating folders\")"
   ]
  },
  {
   "cell_type": "markdown",
   "id": "1c2608c1-c115-427f-bac2-80281fd6740f",
   "metadata": {},
   "source": [
    "#### 1.5. HANDLING ABS & REL PATHS\n",
    "- <b>os.path.abspath(<i>path</i>)</b>\n",
    "  - returns a string of the absolute path\n",
    "- <b>os.path.isabs(<i>path</i>)</b>\n",
    "  - returns True if the path is absolute\n",
    "- <b>os.path.relpath(<i>path</i>, start)</b>\n",
    "  - returns a string of rel path from start path to path  "
   ]
  },
  {
   "cell_type": "code",
   "execution_count": 9,
   "id": "d662bea7-1577-48a6-b5cc-27c7f90830de",
   "metadata": {},
   "outputs": [
    {
     "name": "stdout",
     "output_type": "stream",
     "text": [
      "After changing the dir: C:\\users\\magan\\Desktop\\Automate The Boring Stuff\n",
      "C:\\users\\magan\\Desktop\\Automate The Boring Stuff\n",
      "C:\\users\\magan\\Desktop\\Automate The Boring Stuff\\Answers to Practice Questions\n",
      "After changing the dir: C:\\users\\magan\\desktop\\pdf\n",
      "C:\\users\\magan\\desktop\\pdf\n"
     ]
    }
   ],
   "source": [
    "import os\n",
    "os.chdir(\"C:\\\\users\\\\magan\\\\Desktop\\\\Automate The Boring Stuff\")\n",
    "print(\"After changing the dir: \" + os.getcwd())\n",
    "print(os.path.abspath('.')) #abs path of the cwd\n",
    "print(os.path.abspath(\".\\\\Answers to Practice Questions\"))\n",
    "os.chdir(os.path.join(\"\\\\\", \"users\", \"magan\", \"desktop\", \"pdf\"))\n",
    "print(\"After changing the dir: \" + os.getcwd())\n",
    "print(os.path.abspath('.'))"
   ]
  },
  {
   "cell_type": "code",
   "execution_count": 6,
   "id": "6f6074d8-fe79-4584-a0db-793bdaa17830",
   "metadata": {},
   "outputs": [
    {
     "name": "stdout",
     "output_type": "stream",
     "text": [
      "C:\\Users\\magan\\Desktop\\Automate the Boring Stuff\n",
      "True\n",
      "C:\\Users\\magan\\Desktop\\Automate the Boring Stuff\n"
     ]
    }
   ],
   "source": [
    "import os\n",
    "print(os.getcwd()) # gets the cwd\n",
    "print(os.path.isabs(os.getcwd())) # checks if the getcwd function returns an abolute path\n",
    "print(os.path.abspath('.')) # returns the absolute path of the cwd"
   ]
  },
  {
   "cell_type": "markdown",
   "id": "567bab0b-8c82-4052-8ef7-928ea53d1427",
   "metadata": {},
   "source": [
    "#### 1.6. USING THE relpath()\n",
    "- <b>relpath(path, start)</b>: returns a string from start path to path if start not provided it start at the cwd"
   ]
  },
  {
   "cell_type": "code",
   "execution_count": 11,
   "id": "16fb5252-3123-4157-a65b-55296118289a",
   "metadata": {},
   "outputs": [
    {
     "name": "stdout",
     "output_type": "stream",
     "text": [
      "Windows\n",
      "..\\..\\Windows\n",
      "C:\\Users\\magan\\Desktop\\Automate the Boring Stuff\n"
     ]
    }
   ],
   "source": [
    "print(os.path.relpath(\"C:\\\\Windows\", \"C:\\\\\"))\n",
    "print(os.path.relpath(\"C:\\\\Windows\", \"C:\\\\Spam\\\\Eggs\"))\n",
    "print(os.getcwd())"
   ]
  },
  {
   "cell_type": "markdown",
   "id": "00854eed-2926-4b6f-a500-e895dc58584d",
   "metadata": {},
   "source": [
    "#### 1.7. GETTING THE BASE AND THE DIR NAME\n",
    "You can use: <br>\n",
    "C:\\Windows\\System32\\calc.exe <br>\n",
    "----dir name-- <t><t>    --base name--\n",
    "\n",
    "- <b>os.path.dirname(path)</b>: to get anything that comes before the last slash\n",
    "- <b>os.path.basename(path)</b>: to get the thing that comes after the last slash\n",
    "- <b>os.path.split(path)</b>: returns you a tuple of both dir and base name\n"
   ]
  },
  {
   "cell_type": "code",
   "execution_count": 16,
   "id": "54aa23df-f044-411d-aff2-4cabaeea1604",
   "metadata": {},
   "outputs": [
    {
     "name": "stdout",
     "output_type": "stream",
     "text": [
      "C:\\Users\\magan\\Desktop\\pdf\n",
      "Automate the Boring Stuff with Python_ Practical Programming for Total Beginners.pdf\n",
      "('C:\\\\Users\\\\magan\\\\Desktop\\\\pdf', 'Automate the Boring Stuff with Python_ Practical Programming for Total Beginners.pdf')\n"
     ]
    }
   ],
   "source": [
    "path = r\"C:\\Users\\magan\\Desktop\\pdf\\Automate the Boring Stuff with Python_ Practical Programming for Total Beginners.pdf\"\n",
    "print(os.path.dirname(path))\n",
    "print(os.path.basename(path))\n",
    "print(os.path.split(path))"
   ]
  },
  {
   "cell_type": "markdown",
   "id": "705f510e-88d7-49f8-b47e-fd1b6be6ba52",
   "metadata": {},
   "source": [
    "If you want to get the each folder from a path: <br>\n",
    "then use the string method split()\n",
    "<b> BUT</b> use the <b>os.path.sep</b>"
   ]
  },
  {
   "cell_type": "code",
   "execution_count": 19,
   "id": "9b3ec7da-cfd3-4fd9-8e41-d098f6aeb502",
   "metadata": {},
   "outputs": [
    {
     "name": "stdout",
     "output_type": "stream",
     "text": [
      "['C:', 'Users', 'magan', 'AppData', 'Roaming', 'Microsoft', 'Windows', 'Start Menu', 'Programs', 'Python 3.11', 'Python 3.11 (64-bit).lnk']\n"
     ]
    }
   ],
   "source": [
    "path = r\"C:\\Users\\magan\\AppData\\Roaming\\Microsoft\\Windows\\Start Menu\\Programs\\Python 3.11\\Python 3.11 (64-bit).lnk\"\n",
    "myFolderList = path.split(os.path.sep)\n",
    "print(myFolderList)"
   ]
  },
  {
   "cell_type": "markdown",
   "id": "dc7c70c5-0a68-4dae-950c-c509ac27d8fb",
   "metadata": {},
   "source": [
    "## 2. Finding File Sizes and Folder Contents<hr>\n",
    "Once you know how to handle paths. You can now get info about sizes and folders."
   ]
  },
  {
   "cell_type": "markdown",
   "id": "eac16adf-ef2c-4494-892b-f25b4f617ca7",
   "metadata": {},
   "source": [
    "#### 2.1. File sizes and folder contents\n",
    "- <b>os.path.getsize(path)</b>: Returns the size in <b>bytes</b>.\n",
    "- <b>os.listdir(path)</b>: Returns a list of filenames in strings."
   ]
  },
  {
   "cell_type": "code",
   "execution_count": 2,
   "id": "17014226-8db6-4943-9982-aa5b55e5102b",
   "metadata": {},
   "outputs": [
    {
     "name": "stdout",
     "output_type": "stream",
     "text": [
      "['Automate the Boring Stuff with Python_ Practical Programming for Total Beginners.pdf', 'Grp 2 _ Aristotle - Manuscript - short bond (1)-compressed-merged.pdf', 'Instructional Materials in Calculus 1 - For Online Class .pdf', 'KIM AUDREY MAGAN.pdf', 'Lecture 4 - CS50x 2024.pdf', 'MAGAN COMP 003 Activity 3(1).pdf', 'MAGAN COMP 003 Activity 3(2).pdf', 'MAGAN ICEBERG CONCEPT OF CULTURE.pdf', 'MAGAN Reaksyong Papel.pdf', 'MAGAN-Pagsasalin_Gitnang Pagsusulit.pdf', 'OUTPUT.pdf', 'Tuttle Pocket Tagalog Dicti_ (Z-Library).pdf']\n",
      "[17838192, 3387952, 4077427, 76428, 1389446, 74068, 35600, 134728, 121513, 235533, 37734, 4221755]\n"
     ]
    }
   ],
   "source": [
    "import os\n",
    "path = r\"C:\\Users\\magan\\Desktop\\pdf\"\n",
    "fileList = os.listdir(path)\n",
    "myFileSizeList = []\n",
    "# fileNum = len(fileList) can be useful with dictionaries\n",
    "for file in fileList:\n",
    "    myFileSizeList.append(os.path.getsize(os.path.join(path, file)))\n",
    "print(fileList)\n",
    "print(myFileSizeList)"
   ]
  },
  {
   "cell_type": "markdown",
   "id": "9bdebd03-20ec-4820-8b93-8d9aaf91c466",
   "metadata": {},
   "source": [
    "#### 2.2 Checking Path Validity\n",
    "- <b>os.path.exists(path)</b>: True if the file or folder exists\n",
    "- <b>os.path.isfile(path)</b>: True if a pathargument exists and is a file\n",
    "- <b>os.path.isdir(path)</b>: True if a path argument exists and is a folder"
   ]
  },
  {
   "cell_type": "code",
   "execution_count": 30,
   "id": "2854dddc-fe03-4106-9f26-311b9082b74c",
   "metadata": {},
   "outputs": [
    {
     "name": "stdout",
     "output_type": "stream",
     "text": [
      "True\n",
      "True\n",
      "True\n",
      "False\n",
      "False\n"
     ]
    }
   ],
   "source": [
    "path = r\"C:\\Users\\magan\\Desktop\\pdf\"\n",
    "pathDir = r\"C:\\Users\\magan\\Desktop\\pdf\"\n",
    "pathFile = r\"C:\\Users\\magan\\Desktop\\pdf\\OUTPUT.pdf\"\n",
    "print(os.path.exists(path)) # Should return true\n",
    "print(os.path.isdir(pathDir)) # Should return true\n",
    "print(os.path.isfile(pathFile)) # True\n",
    "print(os.path.isdir(pathFile)) # False\n",
    "print(os.path.isfile(pathDir)) # False"
   ]
  },
  {
   "cell_type": "markdown",
   "id": "b47d8da3-6c19-47a8-97b5-39571578ea46",
   "metadata": {},
   "source": [
    "<b>check if a flash drive exists</b><br>By using the <i>os.path.exists(rootpath of the drive)</i>"
   ]
  },
  {
   "cell_type": "markdown",
   "id": "2f8248b3-c672-437e-986e-9a1c03f1a889",
   "metadata": {},
   "source": [
    "## 3. File Reading/Writing Process<hr>\n",
    "<b>Three steps of reading and writing files:</b><br>\n",
    "1. Call the open() to return a <b>file object</b>\n",
    "2. Call the read() or write() method on the file object\n",
    "3. Close the file by calling close method on the file object"
   ]
  },
  {
   "cell_type": "markdown",
   "id": "182e62e4-c31d-43ab-aac1-f67269a515ce",
   "metadata": {},
   "source": [
    "#### 3.1. Opening files with open()\n",
    "the default of the function is in reading mode"
   ]
  },
  {
   "cell_type": "code",
   "execution_count": 32,
   "id": "77dbb893-e411-4124-ad5c-430bb4d67580",
   "metadata": {},
   "outputs": [],
   "source": [
    "helloFileObj = open(r\"C:\\Users\\magan\\Desktop\\Automate the Boring Stuff\\ABS My Files\\Hello.txt\")"
   ]
  },
  {
   "cell_type": "markdown",
   "id": "9a9d72bc-0bc3-4997-b7e6-ef161086e678",
   "metadata": {},
   "source": [
    "#### 3.2. Reading Contents of Files\n",
    "- read() returns a string\n",
    "- readLines() returns a list of string line by line"
   ]
  },
  {
   "cell_type": "code",
   "execution_count": 33,
   "id": "f0a3c614-44ef-4376-9378-bff71bdb42ad",
   "metadata": {},
   "outputs": [
    {
     "name": "stdout",
     "output_type": "stream",
     "text": [
      "Hello, Nicole!\n"
     ]
    }
   ],
   "source": [
    "# You can use the read method to read the content of the text\n",
    "helloContent = helloFileObj.read()\n",
    "print(helloContent)"
   ]
  },
  {
   "cell_type": "code",
   "execution_count": 46,
   "id": "3d366885-bc8b-41f2-bb53-fb36d227480f",
   "metadata": {},
   "outputs": [
    {
     "name": "stdout",
     "output_type": "stream",
     "text": [
      "['first Line\\n', 'second Line\\n', 'third Line']\n"
     ]
    }
   ],
   "source": [
    "poemObj = open(r\"C:\\Users\\magan\\Desktop\\Automate the Boring Stuff\\ABS My Files\\MyPoem.txt\")\n",
    "linesList = poemObj.readlines()\n",
    "print(linesList)"
   ]
  },
  {
   "cell_type": "markdown",
   "id": "ddb3aff1-fc6a-4046-9235-a7c446048578",
   "metadata": {},
   "source": [
    "#### 3.3 Writing to Files\n",
    "- write mode: overwrites the file\n",
    "- append mode: just adds to a file"
   ]
  },
  {
   "cell_type": "code",
   "execution_count": 52,
   "id": "692c4f10-d179-480d-ae47-404cbdd62fc1",
   "metadata": {},
   "outputs": [
    {
     "data": {
      "text/plain": [
       "25"
      ]
     },
     "execution_count": 52,
     "metadata": {},
     "output_type": "execute_result"
    }
   ],
   "source": [
    "baconFileObj = open('bacon.txt', 'w')\n",
    "baconFileObj.write(\"Hello, Nicole, I miss u!\\n\")"
   ]
  },
  {
   "cell_type": "code",
   "execution_count": 61,
   "id": "272b2ae4-75ca-4c04-8efd-8ccadff11f92",
   "metadata": {},
   "outputs": [
    {
     "data": {
      "text/plain": [
       "57"
      ]
     },
     "execution_count": 61,
     "metadata": {},
     "output_type": "execute_result"
    }
   ],
   "source": [
    "baconFileObj.close()\n",
    "baconFileObj = open(\"bacon.txt\", 'a')\n",
    "baconFileObj.write(\"This is so embarassing, writing this inside the library!\\n\")"
   ]
  },
  {
   "cell_type": "code",
   "execution_count": 62,
   "id": "16fdfb55-22bf-4622-8365-6afe23279fe2",
   "metadata": {},
   "outputs": [
    {
     "name": "stdout",
     "output_type": "stream",
     "text": [
      "Hello, Nicole, I miss u!\n",
      "This is so embarassing, writing this inside the library\n",
      "This is so embarassing, writing this inside the library!\n",
      "This is so embarassing, writing this inside the library!\n",
      "This is so embarassing, writing this inside the library!\n",
      "\n"
     ]
    }
   ],
   "source": [
    "baconFileObj.close()\n",
    "baconFileObj = open(\"bacon.txt\")\n",
    "baconContent = baconFileObj.read()\n",
    "baconFileObj.close()\n",
    "print(baconContent)"
   ]
  },
  {
   "cell_type": "markdown",
   "id": "7df4d1a5-ba36-41ba-8c81-95ff5d51eb8b",
   "metadata": {},
   "source": [
    "#### 3.3 Saving Variables with the Shelve Module\n",
    "You can save variables to binary shelf files using the shelve module<br>\n",
    "These shelve file (binary data) contain the data you stored."
   ]
  },
  {
   "cell_type": "code",
   "execution_count": 63,
   "id": "32940674-2aba-417e-9d2b-33e8e496da9b",
   "metadata": {},
   "outputs": [],
   "source": [
    "import shelve\n",
    "shelfFile = shelve.open('myData')\n",
    "cats = ['Zophie', 'Pooka', 'Simon']\n",
    "shelfFile['cats'] = cats # the variable cat is now asscoaited with the key cats in the shelf file\n",
    "shelfFile.close()"
   ]
  },
  {
   "cell_type": "code",
   "execution_count": null,
   "id": "bb473782-517d-4388-a892-ee55fcfdf999",
   "metadata": {},
   "outputs": [],
   "source": []
  }
 ],
 "metadata": {
  "kernelspec": {
   "display_name": "Python 3 (ipykernel)",
   "language": "python",
   "name": "python3"
  },
  "language_info": {
   "codemirror_mode": {
    "name": "ipython",
    "version": 3
   },
   "file_extension": ".py",
   "mimetype": "text/x-python",
   "name": "python",
   "nbconvert_exporter": "python",
   "pygments_lexer": "ipython3",
   "version": "3.11.5"
  }
 },
 "nbformat": 4,
 "nbformat_minor": 5
}
