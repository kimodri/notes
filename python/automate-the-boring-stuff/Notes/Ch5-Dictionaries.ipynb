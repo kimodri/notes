{
 "cells": [
  {
   "cell_type": "markdown",
   "id": "726ac862-a3cb-4bd8-96da-a28c2849299c",
   "metadata": {},
   "source": [
    "# Didtionary and Data Structures\n",
    "This chapter will cover the dictionary data type, with knowledge of list we can structure a data to create a tic-tac-toe board"
   ]
  },
  {
   "cell_type": "markdown",
   "id": "158d45dd-d3fd-4fda-8706-871b038249a0",
   "metadata": {},
   "source": [
    "#### Dictionary Basics"
   ]
  },
  {
   "cell_type": "code",
   "execution_count": 1,
   "id": "b9a6af11-d3b6-44be-a862-63849a413e20",
   "metadata": {},
   "outputs": [
    {
     "name": "stdout",
     "output_type": "stream",
     "text": [
      "fat\n"
     ]
    }
   ],
   "source": [
    "myCat = {\"Size\": \"fat\", \"Color\": \"Black\", \"Disposition\": \"Loud\"}\n",
    "print(myCat[\"Size\"])"
   ]
  },
  {
   "cell_type": "markdown",
   "id": "f080e5cd-f5f8-4bcb-b067-72ee408872cd",
   "metadata": {},
   "source": [
    "#### ADDING VALUES TO DICTIONARY"
   ]
  },
  {
   "cell_type": "code",
   "execution_count": 3,
   "id": "30a963e5-a091-4675-a7e7-0a1da706ba39",
   "metadata": {},
   "outputs": [
    {
     "name": "stdin",
     "output_type": "stream",
     "text": [
      "Hello! What is your name:  Alice\n"
     ]
    },
    {
     "name": "stdout",
     "output_type": "stream",
     "text": [
      "The birthday of Alice is at Apr 1\n"
     ]
    }
   ],
   "source": [
    "birthdays = {\"Alice\": \"Apr 1\", \"Bob\": \"Feb 14\"}\n",
    "\n",
    "name = input(\"Hello! What is your name: \")\n",
    "if name in birthdays:\n",
    "    print(\"The birthday of \" + name + \" is at \" + birthdays[name])\n",
    "elif name not in birthdays:\n",
    "    print(f\"Hello {name}, what is your birthday?\")\n",
    "    birthday = input();\n",
    "\n",
    "    # here is how you add\n",
    "    birthdays[name] = birthday"
   ]
  },
  {
   "cell_type": "markdown",
   "id": "b6b4a47a-5437-494f-b26e-6a3eb20a192d",
   "metadata": {},
   "source": [
    "#### DICTIONARY METHODS\n",
    "- keys()\n",
    "- values()\n",
    "- items()\n",
    "\n",
    "These things return list-like values (dict_keys, dict_values)\n",
    "not list! so if you want to convert it to a list, you can always use the list()"
   ]
  },
  {
   "cell_type": "markdown",
   "id": "7d189b51-b629-4fcc-b059-8cc5552f0024",
   "metadata": {},
   "source": [
    "#### CHECKING IF A KEY/VALUE EXISTS"
   ]
  },
  {
   "cell_type": "code",
   "execution_count": 2,
   "id": "df286614-4afc-4042-8044-79b19ac0b83c",
   "metadata": {},
   "outputs": [
    {
     "name": "stdout",
     "output_type": "stream",
     "text": [
      "True\n",
      "False\n",
      "False\n"
     ]
    }
   ],
   "source": [
    "# just use the 'in'\n",
    "birthdays = {\"Alice\": \"Apr 1\", \"Bob\": \"Feb 14\"}\n",
    "myKey = birthdays.keys()\n",
    "print('Alice' in myKey)\n",
    "print('Kim' in myKey) \n",
    "print('Apr 1' in birthdays) "
   ]
  },
  {
   "cell_type": "markdown",
   "id": "fa247c21-62bb-4801-9762-e52cb164fe31",
   "metadata": {},
   "source": [
    "#### THE get() METHOD\n",
    "You use this method if you don't want to check if the key is there before accessing it"
   ]
  },
  {
   "cell_type": "code",
   "execution_count": 4,
   "id": "bc4b0671-9d66-45ba-97bd-83162c9d85ae",
   "metadata": {},
   "outputs": [
    {
     "name": "stdout",
     "output_type": "stream",
     "text": [
      "I like Kim's birthday Nov 1 more than Alice's Apr 1\n"
     ]
    }
   ],
   "source": [
    "birthdays = {\"Alice\": \"Apr 1\", \"Bob\": \"Feb 14\"}\n",
    "\n",
    "print(\"I like Kim's birthday \" + birthdays.get(\"Kim\", 'Nov 1') + \" more than Alice's \" + birthdays.get(\"Alice\", \"Feb 14\"))"
   ]
  },
  {
   "cell_type": "markdown",
   "id": "0de99016-0132-4753-a6aa-6dc22a8868fb",
   "metadata": {},
   "source": [
    "There is also a <b>setdefault()</b>"
   ]
  },
  {
   "cell_type": "markdown",
   "id": "3d21f2d8-8489-4062-8297-d73144915b53",
   "metadata": {},
   "source": [
    "#### THE PPRINT MODULE\n",
    "These are some functions that can be used to easily print a dictionary:\n",
    "- pprint()\n",
    "- pformat()"
   ]
  },
  {
   "cell_type": "markdown",
   "id": "e56c6bab-d49d-4f2a-b65e-24a4d8725764",
   "metadata": {},
   "source": [
    "#### NESTED DICTIONARIES"
   ]
  },
  {
   "cell_type": "code",
   "execution_count": null,
   "id": "01e5547e-57ae-48f7-a761-c2e483816276",
   "metadata": {},
   "outputs": [],
   "source": []
  }
 ],
 "metadata": {
  "kernelspec": {
   "display_name": "Python 3 (ipykernel)",
   "language": "python",
   "name": "python3"
  },
  "language_info": {
   "codemirror_mode": {
    "name": "ipython",
    "version": 3
   },
   "file_extension": ".py",
   "mimetype": "text/x-python",
   "name": "python",
   "nbconvert_exporter": "python",
   "pygments_lexer": "ipython3",
   "version": "3.11.5"
  }
 },
 "nbformat": 4,
 "nbformat_minor": 5
}
