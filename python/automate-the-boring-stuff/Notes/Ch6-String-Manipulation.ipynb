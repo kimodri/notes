{
 "cells": [
  {
   "cell_type": "markdown",
   "id": "7826c217-9a50-45e9-bbf1-5a7953c9a134",
   "metadata": {},
   "source": [
    "# String Manipulation\n",
    "Here you can learn how to remove spacing, to lower case or to upper case strings"
   ]
  },
  {
   "cell_type": "markdown",
   "id": "ec97080b-a82b-422e-bf7c-f57279f38b4b",
   "metadata": {},
   "source": [
    "#### Working with strings\n",
    "- Double quotes\n",
    "- Escape characters\n",
    "- Raw strings\n",
    "  - ignores all the escape characters\n",
    "- Multiline strings with triple quotes\n",
    "- Multiline comments"
   ]
  },
  {
   "cell_type": "code",
   "execution_count": 2,
   "id": "71f2df9f-e5b1-4b9c-9774-f4afe85f2943",
   "metadata": {},
   "outputs": [
    {
     "name": "stdout",
     "output_type": "stream",
     "text": [
      "Dear Alice,\n",
      "\n",
      "Eve's cat has been arrested for catnapping, cat burglary, and extorition.\n",
      "\n",
      "Sincerely, \n",
      "Bob\n"
     ]
    }
   ],
   "source": [
    "# this is how you type multiline strings\n",
    "print('''Dear Alice,\n",
    "\n",
    "Eve's cat has been arrested for catnapping, cat burglary, and extorition.\n",
    "\n",
    "Sincerely, \n",
    "Bob''')"
   ]
  },
  {
   "cell_type": "markdown",
   "id": "d347d5be-2456-4bfc-aaeb-f93eb8d6d1e1",
   "metadata": {},
   "source": [
    "#### INDEXING AND SPLICING"
   ]
  },
  {
   "cell_type": "code",
   "execution_count": 6,
   "id": "75d35637-411e-4d37-b5df-5a401fbdc99b",
   "metadata": {},
   "outputs": [
    {
     "name": "stdout",
     "output_type": "stream",
     "text": [
      "H\n",
      "ello\n"
     ]
    }
   ],
   "source": [
    "spam = 'Hello World!'\n",
    "print(spam[0])\n",
    "\n",
    "print(spam[1 : 5])"
   ]
  },
  {
   "cell_type": "markdown",
   "id": "31151cd9-265d-490b-8504-2f0a7a89dbee",
   "metadata": {},
   "source": [
    "#### IN & NOT IN OPERATORS W/ STRINGS"
   ]
  },
  {
   "cell_type": "code",
   "execution_count": 4,
   "id": "7b2c8034-ca2e-42f4-9e6f-f641c5834f29",
   "metadata": {},
   "outputs": [
    {
     "name": "stdout",
     "output_type": "stream",
     "text": [
      "True\n"
     ]
    }
   ],
   "source": [
    "print('H' in spam)"
   ]
  },
  {
   "cell_type": "markdown",
   "id": "c58d30c3-84df-45f0-92c9-2bf5c9499fa7",
   "metadata": {},
   "source": [
    "#### STRING METHODS\n",
    "- upper()\n",
    "- lower()\n",
    "- isupper()\n",
    "- islower()"
   ]
  },
  {
   "cell_type": "code",
   "execution_count": 7,
   "id": "223afc3e-7553-4556-b861-9cacbae4078e",
   "metadata": {},
   "outputs": [
    {
     "name": "stdout",
     "output_type": "stream",
     "text": [
      "HELLO WORLD\n",
      "hello world\n"
     ]
    }
   ],
   "source": [
    "spam = 'Hello World'\n",
    "spam = spam.upper()\n",
    "print(spam)\n",
    "\n",
    "spam = spam.lower()\n",
    "print(spam)"
   ]
  },
  {
   "cell_type": "markdown",
   "id": "e889f3bd-fdd0-413b-960d-f32909f190ed",
   "metadata": {},
   "source": [
    "What has to be remembered above is that these methods return new strings"
   ]
  },
  {
   "cell_type": "markdown",
   "id": "19dda5e5-a90e-4e4c-b5a7-43d6934bf54c",
   "metadata": {},
   "source": [
    "#### THE IsX METHODS\n",
    "These methods return boolean\n",
    "- isalpha()\n",
    "- isalnum()\n",
    "- isdecimal()\n",
    "- isspace()\n",
    "- istitle()"
   ]
  },
  {
   "cell_type": "markdown",
   "id": "f216f639-1390-4db1-a807-d5602cdc96c9",
   "metadata": {},
   "source": [
    "#### THE startswith() & endswith() METHODS\n"
   ]
  },
  {
   "cell_type": "code",
   "execution_count": 10,
   "id": "875ff2a8-102c-4774-9cd4-5963119be849",
   "metadata": {},
   "outputs": [
    {
     "name": "stdout",
     "output_type": "stream",
     "text": [
      "True\n",
      "False\n",
      "True\n"
     ]
    }
   ],
   "source": [
    "print('Hello'.startswith('Hello')) # should return true\n",
    "print('Hello'.startswith('ello')) # should return false\n",
    "print('Hello'.endswith('ello')) # should return true"
   ]
  },
  {
   "cell_type": "markdown",
   "id": "f473509b-209c-45fc-b09d-1aa4d5342ea4",
   "metadata": {},
   "source": [
    "#### THE join() & split() METHODS\n",
    "- join() takes an argument of list of strings which will be separated with the value where the method is called on\n",
    "- split() returns a list, this can have an argument, delimiter. The default is a space\n",
    "    - this is commonly used when you want to create a list of lines"
   ]
  },
  {
   "cell_type": "code",
   "execution_count": 13,
   "id": "f072f549-b794-45c6-99a8-248ea5570df4",
   "metadata": {},
   "outputs": [
    {
     "name": "stdout",
     "output_type": "stream",
     "text": [
      "My name is Nicole.\n",
      "['My', 'name', 'is', 'Nicole.']\n",
      "['My ', 'ame is Nicole.']\n"
     ]
    }
   ],
   "source": [
    "spam = ' '.join(['My', 'name', 'is', 'Nicole.'])\n",
    "myList = 'My name is Nicole.'.split()\n",
    "print(spam)\n",
    "print(myList)\n",
    "myList = 'My name is Nicole.'.split('n')\n",
    "print(myList)"
   ]
  },
  {
   "cell_type": "code",
   "execution_count": 17,
   "id": "fc376210-2689-4790-91c7-44b366f5a6df",
   "metadata": {},
   "outputs": [
    {
     "name": "stdout",
     "output_type": "stream",
     "text": [
      "Stars, equations, and theories\n",
      "are all interesting to me\n",
      "but what I need is a smile from thee\n",
      "\n",
      "\n",
      "['Stars, equations, and theories', 'are all interesting to me', 'but what I need is a smile from thee']\n"
     ]
    }
   ],
   "source": [
    "poem = \"\"\"Stars, equations, and theories\n",
    "are all interesting to me\n",
    "but what I need is a smile from thee\"\"\"\n",
    "myList = poem.split('\\n')\n",
    "print(poem)\n",
    "print('\\n')\n",
    "print(myList)"
   ]
  },
  {
   "cell_type": "markdown",
   "id": "30ae2083-36bd-4fc6-8537-d8b4ea4ba3dd",
   "metadata": {},
   "source": [
    "#### JUSTIFYING TEXT\n",
    "- rjust()\n",
    "- ljust()\n",
    "- center()"
   ]
  },
  {
   "cell_type": "code",
   "execution_count": 26,
   "id": "8965a49c-692f-4340-9c68-40a301b2d1c7",
   "metadata": {},
   "outputs": [
    {
     "name": "stdout",
     "output_type": "stream",
     "text": [
      "     Hello\n",
      "***************Hello\n",
      "       Hello        \n"
     ]
    }
   ],
   "source": [
    "spam = 'Hello'\n",
    "spam = spam.rjust(10)\n",
    "print(spam)\n",
    "spam = 'Hello'.rjust(20, '*')\n",
    "print(spam)\n",
    "print('Hello'.center(20))"
   ]
  },
  {
   "cell_type": "code",
   "execution_count": 29,
   "id": "cf516c33-b728-4d64-8b80-b748a29520c2",
   "metadata": {},
   "outputs": [
    {
     "name": "stdout",
     "output_type": "stream",
     "text": [
      "=======Picnic Items=======\n",
      "sandwiches..........     4\n",
      "apples..............    12\n",
      "cups................     4\n",
      "cookies.............  8000\n"
     ]
    }
   ],
   "source": [
    "def printPicnic(picnicDict, rLen, lLen):\n",
    "    print('Picnic Items'.center(rLen + lLen, '='))\n",
    "    for k, v in picnicDict.items():\n",
    "        print(k.ljust(rLen, '.') + str(v).rjust(lLen))\n",
    "myDict = {'sandwiches': 4, 'apples': 12, 'cups': 4, 'cookies': 8000}\n",
    "printPicnic(myDict, 20, 6)"
   ]
  },
  {
   "cell_type": "markdown",
   "id": "b2ccec75-0551-461b-9d25-55b4e36b1470",
   "metadata": {},
   "source": [
    "#### REMOVING WHITESPACE\n",
    "- strip()\n",
    "- rstrip()\n",
    "- lstrip()\n"
   ]
  },
  {
   "cell_type": "code",
   "execution_count": 34,
   "id": "e8e3a116-53b6-454a-9c57-a76187e0d3d1",
   "metadata": {},
   "outputs": [
    {
     "name": "stdout",
     "output_type": "stream",
     "text": [
      "    Hello    \n",
      "Hello\n",
      "Hello    \n",
      "    Hello\n"
     ]
    }
   ],
   "source": [
    "myStr = '    Hello    '\n",
    "print(myStr)\n",
    "print(myStr.strip())\n",
    "print(myStr.lstrip())\n",
    "print(myStr.rstrip())"
   ]
  },
  {
   "cell_type": "code",
   "execution_count": 37,
   "id": "6ea24b35-4a6f-49b4-97a8-86458e1afea9",
   "metadata": {},
   "outputs": [
    {
     "name": "stdout",
     "output_type": "stream",
     "text": [
      "SpamSpamBaconSpamEggsSpamSpam\n",
      "BaconSpamEggs\n"
     ]
    }
   ],
   "source": [
    "spam = 'SpamSpamBaconSpamEggsSpamSpam'\n",
    "print(spam)\n",
    "print(spam.strip('ampS'))"
   ]
  },
  {
   "cell_type": "markdown",
   "id": "8568f3f0-e813-46e4-b998-22ca2bdf1fc1",
   "metadata": {},
   "source": [
    "#### COPYING & PASTING STRINGS W/ pyperclip MODULE\n"
   ]
  },
  {
   "cell_type": "code",
   "execution_count": 3,
   "id": "d66782fb-c925-4a21-9783-7566570f8a4b",
   "metadata": {},
   "outputs": [
    {
     "name": "stdout",
     "output_type": "stream",
     "text": [
      "Kim Audrey Magan\n"
     ]
    }
   ],
   "source": [
    "import pyperclip\n",
    "# pyperclip.copy()\n",
    "x = pyperclip.paste();\n",
    "print(x)"
   ]
  },
  {
   "cell_type": "code",
   "execution_count": null,
   "id": "52c08c73-80bb-49ae-bf92-75229564de03",
   "metadata": {},
   "outputs": [],
   "source": []
  }
 ],
 "metadata": {
  "kernelspec": {
   "display_name": "Python 3 (ipykernel)",
   "language": "python",
   "name": "python3"
  },
  "language_info": {
   "codemirror_mode": {
    "name": "ipython",
    "version": 3
   },
   "file_extension": ".py",
   "mimetype": "text/x-python",
   "name": "python",
   "nbconvert_exporter": "python",
   "pygments_lexer": "ipython3",
   "version": "3.11.5"
  }
 },
 "nbformat": 4,
 "nbformat_minor": 5
}
