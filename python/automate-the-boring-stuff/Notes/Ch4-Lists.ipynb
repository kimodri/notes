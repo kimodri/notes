{
 "cells": [
  {
   "cell_type": "markdown",
   "id": "fcd62e24-a200-46d4-a248-129019309a54",
   "metadata": {},
   "source": [
    "# Lists\n",
    "This chapter will talk about list and its cousin tuple at the same time it will talk about methods which are just functions bound with the values of certain data types"
   ]
  },
  {
   "cell_type": "markdown",
   "id": "5b1c97ac-7d16-428d-a9b1-dbf4cf54b8f7",
   "metadata": {},
   "source": [
    "#### GETTING SUBLISTS WITH SLICES"
   ]
  },
  {
   "cell_type": "markdown",
   "id": "08eb649a-01f4-4326-bf36-ae51892fa96f",
   "metadata": {},
   "source": [
    "with index, you can get a value with slices, you can get multiple values"
   ]
  },
  {
   "cell_type": "code",
   "execution_count": 2,
   "id": "83cb883b-26d6-42be-a5dd-093ec6d02146",
   "metadata": {},
   "outputs": [
    {
     "name": "stdout",
     "output_type": "stream",
     "text": [
      "[2, 3]\n"
     ]
    }
   ],
   "source": [
    "myList = [1, 2, 3, 4]\n",
    "# myList[start : end not included]\n",
    "\n",
    "print(myList[1 : 3])"
   ]
  },
  {
   "cell_type": "markdown",
   "id": "04e43abf-7c54-4cce-91a8-1dfcad45695e",
   "metadata": {},
   "source": [
    "#### THE DEL STATEMENT\n",
    "You can delete a value in a list and even a simple variable using"
   ]
  },
  {
   "cell_type": "code",
   "execution_count": 6,
   "id": "dfd5b3fa-d8bd-4e0d-9bee-d8e4f27ae0d7",
   "metadata": {},
   "outputs": [
    {
     "name": "stdout",
     "output_type": "stream",
     "text": [
      "4\n",
      "You have deleted this variable\n",
      "2\n",
      "3\n"
     ]
    }
   ],
   "source": [
    "# Deleting a variable\n",
    "kim = 4\n",
    "print(kim)\n",
    "del kim\n",
    "# print(kim)\n",
    "try:\n",
    "    print(kim)\n",
    "except NameError:\n",
    "    print(\"You have deleted this variable\")\n",
    "\n",
    "# Deleting a value from a list\n",
    "myList = [1, 2, 3, 4]\n",
    "print(myList[1]) # Should print 2\n",
    "del myList[1];\n",
    "print(myList[1]) # Should print 3"
   ]
  },
  {
   "cell_type": "markdown",
   "id": "324f3bb7-1d75-450c-a02a-e5d5640a9542",
   "metadata": {},
   "source": [
    "#### METHODS:\n",
    "Almost the same as function except methods are \"called on\" a value. Each data type has its own methods for example list has a lot of methods "
   ]
  },
  {
   "cell_type": "markdown",
   "id": "f512c723-c118-4712-95af-9bbc1818fb64",
   "metadata": {},
   "source": [
    "<b>List</b> has the following methods discussed:\n",
    "- insert()\n",
    "- index()\n",
    "- append()\n",
    "- remove()\n",
    "- sort()"
   ]
  },
  {
   "cell_type": "markdown",
   "id": "682524e2-628c-4725-85d4-68fe83c2a1be",
   "metadata": {},
   "source": [
    "#### MUTABLE AND IMMUTABLE DATA TYPES:\n",
    "Although list and string/tuples are almost the same they have difference as well for instance list is mutable which means tt can have values added, removed, or changed while immutable is the opposite of that "
   ]
  },
  {
   "cell_type": "markdown",
   "id": "fce23ef1-2cb8-44f7-b3ec-bef3defd4f67",
   "metadata": {},
   "source": [
    "#### COPY MODULE AND COPY() DEEPCOPY()\n",
    "Know that you are passing a list with reference. Although assigning a list is done with references you can pass a copy of a list with the copy() & deepcopy() from copy module"
   ]
  },
  {
   "cell_type": "code",
   "execution_count": 10,
   "id": "98a99a1e-02db-4f32-ab35-2f40e6560114",
   "metadata": {},
   "outputs": [
    {
     "name": "stdout",
     "output_type": "stream",
     "text": [
      "[0, 7, 8, 9]\n",
      "[0, 7, 8, 9]\n",
      "\n",
      "\n",
      "[1, 2, 3, 4]\n",
      "[0, 2, 3, 4]\n"
     ]
    }
   ],
   "source": [
    "import copy\n",
    "\n",
    "# without a copy module\n",
    "eggs = [6, 7, 8, 9]\n",
    "ham = eggs\n",
    "ham[0] = 0\n",
    "print(eggs)\n",
    "print(ham)\n",
    "print(\"\\n\")\n",
    "\n",
    "\n",
    "fList = [1, 2, 3, 4]\n",
    "spam = copy.copy(fList)\n",
    "spam[0] = 0;\n",
    "print(fList) # should print [1, 2, 3, 4]\n",
    "print(spam) # should print [0, 2, 3, 4]\n"
   ]
  },
  {
   "cell_type": "code",
   "execution_count": null,
   "id": "c37b265b-fdf6-491a-a259-0a99779d4ddd",
   "metadata": {},
   "outputs": [],
   "source": []
  }
 ],
 "metadata": {
  "kernelspec": {
   "display_name": "Python 3 (ipykernel)",
   "language": "python",
   "name": "python3"
  },
  "language_info": {
   "codemirror_mode": {
    "name": "ipython",
    "version": 3
   },
   "file_extension": ".py",
   "mimetype": "text/x-python",
   "name": "python",
   "nbconvert_exporter": "python",
   "pygments_lexer": "ipython3",
   "version": "3.11.5"
  }
 },
 "nbformat": 4,
 "nbformat_minor": 5
}
