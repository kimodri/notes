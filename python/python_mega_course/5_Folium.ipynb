{
 "cells": [
  {
   "cell_type": "markdown",
   "id": "9b089b9f-80e0-4180-b58e-5f90b4ea81f5",
   "metadata": {},
   "source": [
    "# Using Folium to Create Maps\n",
    "---\n",
    "- Folium really just revolve with the map object you created from teh Map class."
   ]
  },
  {
   "cell_type": "code",
   "execution_count": null,
   "id": "5bed3cc5-bdc9-4f1a-acd5-8ea540114560",
   "metadata": {},
   "outputs": [],
   "source": [
    "import folium\n",
    "\n",
    "# 14.562512, 121.136666          14.562512, 121.199419\n",
    "\n",
    "\n",
    "\n",
    "\n",
    "# 14.515187, 121.136666         14.515187, 121.199419\n",
    "\n",
    "\n",
    "bounds  = [[14.515187, 121.136666], [14.562512, 121.199419]]\n",
    "map = folium.Map(location = [14.538645558637038, 121.15950098449822],\n",
    "                 # max_lot = 121.136666,\n",
    "                 # min_lot = 121.199419,\n",
    "                 # max_lat = 14.515187,\n",
    "                 # min_lat = 121.136666,\n",
    "                zoom_start = 14,\n",
    "                min_zoom = 14,\n",
    "                max_zoom = 18,\n",
    "                max_bounds = True,\n",
    "                width = \"100%\",\n",
    "                heigth = \"50%\",\n",
    "                no_touch = True)\n",
    "                # tiles = \"CartoDB Positron\")\n",
    "map.fit_bounds(bounds)\n",
    "\n",
    "boundary = [[14.515187, 121.136666],\n",
    "            [14.562512, 121.136666],\n",
    "            [ 14.562512, 121.199419],\n",
    "           [14.515187, 121.199419]]\n",
    "folium.Polygon(\n",
    "    boundary,\n",
    "    color=\"black\",       # Border color\n",
    "    weight=3,            # Border thickness\n",
    "    fill=True,           # Fill the polygon\n",
    "    fill_color=\"blue\",   # Fill color\n",
    "    fill_opacity=0.2     # Transparency\n",
    ").add_to(map)\n",
    "map"
   ]
  },
  {
   "cell_type": "markdown",
   "id": "eeed7113-cd01-4ba6-9d84-74fa5665580d",
   "metadata": {},
   "source": [
    "## Adding Point Markers"
   ]
  },
  {
   "cell_type": "code",
   "execution_count": null,
   "id": "52431ee1-f652-482e-a231-f1afa3027836",
   "metadata": {},
   "outputs": [],
   "source": [
    "map.add_child(folium.Marker(location = [14.528329909133868, 121.14494446428728], popup = \"Caldreville Toda\", icon = folium.Icon(color = 'green')))"
   ]
  },
  {
   "cell_type": "markdown",
   "id": "75958a07-3df8-4e4f-8904-bdcee5777dd0",
   "metadata": {},
   "source": [
    "## Feature Group"
   ]
  },
  {
   "cell_type": "markdown",
   "id": "9e499f57-b2af-4cd4-9067-211e72d178e3",
   "metadata": {},
   "source": [
    "Feature group is just grouping the same features and then adding it to the map, this makes the code cleaner."
   ]
  },
  {
   "cell_type": "code",
   "execution_count": null,
   "id": "8ffcedc5-480a-4b54-ac6b-2a21abd86aea",
   "metadata": {},
   "outputs": [],
   "source": [
    "from folium import Map, FeatureGroup, Marker\n",
    "\n",
    "fg = FeatureGroup(name = \"My Map\")\n",
    "fg.add_child(Marker(location = [14.528329909133868, 121.14494446428728], ppopup = \"Caldreville Toda\"))\n",
    "fg.add_child(Marker(location = [14.524306417074103, 121.15350238459577], ppopup = \"Palengke\"))\n",
    "\n",
    "map.add_child(fg)"
   ]
  },
  {
   "cell_type": "markdown",
   "id": "b7f04e66-84c0-4742-81b6-027d2a2fcbe3",
   "metadata": {},
   "source": [
    "## Looping To Add Markers/Components"
   ]
  },
  {
   "cell_type": "markdown",
   "id": "68ab9b6f-4db5-42de-8b17-88a70431c5c2",
   "metadata": {},
   "source": [
    "Let's say we have this data, and we want to plot the volcanoes:"
   ]
  },
  {
   "cell_type": "code",
   "execution_count": null,
   "id": "1811550e-f027-425e-a00a-411990d629cd",
   "metadata": {},
   "outputs": [],
   "source": [
    "import pandas as pd\n",
    "df = pd.read_csv(\"assets\\\\volcanoes.csv\")\n",
    "dfPh = df[df['LOCATION'].str.contains(\"Philippines\")]\n",
    "dfPh.head()"
   ]
  },
  {
   "cell_type": "code",
   "execution_count": null,
   "id": "0192373e-aa06-416d-a3bd-58cc44f8303e",
   "metadata": {},
   "outputs": [],
   "source": [
    "dfPh[\"STATUS\"].unique()"
   ]
  },
  {
   "cell_type": "code",
   "execution_count": null,
   "id": "86e75bab-36d5-42f2-84e0-cb53cd2d9f14",
   "metadata": {},
   "outputs": [],
   "source": [
    "map2 = folium.Map(location = [12.745890436754511, 122.75471914941679],\n",
    "                max_bounds = True,\n",
    "                zoom_start = 20,\n",
    "                  max_zoom = 10,\n",
    "                  min_zoom = 5,\n",
    "                width = \"100%\",\n",
    "                heigth = \"80%\",\n",
    "                no_touch = True)"
   ]
  },
  {
   "cell_type": "code",
   "execution_count": null,
   "id": "0ab0feec-46b9-4337-a8c2-e91b65462433",
   "metadata": {},
   "outputs": [],
   "source": [
    "for i in range(len(dfPh)):\n",
    "    FeatureGroup(\"Volcanoes\").add_child(\n",
    "        Marker(\n",
    "            location=[dfPh.iloc[i, 10], dfPh.iloc[i, 11]], \n",
    "            popup=dfPh.iloc[i, 4], \n",
    "            icon=folium.Icon(icon=\"warning-sign\", color=\"red\", icon_color=\"black\")\n",
    "        )\n",
    "    ).add_to(map2)\n",
    "map2"
   ]
  },
  {
   "cell_type": "markdown",
   "id": "5cf16990-d679-4b91-9b42-a9c570fabf24",
   "metadata": {},
   "source": []
  },
  {
   "cell_type": "code",
   "execution_count": null,
   "id": "3e44b36a-6058-41f9-99b3-3fb9918bcea3",
   "metadata": {},
   "outputs": [],
   "source": [
    "map2"
   ]
  },
  {
   "cell_type": "markdown",
   "id": "1c31096c-d801-4041-ab27-16b0a1a01977",
   "metadata": {},
   "source": [
    "## Adding Polygons Using `Folium.GeoJson`"
   ]
  },
  {
   "cell_type": "markdown",
   "id": "7e7013e0-d3cc-40ac-b19d-51122f8edb7b",
   "metadata": {},
   "source": [
    "Basically what we want to do is to add polygons resembling population to every country."
   ]
  },
  {
   "cell_type": "code",
   "execution_count": null,
   "id": "47170aa6-20bd-4c43-945e-942e587d6bdc",
   "metadata": {},
   "outputs": [],
   "source": [
    "world = pd.read_json(\"assets\\\\world.json\")\n",
    "word.head()"
   ]
  },
  {
   "cell_type": "markdown",
   "id": "3bd2cbb0-98ce-4a97-9eeb-33e62576059c",
   "metadata": {},
   "source": []
  }
 ],
 "metadata": {
  "kernelspec": {
   "display_name": "Python 3 (ipykernel)",
   "language": "python",
   "name": "python3"
  },
  "language_info": {
   "codemirror_mode": {
    "name": "ipython",
    "version": 3
   },
   "file_extension": ".py",
   "mimetype": "text/x-python",
   "name": "python",
   "nbconvert_exporter": "python",
   "pygments_lexer": "ipython3",
   "version": "3.11.5"
  }
 },
 "nbformat": 4,
 "nbformat_minor": 5
}
