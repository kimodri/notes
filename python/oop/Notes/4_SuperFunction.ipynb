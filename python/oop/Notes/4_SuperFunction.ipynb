{
 "cells": [
  {
   "cell_type": "markdown",
   "id": "01d607f6-2a78-409a-a93d-506456b0c0cc",
   "metadata": {},
   "source": [
    "# Super Function\n",
    "\n",
    "Inheritance is easy but again, Kim, when you deal with their constructors, that's when they get complicated. Let's take the first problem as an example:\n",
    "\n",
    "`university`"
   ]
  },
  {
   "cell_type": "code",
   "execution_count": 1,
   "id": "262a87f7-d02c-4411-8c87-61a17d96514f",
   "metadata": {},
   "outputs": [],
   "source": [
    "# Person must have name and age attribute \n",
    "class Person:\n",
    "    def __init__(self, name, age):\n",
    "        self.name = name\n",
    "        self.age = age"
   ]
  },
  {
   "cell_type": "markdown",
   "id": "cdf2c298-9d1b-4f51-af28-d3dd976b56b8",
   "metadata": {},
   "source": [
    "Now, you want to create a class `Student` that will inherit the `Person` because a student is a person LOL! So we do:"
   ]
  },
  {
   "cell_type": "code",
   "execution_count": 2,
   "id": "51689830-4044-40c8-b108-99296c19bb8a",
   "metadata": {},
   "outputs": [],
   "source": [
    "# You want your Student to have major and GPA attributes aside from the attribute that it will inherit.\n",
    "# So how do you do that?\n",
    "class Student(Person):\n",
    "    # I want to create a constructor for its attributes so\n",
    "    def __init__(self, major, GPA):\n",
    "        self.major = major\n",
    "        self.GPA = GPA"
   ]
  },
  {
   "cell_type": "markdown",
   "id": "269a0786-1c39-4566-9383-6fa265ece549",
   "metadata": {},
   "source": [
    "That worked, but how are the `name` and the `age` attributes? Because if we go in that way, and create an object, it can go:"
   ]
  },
  {
   "cell_type": "code",
   "execution_count": 3,
   "id": "4322a18c-389f-48ea-a70f-b427df3eedd5",
   "metadata": {},
   "outputs": [],
   "source": [
    "myStudent = Student(\"Physics\", 4.0)"
   ]
  },
  {
   "cell_type": "code",
   "execution_count": 4,
   "id": "1189a2d7-913e-40d9-b7ff-ba2819ecd71c",
   "metadata": {},
   "outputs": [
    {
     "name": "stdout",
     "output_type": "stream",
     "text": [
      "Major: Physics\n",
      "GPA: 4.0\n"
     ]
    }
   ],
   "source": [
    "print(f\"Major: {myStudent.major}\", f\"GPA: {myStudent.GPA}\", sep = \"\\n\")"
   ]
  },
  {
   "cell_type": "code",
   "execution_count": 5,
   "id": "7db189f2-3425-485b-a0b7-860ad857206a",
   "metadata": {},
   "outputs": [
    {
     "ename": "AttributeError",
     "evalue": "'Student' object has no attribute 'name'",
     "output_type": "error",
     "traceback": [
      "\u001b[1;31m---------------------------------------------------------------------------\u001b[0m",
      "\u001b[1;31mAttributeError\u001b[0m                            Traceback (most recent call last)",
      "Cell \u001b[1;32mIn[5], line 1\u001b[0m\n\u001b[1;32m----> 1\u001b[0m \u001b[38;5;28mprint\u001b[39m(\u001b[38;5;124mf\u001b[39m\u001b[38;5;124m\"\u001b[39m\u001b[38;5;124mName: \u001b[39m\u001b[38;5;132;01m{\u001b[39;00m\u001b[43mmyStudent\u001b[49m\u001b[38;5;241;43m.\u001b[39;49m\u001b[43mname\u001b[49m\u001b[38;5;132;01m}\u001b[39;00m\u001b[38;5;124m\"\u001b[39m, \u001b[38;5;124mf\u001b[39m\u001b[38;5;124m\"\u001b[39m\u001b[38;5;124mAge: \u001b[39m\u001b[38;5;132;01m{\u001b[39;00mmyStudent\u001b[38;5;241m.\u001b[39mage\u001b[38;5;132;01m}\u001b[39;00m\u001b[38;5;124m\"\u001b[39m, sep \u001b[38;5;241m=\u001b[39m \u001b[38;5;124m\"\u001b[39m\u001b[38;5;130;01m\\n\u001b[39;00m\u001b[38;5;124m\"\u001b[39m)\n",
      "\u001b[1;31mAttributeError\u001b[0m: 'Student' object has no attribute 'name'"
     ]
    }
   ],
   "source": [
    "print(f\"Name: {myStudent.name}\", f\"Age: {myStudent.age}\", sep = \"\\n\")"
   ]
  },
  {
   "cell_type": "markdown",
   "id": "b39a5e5a-07d4-4972-9595-81c95bd2fffd",
   "metadata": {},
   "source": [
    "So as you can see we can't get the name and age attribute because we did not define them inside the subclass. So what if, Kim, you did:"
   ]
  },
  {
   "cell_type": "code",
   "execution_count": 7,
   "id": "ba8ab529-f152-4136-9c32-42c1c2eaeaaf",
   "metadata": {},
   "outputs": [
    {
     "name": "stdout",
     "output_type": "stream",
     "text": [
      "Name: Kim\n",
      "Age: 20\n"
     ]
    }
   ],
   "source": [
    "class Student(Person):\n",
    "    # I want to create a constructor for its attributes so\n",
    "    def __init__(self, name, age, major, GPA):\n",
    "        self.name = name\n",
    "        self.age = age\n",
    "        self.major = major\n",
    "        self.GPA = GPA\n",
    "\n",
    "# Instantiate a student object\n",
    "myStudent = Student(\"Kim\", 20, \"Physics\", 4.0)\n",
    "\n",
    "print(f\"Name: {myStudent.name}\", f\"Age: {myStudent.age}\", sep = \"\\n\")"
   ]
  },
  {
   "cell_type": "markdown",
   "id": "e350e6fc-df2d-472a-9d12-53a420aafad4",
   "metadata": {},
   "source": [
    "It worked! But apparently, there is a better way to do these things and that is with the help of the `super()` function. This is actually a class that calls the method of a class from the sequence inside the `MRO` or the `Method Resoolution Order`.\n",
    "\n",
    "So for instance, if we do `object.__mro__()` this will return a list of classes wherein the `object` is related (classes that object is inheriting).\n",
    "\n",
    "So for example if we call the `mro` of the `myStudent` we should get the Student class:"
   ]
  },
  {
   "cell_type": "code",
   "execution_count": 10,
   "id": "5139ba3b-b2c9-4768-b650-b89c7060ca73",
   "metadata": {},
   "outputs": [
    {
     "data": {
      "text/plain": [
       "(__main__.Student, __main__.Person, object)"
      ]
     },
     "execution_count": 10,
     "metadata": {},
     "output_type": "execute_result"
    }
   ],
   "source": [
    "Student.__mro__"
   ]
  },
  {
   "cell_type": "markdown",
   "id": "0fc86135-a0ce-46ac-9169-921c0a050f4a",
   "metadata": {},
   "source": [
    "So you see, Kim, if you call the super function with a method (the same as the parent and the child) in our case `Person` and `Student`. The method `__init__()` will be called first from the `Student` then `Person`."
   ]
  },
  {
   "cell_type": "code",
   "execution_count": 11,
   "id": "f7d55ac0-72d0-44cb-bcdb-9bd2951d579f",
   "metadata": {},
   "outputs": [
    {
     "name": "stdout",
     "output_type": "stream",
     "text": [
      "Kim\n",
      "20\n",
      "Physics\n",
      "4.0\n"
     ]
    }
   ],
   "source": [
    "# So we can do\n",
    "class Person:\n",
    "    def __init__(self, name, age):\n",
    "        self.name = name\n",
    "        self.age = age\n",
    "\n",
    "class Student(Person):\n",
    "    # I want to create a constructor for its attributes so\n",
    "    def __init__(self, name, age, major, GPA):\n",
    "        super().__init__(name, age)\n",
    "        self.major = major\n",
    "        self.GPA = GPA\n",
    "\n",
    "myStudent = Student(\"Kim\", 20, \"Physics\", 4.0)\n",
    "\n",
    "print(myStudent.name)\n",
    "print(myStudent.age)\n",
    "print(myStudent.major)\n",
    "print(myStudent.GPA)"
   ]
  },
  {
   "cell_type": "code",
   "execution_count": null,
   "id": "332d0316-0489-4d11-a6f4-32bcc3bb2674",
   "metadata": {},
   "outputs": [],
   "source": []
  }
 ],
 "metadata": {
  "kernelspec": {
   "display_name": "Python 3 (ipykernel)",
   "language": "python",
   "name": "python3"
  },
  "language_info": {
   "codemirror_mode": {
    "name": "ipython",
    "version": 3
   },
   "file_extension": ".py",
   "mimetype": "text/x-python",
   "name": "python",
   "nbconvert_exporter": "python",
   "pygments_lexer": "ipython3",
   "version": "3.12.9"
  }
 },
 "nbformat": 4,
 "nbformat_minor": 5
}
