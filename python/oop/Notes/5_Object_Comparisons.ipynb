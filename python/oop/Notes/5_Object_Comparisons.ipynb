{
 "cells": [
  {
   "cell_type": "markdown",
   "id": "86b78c9c",
   "metadata": {},
   "source": [
    "# Object Equality\n",
    "\n",
    "This is about comparing instances of the same class."
   ]
  },
  {
   "cell_type": "markdown",
   "id": "dc9257a2",
   "metadata": {},
   "source": [
    "For example:"
   ]
  },
  {
   "cell_type": "code",
   "execution_count": null,
   "id": "3eea84db",
   "metadata": {
    "vscode": {
     "languageId": "plaintext"
    }
   },
   "outputs": [],
   "source": [
    "class Customer:\n",
    "    def __init__(self, name, balance):\n",
    "        self.name, self.balance = name, balance\n",
    "\n",
    "customer1 = Customer(\"Kim\", 3000)\n",
    "customer2 = Customer(\"Kim\", 3000)"
   ]
  },
  {
   "cell_type": "markdown",
   "id": "d11853d2",
   "metadata": {},
   "source": [
    "And if we equate these two we get:"
   ]
  },
  {
   "cell_type": "code",
   "execution_count": null,
   "id": "f8f04772",
   "metadata": {
    "vscode": {
     "languageId": "plaintext"
    }
   },
   "outputs": [],
   "source": [
    "customer1 == customer2"
   ]
  },
  {
   "cell_type": "code",
   "execution_count": null,
   "id": "999dd5f2",
   "metadata": {
    "vscode": {
     "languageId": "plaintext"
    }
   },
   "outputs": [],
   "source": []
  }
 ],
 "metadata": {
  "language_info": {
   "name": "python"
  }
 },
 "nbformat": 4,
 "nbformat_minor": 5
}
