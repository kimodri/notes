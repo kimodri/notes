{
 "cells": [
  {
   "cell_type": "markdown",
   "id": "c23c8104-603d-46d4-9305-6d619053a51f",
   "metadata": {},
   "source": [
    "## Tokenization\n",
    "---"
   ]
  },
  {
   "cell_type": "code",
   "execution_count": 37,
   "id": "7d7821ae-4c07-410f-b442-7f359c2deebc",
   "metadata": {},
   "outputs": [
    {
     "name": "stdout",
     "output_type": "stream",
     "text": [
      "Resource found!\n"
     ]
    },
    {
     "name": "stderr",
     "output_type": "stream",
     "text": [
      "[nltk_data] Downloading package wordnet to\n",
      "[nltk_data]     C:\\Users\\magan\\AppData\\Roaming\\nltk_data...\n",
      "[nltk_data]   Package wordnet is already up-to-date!\n"
     ]
    }
   ],
   "source": [
    "import nltk\n",
    "\n",
    "try:\n",
    "    nltk.data.find(\"tokenizers/punkt_tab\")\n",
    "    print(\"Resource found!\")\n",
    "except:\n",
    "    nltk.download(\"punkt_tab\")\n",
    "\n",
    "try:\n",
    "    nltk.data.find('corpora/wordnet')\n",
    "    print(\"resource found\")\n",
    "except LookupError:\n",
    "    nltk.download('wordnet')"
   ]
  },
  {
   "cell_type": "code",
   "execution_count": 38,
   "id": "065566ae-a361-4127-acf2-b4096f69cf9a",
   "metadata": {},
   "outputs": [
    {
     "data": {
      "text/plain": [
       "[' And he went back to meet the fox.',\n",
       " '\"Goodbye,\" he said.',\n",
       " '\"Goodbye,\" said the fox.',\n",
       " '\"And now here is my secret, a very simple secret: It is only with the heart that one can see rightly; what is essential is invisible to the eye.\"',\n",
       " '\"What is essential is invisible to the eye,\" the little prince repeated, so that he would be sure to remember.',\n",
       " '\"It is the time you have wasted for your rose that makes your rose so important.\"',\n",
       " '\"It is the time I have wasted for my rose --\" said the little prince, so that he would be sure to remember.',\n",
       " '\"Men have forgotten this truth,\" said the fox.',\n",
       " '\"But you must not forget it.',\n",
       " 'You become responsible, forever, for what you have tamed.',\n",
       " 'You are responsible for your rose...\" \"I am responsible for my rose,\" the little prince repeated, so that he would be sure to remember.']"
      ]
     },
     "execution_count": 38,
     "metadata": {},
     "output_type": "execute_result"
    }
   ],
   "source": [
    "import nltk\n",
    "\n",
    "paragraph = \"\"\" And he went back to meet the fox. \"Goodbye,\" he said. \"Goodbye,\" said the fox. \n",
    "\"And now here is my secret, a very simple secret: It is only with the heart that one can see rightly; what is essential is invisible to the eye.\" \n",
    "\"What is essential is invisible to the eye,\" the little prince repeated, so that he would be sure to remember. \n",
    "\"It is the time you have wasted for your rose that makes your rose so important.\" \n",
    "\"It is the time I have wasted for my rose --\" said the little prince, so that he would be sure to remember. \"Men have forgotten this truth,\" said the fox. \n",
    "\"But you must not forget it. You become responsible, forever, for what you have tamed. You are responsible for your rose...\" \"I am responsible for my rose,\" the little prince repeated, so that he would be sure to remember. \"\"\"\n",
    "\n",
    "sentences = nltk.sent_tokenize(paragraph)\n",
    "sentences"
   ]
  },
  {
   "cell_type": "code",
   "execution_count": 39,
   "id": "4e51d0b3-8f4d-4259-bcd6-d823c406ed3f",
   "metadata": {},
   "outputs": [
    {
     "data": {
      "text/plain": [
       "['And', 'he', 'went', 'back', 'to', 'meet', 'the', 'fox', '.', '``']"
      ]
     },
     "execution_count": 39,
     "metadata": {},
     "output_type": "execute_result"
    }
   ],
   "source": [
    "words = nltk.word_tokenize(paragraph)\n",
    "words[0:10]"
   ]
  },
  {
   "cell_type": "markdown",
   "id": "7e9e543b-2a91-4b24-b4f4-d293f61a06d5",
   "metadata": {},
   "source": [
    "## Stemming\n",
    "---"
   ]
  },
  {
   "cell_type": "markdown",
   "id": "a6d1b2d7-9f08-4bfd-9c87-b5c5ceb50301",
   "metadata": {},
   "source": [
    "- Stemming is the process of reducing a word to its base or root form. In NLP, the Natural Language Toolkit (nltk) provides tools for stemming words. The primary purpose of stemming is to remove affixes (such as -ing, -ed, -s) from words to obtain their base form, which helps in text processing tasks like search and indexing.\n",
    "\n",
    "\n",
    "| Word          | Stemmed Word  |\n",
    "|---------------|----------------|\n",
    "| running       | run            |\n",
    "| jumped        | jump           |\n",
    "| happily       | happi          |\n",
    "| studies       | studi          |\n",
    "| better        | better         |\n",
    "| swimming      | swim           |\n",
    "| dancing       | danc           |\n",
    "\n",
    "\n",
    "\n",
    "Here's an example of how to perform stemming using the Porter stemmer in nltk:\n",
    "\n",
    "```python\n",
    "import nltk\n",
    "from nltk.stem import PorterStemmer\n",
    "\n",
    "# Initialize the Porter stemmer\n",
    "stemmer = PorterStemmer()\n",
    "\n",
    "# List of words to stem\n",
    "words = [\"running\", \"jumped\", \"happily\", \"studies\", \"better\", \"swimming\", \"dancing\"]\n",
    "\n",
    "# Stem the words and print the results\n",
    "stemmed_words = [(word, stemmer.stem(word)) for word in words]\n",
    "for word, stemmed_word in stemmed_words:\n",
    "    print(f\"{word} -> {stemmed_word}\")\n"
   ]
  },
  {
   "cell_type": "markdown",
   "id": "268f5c4e-6947-4841-8bf6-006e6cdb6a2f",
   "metadata": {},
   "source": [
    "The following are the functions you can use when stemming:\n",
    "\n",
    "**Functions (NLTK Stemming)**  \n",
    "\n",
    "| Function           | Description                                                                 | Syntax                                    |\n",
    "|-------------------|---------------------------------------------------------------------------|------------------------------------------|\n",
    "| `PorterStemmer`   | Initializes the Porter Stemmer, which is a rule-based algorithm for removing common suffixes from words in English. It is less aggressive compared to other stemmers. | `stemmer = PorterStemmer()`            |\n",
    "| `LancasterStemmer` | Initializes the Lancaster Stemmer, which is an aggressive stemming algorithm that reduces words to a very short root form, often cutting off more letters than necessary. | `stemmer = LancasterStemmer()`         |\n",
    "| `SnowballStemmer`  | Initializes the Snowball Stemmer, which is an improved version of the Porter Stemmer. It supports multiple languages and applies more refined stemming rules. | `stemmer = SnowballStemmer('english')` |\n",
    "| `stem`            | Reduces a given word to its root form using the selected stemmer. This method applies the stemming rules defined by the respective stemmer. | `stemmer.stem('running')`              |\n",
    "\n",
    "\n",
    "\n",
    "**Arguments (NLTK Stemming)**  \n",
    "\n",
    "| Argument      | Description                                                                 | Possible Values         | Syntax                                  |\n",
    "|--------------|---------------------------------------------------------------------------|-------------------------|-----------------------------------------|\n",
    "| `language`   | Specifies the language for the SnowballStemmer, allowing stemming in multiple languages like English, French, and German. | `'english'`, `'french'`, `'german'` | `SnowballStemmer(language='english')` |\n",
    "| `word`       | The input word to be stemmed, which will be reduced to its base/root form. | Any string              | `stemmer.stem('playing')`              |\n",
    "\n"
   ]
  },
  {
   "cell_type": "code",
   "execution_count": 40,
   "id": "d8829962-0cc0-4367-b682-b41db6fec16b",
   "metadata": {},
   "outputs": [
    {
     "name": "stdout",
     "output_type": "stream",
     "text": [
      "['and', 'he', 'went', 'back', 'to', 'meet', 'the', 'fox', '.', '``', 'goodby', ',', \"''\", 'he', 'said', '.', '``', 'goodby', ',', \"''\", 'said', 'the', 'fox', '.', '``', 'and', 'now', 'here', 'is', 'my', 'secret', ',', 'a', 'veri', 'simpl', 'secret', ':', 'it', 'is', 'onli', 'with', 'the', 'heart', 'that', 'one', 'can', 'see', 'rightli', ';', 'what', 'is', 'essenti', 'is', 'invis', 'to', 'the', 'eye', '.', \"''\", '``', 'what', 'is', 'essenti', 'is', 'invis', 'to', 'the', 'eye', ',', \"''\", 'the', 'littl', 'princ', 'repeat', ',', 'so', 'that', 'he', 'would', 'be', 'sure', 'to', 'rememb', '.', '``', 'it', 'is', 'the', 'time', 'you', 'have', 'wast', 'for', 'your', 'rose', 'that', 'make', 'your', 'rose', 'so', 'import', '.', \"''\", '``', 'it', 'is', 'the', 'time', 'i', 'have', 'wast', 'for', 'my', 'rose', '--', \"''\", 'said', 'the', 'littl', 'princ', ',', 'so', 'that', 'he', 'would', 'be', 'sure', 'to', 'rememb', '.', '``', 'men', 'have', 'forgotten', 'thi', 'truth', ',', \"''\", 'said', 'the', 'fox', '.', '``', 'but', 'you', 'must', 'not', 'forget', 'it', '.', 'you', 'becom', 'respons', ',', 'forev', ',', 'for', 'what', 'you', 'have', 'tame', '.', 'you', 'are', 'respons', 'for', 'your', 'rose', '...', \"''\", '``', 'i', 'am', 'respons', 'for', 'my', 'rose', ',', \"''\", 'the', 'littl', 'princ', 'repeat', ',', 'so', 'that', 'he', 'would', 'be', 'sure', 'to', 'rememb', '.']\n",
      "\n",
      "\n",
      "['And', 'he', 'went', 'back', 'to', 'meet', 'the', 'fox', '.', '``', 'Goodbye', ',', \"''\", 'he', 'said', '.', '``', 'Goodbye', ',', \"''\", 'said', 'the', 'fox', '.', '``', 'And', 'now', 'here', 'is', 'my', 'secret', ',', 'a', 'very', 'simple', 'secret', ':', 'It', 'is', 'only', 'with', 'the', 'heart', 'that', 'one', 'can', 'see', 'rightly', ';', 'what', 'is', 'essential', 'is', 'invisible', 'to', 'the', 'eye', '.', \"''\", '``', 'What', 'is', 'essential', 'is', 'invisible', 'to', 'the', 'eye', ',', \"''\", 'the', 'little', 'prince', 'repeated', ',', 'so', 'that', 'he', 'would', 'be', 'sure', 'to', 'remember', '.', '``', 'It', 'is', 'the', 'time', 'you', 'have', 'wasted', 'for', 'your', 'rose', 'that', 'makes', 'your', 'rose', 'so', 'important', '.', \"''\", '``', 'It', 'is', 'the', 'time', 'I', 'have', 'wasted', 'for', 'my', 'rose', '--', \"''\", 'said', 'the', 'little', 'prince', ',', 'so', 'that', 'he', 'would', 'be', 'sure', 'to', 'remember', '.', '``', 'Men', 'have', 'forgotten', 'this', 'truth', ',', \"''\", 'said', 'the', 'fox', '.', '``', 'But', 'you', 'must', 'not', 'forget', 'it', '.', 'You', 'become', 'responsible', ',', 'forever', ',', 'for', 'what', 'you', 'have', 'tamed', '.', 'You', 'are', 'responsible', 'for', 'your', 'rose', '...', \"''\", '``', 'I', 'am', 'responsible', 'for', 'my', 'rose', ',', \"''\", 'the', 'little', 'prince', 'repeated', ',', 'so', 'that', 'he', 'would', 'be', 'sure', 'to', 'remember', '.']\n"
     ]
    }
   ],
   "source": [
    "from nltk.stem import PorterStemmer\n",
    "stemmer = PorterStemmer()\n",
    "stemmedWords = [stemmer.stem(word) for word in words]\n",
    "\n",
    "print(stemmedWords)\n",
    "print(\"\\n\")\n",
    "print(words)"
   ]
  },
  {
   "cell_type": "markdown",
   "id": "6268f8dc-a4aa-49ea-bd77-31e556f98d74",
   "metadata": {},
   "source": [
    "## Stop Words\n",
    "\n",
    "---"
   ]
  },
  {
   "cell_type": "markdown",
   "id": "b51116ba-afa1-4a2f-a35e-d82bd498b216",
   "metadata": {},
   "source": [
    "- Stop words are commonly used words (such as \"the\", \"is\", \"in\", \"and\", etc.) that are often ignored in text processing tasks because they carry very little meaningful information. In NLP, removing stop words can help reduce the size of the dataset and improve the performance of text analysis algorithms by focusing on the more significant words.\n",
    "\n",
    "- The Natural Language Toolkit (nltk) provides a list of stop words for various languages, and it includes functions to filter out these words from text.\n",
    "\n",
    "Here's an example of how to use stop words in nltk:\n",
    "\n",
    "```python\n",
    "import nltk\n",
    "from nltk.corpus import stopwords\n",
    "\n",
    "# Get the list of English stop words\n",
    "stop_words = set(stopwords.words('english'))\n",
    "\n",
    "# Sample text\n",
    "text = \"This is a simple example to demonstrate the removal of stop words.\"\n",
    "\n",
    "# Tokenize the text\n",
    "words = nltk.word_tokenize(text)\n",
    "\n",
    "# Filter out stop words\n",
    "filtered_words = [word for word in words if word.lower() not in stop_words]\n",
    "\n",
    "print(\"Original Text:\", text)\n",
    "print(\"Filtered Text:\", \" \".join(filtered_words))"
   ]
  },
  {
   "cell_type": "code",
   "execution_count": 41,
   "id": "654f5cdc-6518-4d19-8540-adfbe9f8294b",
   "metadata": {},
   "outputs": [
    {
     "name": "stdout",
     "output_type": "stream",
     "text": [
      "['and', 'went', 'back', 'meet', 'fox', '.', '``', 'goodby', ',', \"''\", 'said', '.', '``', 'goodby', ',', \"''\", 'said', 'fox', '.', '``', 'and', 'secret', ',', 'simpl', 'secret', ':', 'it', 'heart', 'one', 'see', 'rightli', ';', 'essenti', 'invis', 'eye', '.', \"''\", '``', 'what', 'essenti', 'invis', 'eye', ',', \"''\", 'littl', 'princ', 'repeat', ',', 'would', 'sure', 'rememb', '.', '``', 'it', 'time', 'wast', 'rose', 'make', 'rose', 'import', '.', \"''\", '``', 'it', 'time', 'i', 'wast', 'rose', '--', \"''\", 'said', 'littl', 'princ', ',', 'would', 'sure', 'rememb', '.', '``', 'men', 'forgotten', 'truth', ',', \"''\", 'said', 'fox', '.', '``', 'but', 'must', 'forget', '.', 'you', 'becom', 'respons', ',', 'forev', ',', 'tame', '.', 'you', 'respons', 'rose', '...', \"''\", '``', 'i', 'respons', 'rose', ',', \"''\", 'littl', 'princ', 'repeat', ',', 'would', 'sure', 'rememb', '.']\n",
      "\n",
      "\n",
      "['And', 'he', 'went', 'back', 'to', 'meet', 'the', 'fox', '.', '``', 'Goodbye', ',', \"''\", 'he', 'said', '.', '``', 'Goodbye', ',', \"''\", 'said', 'the', 'fox', '.', '``', 'And', 'now', 'here', 'is', 'my', 'secret', ',', 'a', 'very', 'simple', 'secret', ':', 'It', 'is', 'only', 'with', 'the', 'heart', 'that', 'one', 'can', 'see', 'rightly', ';', 'what', 'is', 'essential', 'is', 'invisible', 'to', 'the', 'eye', '.', \"''\", '``', 'What', 'is', 'essential', 'is', 'invisible', 'to', 'the', 'eye', ',', \"''\", 'the', 'little', 'prince', 'repeated', ',', 'so', 'that', 'he', 'would', 'be', 'sure', 'to', 'remember', '.', '``', 'It', 'is', 'the', 'time', 'you', 'have', 'wasted', 'for', 'your', 'rose', 'that', 'makes', 'your', 'rose', 'so', 'important', '.', \"''\", '``', 'It', 'is', 'the', 'time', 'I', 'have', 'wasted', 'for', 'my', 'rose', '--', \"''\", 'said', 'the', 'little', 'prince', ',', 'so', 'that', 'he', 'would', 'be', 'sure', 'to', 'remember', '.', '``', 'Men', 'have', 'forgotten', 'this', 'truth', ',', \"''\", 'said', 'the', 'fox', '.', '``', 'But', 'you', 'must', 'not', 'forget', 'it', '.', 'You', 'become', 'responsible', ',', 'forever', ',', 'for', 'what', 'you', 'have', 'tamed', '.', 'You', 'are', 'responsible', 'for', 'your', 'rose', '...', \"''\", '``', 'I', 'am', 'responsible', 'for', 'my', 'rose', ',', \"''\", 'the', 'little', 'prince', 'repeated', ',', 'so', 'that', 'he', 'would', 'be', 'sure', 'to', 'remember', '.']\n"
     ]
    }
   ],
   "source": [
    "# Stemming The Little Prince and using stopwords\n",
    "# as you can see from the top example, the unnecessary words were also process, we use stopwords to handle that\n",
    "try:\n",
    "    nltk.data.find(\"corpora/stopwords\")\n",
    "except LookupError:\n",
    "    nltk.download(\"stopwords\")\n",
    "\n",
    "from nltk.stem import PorterStemmer\n",
    "from nltk.corpus import stopwords\n",
    "\n",
    "stemmer = PorterStemmer()\n",
    "impStemmedWords = [stemmer.stem(word) for word in words if word not in set(stopwords.words(\"english\"))]\n",
    "print(impStemmedWords)\n",
    "print(\"\\n\")\n",
    "print(words)"
   ]
  },
  {
   "cell_type": "code",
   "execution_count": 42,
   "id": "daead2fd-6ca3-4c69-b00c-daf11f44546a",
   "metadata": {},
   "outputs": [
    {
     "data": {
      "text/plain": [
       "['and went back meet fox .',\n",
       " \"`` goodby , '' said .\",\n",
       " \"`` goodby , '' said fox .\",\n",
       " \"`` and secret , simpl secret : it heart one see rightli ; essenti invis eye . ''\",\n",
       " \"`` what essenti invis eye , '' littl princ repeat , would sure rememb .\",\n",
       " \"`` it time wast rose make rose import . ''\",\n",
       " \"`` it time i wast rose -- '' said littl princ , would sure rememb .\",\n",
       " \"`` men forgotten truth , '' said fox .\",\n",
       " '`` but must forget .',\n",
       " 'you becom respons , forev , tame .',\n",
       " \"you respons rose ... '' `` i respons rose , '' littl princ repeat , would sure rememb .\"]"
      ]
     },
     "execution_count": 42,
     "metadata": {},
     "output_type": "execute_result"
    }
   ],
   "source": [
    "stemmedSentences = []\n",
    "for i in range(len(sentences)):\n",
    "    words = nltk.word_tokenize(sentences[i])\n",
    "    impStemmedWords = [stemmer.stem(word) for word in words if word not in set(stopwords.words(\"english\"))]\n",
    "    stemmedSentences.append(' '.join(impStemmedWords))\n",
    "stemmedSentences"
   ]
  },
  {
   "cell_type": "markdown",
   "id": "1e355ee3-25b8-429f-8e70-940485420d0a",
   "metadata": {},
   "source": [
    "## Lemmatization\n",
    "---\n",
    "- Does the same thing as stemming but it transforms the word to a meaningful word:"
   ]
  },
  {
   "cell_type": "markdown",
   "id": "eae5793d-79c7-4d7f-a7ea-baaa20175964",
   "metadata": {},
   "source": [
    "\n",
    "| Word          | Lemmatized Word  |\n",
    "|---------------|------------------|\n",
    "| running       | run              |\n",
    "| jumped        | jump             |\n",
    "| happily       | happily          |\n",
    "| studies       | study            |\n",
    "| better        | good             |\n",
    "| swimming      | swim             |\n",
    "| dancing       | dance            |\n",
    "\n",
    "\n",
    "Here's an example of how to perform lemmatization using the WordNetLemmatizer in nltk:\n",
    "\n",
    "```python\n",
    "import nltk\n",
    "from nltk.stem import WordNetLemmatizer\n",
    "\n",
    "# Initialize the WordNet lemmatizer\n",
    "lemmatizer = WordNetLemmatizer()\n",
    "\n",
    "# List of words to lemmatize\n",
    "words = [\"running\", \"jumped\", \"happily\", \"studies\", \"better\", \"swimming\", \"dancing\"]\n",
    "\n",
    "# Lemmatize the words and print the results\n",
    "lemmatized_words = [(word, lemmatizer.lemmatize(word)) for word in words]\n",
    "for word, lemmatized_word in lemmatized_words:\n",
    "    print(f\"{word} -> {lemmatized_word}\")\n"
   ]
  },
  {
   "cell_type": "markdown",
   "id": "2f6a6f2f-b7de-44b3-8766-ed3a0f29c731",
   "metadata": {},
   "source": [
    "The following are the functions and arguments you can use when doing lemmatization\n",
    "**Functions (NLTK Lemmatization)**  \n",
    "\n",
    "| Function          | Description                                                                 | Syntax                                  |\n",
    "|------------------|---------------------------------------------------------------------------|-----------------------------------------|\n",
    "| `WordNetLemmatizer` | Initializes the WordNet Lemmatizer, which reduces words to their dictionary form using lexical databases like WordNet. | `lemmatizer = WordNetLemmatizer()` |\n",
    "| `lemmatize`      | Converts a word to its base form (lemma) while considering its part of speech (POS). If no POS is provided, it defaults to **noun**. | `lemmatizer.lemmatize('running', pos='v')` |\n",
    "\n",
    "**Arguments (NLTK Lemmatization)**  \n",
    "\n",
    "| Argument   | Description                                                                            | Possible Values               | Syntax                                    |\n",
    "|-----------|--------------------------------------------------------------------------------------|-------------------------------|------------------------------------------|\n",
    "| `word`    | The input word to be lemmatized, which will be transformed into its dictionary form. | Any string                     | `lemmatizer.lemmatize('wolves')`       |\n",
    "| `pos`     | Specifies the part of speech (POS) of the word. If not provided, it defaults to a noun. Providing the correct POS improves accuracy. | `'n'` (noun), `'v'` (verb), `'a'` (adjective), `'r'` (adverb) | `lemmatizer.lemmatize('better', pos='a')` |\n",
    "\n"
   ]
  },
  {
   "cell_type": "code",
   "execution_count": 43,
   "id": "b68b880b-adde-4b1b-be7f-78f2cca69948",
   "metadata": {},
   "outputs": [
    {
     "data": {
      "text/plain": [
       "[' And he went back to meet the fox.',\n",
       " '\"Goodbye,\" he said.',\n",
       " '\"Goodbye,\" said the fox.',\n",
       " '\"And now here is my secret, a very simple secret: It is only with the heart that one can see rightly; what is essential is invisible to the eye.\"',\n",
       " '\"What is essential is invisible to the eye,\" the little prince repeated, so that he would be sure to remember.',\n",
       " '\"It is the time you have wasted for your rose that makes your rose so important.\"',\n",
       " '\"It is the time I have wasted for my rose --\" said the little prince, so that he would be sure to remember.',\n",
       " '\"Men have forgotten this truth,\" said the fox.',\n",
       " '\"But you must not forget it.',\n",
       " 'You become responsible, forever, for what you have tamed.',\n",
       " 'You are responsible for your rose...\" \"I am responsible for my rose,\" the little prince repeated, so that he would be sure to remember.']"
      ]
     },
     "execution_count": 43,
     "metadata": {},
     "output_type": "execute_result"
    }
   ],
   "source": [
    "from nltk import WordNetLemmatizer\n",
    "from nltk.corpus import stopwords\n",
    "\n",
    "sentences"
   ]
  },
  {
   "cell_type": "code",
   "execution_count": 44,
   "id": "2629c866-51ab-459e-bf95-d4cc0a7dd7c1",
   "metadata": {},
   "outputs": [
    {
     "name": "stdout",
     "output_type": "stream",
     "text": [
      "['And went back meet fox .', \"`` Goodbye , '' said .\", \"`` Goodbye , '' said fox .\", \"`` And secret , simple secret : It heart one see rightly ; essential invisible eye . ''\", \"`` What essential invisible eye , '' little prince repeated , would sure remember .\", \"`` It time wasted rose make rose important . ''\", \"`` It time I wasted rose -- '' said little prince , would sure remember .\", \"`` Men forgotten truth , '' said fox .\", '`` But must forget .', 'You become responsible , forever , tamed .', \"You responsible rose ... '' `` I responsible rose , '' little prince repeated , would sure remember .\"]\n",
      "\n",
      "\n",
      "[' And he went back to meet the fox.', '\"Goodbye,\" he said.', '\"Goodbye,\" said the fox.', '\"And now here is my secret, a very simple secret: It is only with the heart that one can see rightly; what is essential is invisible to the eye.\"', '\"What is essential is invisible to the eye,\" the little prince repeated, so that he would be sure to remember.', '\"It is the time you have wasted for your rose that makes your rose so important.\"', '\"It is the time I have wasted for my rose --\" said the little prince, so that he would be sure to remember.', '\"Men have forgotten this truth,\" said the fox.', '\"But you must not forget it.', 'You become responsible, forever, for what you have tamed.', 'You are responsible for your rose...\" \"I am responsible for my rose,\" the little prince repeated, so that he would be sure to remember.']\n"
     ]
    }
   ],
   "source": [
    "# now what you want to do is to transform the sentences list to be a list of lemmatized words\n",
    "lemmatizer = WordNetLemmatizer()\n",
    "lemmatizedSentences = []\n",
    "\n",
    "for i in range(len(sentences)):\n",
    "    words = nltk.word_tokenize(sentences[i])\n",
    "    words = [lemmatizer.lemmatize(word) for word in words if word not in set(stopwords.words(\"english\"))]\n",
    "    lemmatizedSentences.append(' '.join(words))\n",
    "print(lemmatizedSentences)\n",
    "print(\"\\n\")\n",
    "print(sentences)"
   ]
  },
  {
   "cell_type": "markdown",
   "id": "81cbad56-b054-428e-afb3-399ae4a98a6f",
   "metadata": {},
   "source": [
    "## Bag of Words\n",
    "---"
   ]
  },
  {
   "cell_type": "markdown",
   "id": "1840222b-4edb-4a36-8c7a-d86a623001cf",
   "metadata": {},
   "source": [
    "Bag of words is representing the words into a dataframe really for example you have the following sentences:\n",
    "- He is a good boy boy\n",
    "- She is a good girl\n",
    "- Boy and girl are good\n",
    "\n",
    "We can apply stopwords and lemmatizer to transform them to tokens. If we do the output will be:\n",
    "- good boy boy\n",
    "- good girl\n",
    "- boy girl good\n",
    "\n",
    "After that we get the count plot"
   ]
  },
  {
   "cell_type": "code",
   "execution_count": 45,
   "id": "d01bfba0-5e6d-4219-9107-7ae974823b59",
   "metadata": {},
   "outputs": [
    {
     "data": {
      "image/png": "[encoded data removed]",
      "text/plain": [
       "<Figure size 640x480 with 1 Axes>"
      ]
     },
     "metadata": {},
     "output_type": "display_data"
    }
   ],
   "source": [
    "import matplotlib.pyplot as plt\n",
    "\n",
    "x = ['good', 'boy', 'girl']\n",
    "y = [3, 3, 2]\n",
    "\n",
    "plt.bar(x, y)\n",
    "plt.show()"
   ]
  },
  {
   "cell_type": "markdown",
   "id": "ff90c5f2-b478-4857-a5cc-8ee179ccadb8",
   "metadata": {},
   "source": [
    "And then we make them a vector:\n",
    "\n",
    "<table class=\"table_class_basic_full_width\" style=\"font-size: 85%; width: 100%; border-collapse: collapse; border: 1px solid;\">\r\n",
    "                <thead><tr><th style=\"width:20%;  padding: 2px; border: 1px solid;\">​</th><th style=\"width:20%;  padding: 2px; border: 1px solid;\">good​</th><th style=\"width:20%;  padding: 2px; border: 1px solid;\">boy​</th><th style=\"width:20%;  padding: 2px; border: 1px solid;\">​girl</th><th style=\"width:20%;  padding: 2px; border: 1px solid;\">output​</th></tr></thead>\r\n",
    "                <tbody><tr><td style=\"width:20%;  padding: 2px; border: 1px solid;\">​sentence 1</td><td style=\"width:20%;  padding: 2px; border: 1px solid;\">​1</td><td style=\"width:20%;  padding: 2px; border: 1px solid;\">​2</td><td style=\"width:20%;  padding: 2px; border: 1px solid;\">​0</td><td style=\"width:20%;  padding: 2px; border: 1px solid;\">​x</td></tr><tr><td style=\"width:20%;  padding: 2px; border: 1px solid;\">​sentence 2</td><td style=\"width:20%;  padding: 2px; border: 1px solid;\">​1</td><td style=\"width:20%;  padding: 2px; border: 1px solid;\">​0</td><td style=\"width:20%;  padding: 2px; border: 1px solid;\">​1</td><td style=\"width:20%;  padding: 2px; border: 1px solid;\">​x</td></tr><tr><td style=\"width:20%;  padding: 2px; border: 1px solid;\">​sentence 3</td><td style=\"width:20%;  padding: 2px; border: 1px solid;\">​1</td><td style=\"width:20%;  padding: 2px; border: 1px solid;\">​1</td><td style=\"width:20%;  padding: 2px; border: 1px solid;\">​1</td><td style=\"width:20%;  padding: 2px; border: 1px solid;\">​y</td></tr></tbody></table>"
   ]
  },
  {
   "cell_type": "markdown",
   "id": "0e5f96a3-ee54-4134-a828-3704e5ebf5ae",
   "metadata": {},
   "source": [
    "remember that this can be vectores if you do the `.value` on the input and output column/s"
   ]
  },
  {
   "cell_type": "code",
   "execution_count": 46,
   "id": "1733783b-799e-4757-9bdd-876552c08559",
   "metadata": {},
   "outputs": [
    {
     "data": {
      "text/plain": [
       "['little prince tamed fox',\n",
       " 'hour departure drew near ah said fox shall cry',\n",
       " 'fault said little prince',\n",
       " 'never wished sort harm wanted tame yes said fox',\n",
       " 'going cry',\n",
       " 'said little prince',\n",
       " 'yes said fox',\n",
       " 'done good',\n",
       " 'done good said fox color wheat field',\n",
       " 'added go look rose',\n",
       " 'understand unique world',\n",
       " 'come back say goodbye make present secret']"
      ]
     },
     "execution_count": 46,
     "metadata": {},
     "output_type": "execute_result"
    }
   ],
   "source": [
    "# assuming that the needed things are imported\n",
    "import re\n",
    "\n",
    "paragraph2 = \"\"\"So the little prince tamed the fox. And when the hour of his departure drew near -- \n",
    "\"Ah,\" said the fox, \"I shall cry.\"\n",
    "\"It is your own fault,\" said the little prince. \"I never wished you any sort of harm; but you wanted me to tame you...\"\n",
    "\"Yes, that is so,\" said the fox. \n",
    "\"But now you are going to cry!\" said the little prince. \n",
    "\"Yes, that is so,\" said the fox. \"Then it has done you no good at all!\"\n",
    "\"It has done me good,\" said the fox, \"because of the color of the wheat fields.\" And then he added: \"Go and look again at the roses. \n",
    "You will understand now that yours is unique in all the world. \n",
    "Then come back to say goodbye to me, and I will make you a present of a secret.\" \"\"\"\n",
    "\n",
    "# lowercase the words so that words won't be repeated and erase unneccesary characters\n",
    "\n",
    "paragraph2 = paragraph2.lower()\n",
    "\n",
    "# Tokenize the paragraph to sentences\n",
    "sentences2 = nltk.sent_tokenize(paragraph2)\n",
    "\n",
    "# Lemmatize the sentences\n",
    "lemmatizer = WordNetLemmatizer()\n",
    "lemmatizedSentences2 = []\n",
    "\n",
    "for i in range(len(sentences2)):\n",
    "    sentence = re.sub(\"[^a-zA-Z]\", ' ', sentences2[i])\n",
    "    words = nltk.word_tokenize(sentence)\n",
    "    words = [lemmatizer.lemmatize(word) for word in words if word not in set(stopwords.words(\"english\"))]\n",
    "    lemmatizedSentences2.append(\" \".join(words))\n",
    "lemmatizedSentences2"
   ]
  },
  {
   "cell_type": "markdown",
   "id": "54572d5c-b1eb-470a-a844-1adb51ab3a76",
   "metadata": {},
   "source": [
    "You can then vectorise this with sklearn:"
   ]
  },
  {
   "cell_type": "code",
   "execution_count": 47,
   "id": "5486382c-36d3-4646-a922-088a862b2d66",
   "metadata": {},
   "outputs": [
    {
     "name": "stdout",
     "output_type": "stream",
     "text": [
      "[[0 0 0 0 0 0 0 0 0 0 0 1 0 0 0 0 0 0 1 0 0 0 0 0 1 0 0 0 0 0 0 0 1 0 0 0\n",
      "  0 0 0 0]\n",
      " [0 1 0 0 0 1 1 0 1 0 0 1 0 0 0 0 0 1 0 0 0 1 0 0 0 0 1 0 0 1 0 0 0 0 0 0\n",
      "  0 0 0 0]\n",
      " [0 0 0 0 0 0 0 0 0 1 0 0 0 0 0 0 0 0 1 0 0 0 0 0 1 0 1 0 0 0 0 0 0 0 0 0\n",
      "  0 0 0 0]\n",
      " [0 0 0 0 0 0 0 0 0 0 0 1 0 0 0 0 1 0 0 0 0 0 1 0 0 0 1 0 0 0 1 1 0 0 0 1\n",
      "  0 1 0 1]\n",
      " [0 0 0 0 0 1 0 0 0 0 0 0 0 1 0 0 0 0 0 0 0 0 0 0 0 0 0 0 0 0 0 0 0 0 0 0\n",
      "  0 0 0 0]\n",
      " [0 0 0 0 0 0 0 0 0 0 0 0 0 0 0 0 0 0 1 0 0 0 0 0 1 0 1 0 0 0 0 0 0 0 0 0\n",
      "  0 0 0 0]\n",
      " [0 0 0 0 0 0 0 0 0 0 0 1 0 0 0 0 0 0 0 0 0 0 0 0 0 0 1 0 0 0 0 0 0 0 0 0\n",
      "  0 0 0 1]\n",
      " [0 0 0 0 0 0 0 1 0 0 0 0 0 0 1 0 0 0 0 0 0 0 0 0 0 0 0 0 0 0 0 0 0 0 0 0\n",
      "  0 0 0 0]\n",
      " [0 0 0 1 0 0 0 1 0 0 1 1 0 0 1 0 0 0 0 0 0 0 0 0 0 0 1 0 0 0 0 0 0 0 0 0\n",
      "  1 0 0 0]\n",
      " [1 0 0 0 0 0 0 0 0 0 0 0 1 0 0 0 0 0 0 1 0 0 0 0 0 1 0 0 0 0 0 0 0 0 0 0\n",
      "  0 0 0 0]\n",
      " [0 0 0 0 0 0 0 0 0 0 0 0 0 0 0 0 0 0 0 0 0 0 0 0 0 0 0 0 0 0 0 0 0 1 1 0\n",
      "  0 0 1 0]\n",
      " [0 0 1 0 1 0 0 0 0 0 0 0 0 0 0 1 0 0 0 0 1 0 0 1 0 0 0 1 1 0 0 0 0 0 0 0\n",
      "  0 0 0 0]]\n",
      "(12, 40)\n"
     ]
    }
   ],
   "source": [
    "from sklearn.feature_extraction.text import CountVectorizer\n",
    "cv = CountVectorizer()\n",
    "X = cv.fit_transform(lemmatizedSentences2)\n",
    "print(X.toarray())\n",
    "print(X.shape)"
   ]
  },
  {
   "cell_type": "markdown",
   "id": "c0ba9a12-5818-475b-88a7-234184d6f9bb",
   "metadata": {},
   "source": [
    "### Bag of Words with `Counter`\n",
    "Aside from the technique shown in the previous note, you can also utilize the `Counter`\n",
    "\n",
    "```python\n",
    "# Import Counter\n",
    "from collections import Counter\n",
    "\n",
    "# Tokenize the article: tokens\n",
    "tokens = word_tokenize(article)\n",
    "\n",
    "# Convert the tokens into lowercase: lower_tokens\n",
    "lower_tokens = [token.lower() for token in tokens]\n",
    "\n",
    "# Create a Counter with the lowercase tokens: bow_simple\n",
    "bow_simple = Counter(lower_tokens)\n",
    "\n",
    "# Print the 10 most common tokens\n",
    "print(bow_simple.most_common(10))\n",
    "```"
   ]
  },
  {
   "cell_type": "markdown",
   "id": "dd7bc530-09bd-4c08-9296-ef1ede149e9f",
   "metadata": {},
   "source": [
    "## TF-IDF\n",
    "---"
   ]
  },
  {
   "cell_type": "markdown",
   "id": "b6b037fe-7e76-44b3-aabf-391a258704ce",
   "metadata": {},
   "source": [
    "Almost the same as Bag of Words, the difference is that TF-IDF gives weight to each word instead of just count.\n",
    "\n",
    "Bag of words is representing the words into a dataframe really for example you have the following sentences:\n",
    "- He is a good boy boy\n",
    "- She is a good girl\n",
    "- Boy and girl are good\n",
    "\n",
    "We can apply stopwords and lemmatizer to transform them to tokens. If we do the output will be:\n",
    "- good boy boy\n",
    "- good girl\n",
    "- boy girl good\n",
    "\n",
    "Remember that we have these sentences now we'll transform this to Vectors but with weight instead of count. So the first thing we do is find the TF or the `Term Frequency` and that is achieved using the formula:\n",
    "\n",
    "$$TF = \\dfrac{\\text{Number of occurence of the word}}{\\text{total number of words}}$$"
   ]
  },
  {
   "cell_type": "markdown",
   "id": "dfe06768-f1ea-4962-8c71-c9ff3215a9fc",
   "metadata": {},
   "source": [
    "**Term Frequency**\n",
    "\n",
    "| Documents  | boy | girl | good | \n",
    "|-------|------------|------------|------------|\n",
    "| Document 1  | 2/3        | 0        | 1/3        |\n",
    "| Document 2 | 0          | 1/2          | 1/2          |   \n",
    "| Document 3 | 1/3          | 1/3       | 1/3          | \n"
   ]
  },
  {
   "cell_type": "markdown",
   "id": "9b59838e-bb32-4374-834a-eb6bacec2c8c",
   "metadata": {},
   "source": [
    "After that we get the `IDF` which is when you divide the total number of documents in the corpus by the number of documents that contain the term and the get its logarithm. Now it is to be remembered that each word have its own `IDF`\n",
    "\n",
    "$$ IDF = \\log{(\\frac{\\text{number of documents}}{\\text{number of document that contain the term}})}$$"
   ]
  },
  {
   "cell_type": "markdown",
   "id": "6de4525f-3478-499f-a5fd-23ad5c67e89b",
   "metadata": {},
   "source": [
    "**IDF**\n",
    "\n",
    "**Term Frequency**\n",
    "\n",
    "| Words  | IDF | \n",
    "|-------|------------|\n",
    "| boy  | $log(3/2)$        |\n",
    "| girl | $log(3/2)$          | \n",
    "| good | $log(3/3)$          | \n"
   ]
  },
  {
   "cell_type": "markdown",
   "id": "dfad5e3d-e0c2-41e3-88d7-2b3a5e2be60c",
   "metadata": {},
   "source": [
    "And then given these two values, we get the matrix by multiplying the `TF`to their respective `IDF`."
   ]
  },
  {
   "cell_type": "markdown",
   "id": "b1b22f3d-07e4-47fa-af69-90fc42490cfc",
   "metadata": {},
   "source": [
    "and then we get:"
   ]
  },
  {
   "cell_type": "markdown",
   "id": "e26ccf28-4c28-4963-8b75-96f9add98d42",
   "metadata": {},
   "source": [
    "**TF-IDF**\r\n",
    "\r\n",
    "| Documents  | boy | girl | good | Output |\r\n",
    "|------------|-----|------|------|--------|\r\n",
    "| Document 1 | 2/3 $\\times \\log(3/2)$ | $0 \\times \\log(3/2)$ | 1/3 $\\times \\log(3/3)$ |          |\r\n",
    "| Document 2 | 0 $\\times \\log(3/2)$   | 1/2 $\\times \\log(3/2)$ | 1/2 $\\times \\log(3/3)$ |          |\r\n",
    "| Document 3 | 1/3 $\\times \\log(3/2)$ | 1/3 $\\times \\log(3/2)$ | 1/3 $\\times \\log(3/3)$ |          |\r\n"
   ]
  },
  {
   "cell_type": "markdown",
   "id": "c535b6a3-ba9f-4604-84be-7af118347b11",
   "metadata": {},
   "source": [
    "Now from that, we get weights"
   ]
  },
  {
   "cell_type": "code",
   "execution_count": 48,
   "id": "7198c2de-5818-4892-81c3-0b29514edddc",
   "metadata": {},
   "outputs": [],
   "source": [
    "# Okay, so now given this paragraph two we transform it so that machine can understand it\n",
    "\n",
    "paragraph2 = \"\"\"So the little prince tamed the fox. And when the hour of his departure drew near -- \n",
    "\"Ah,\" said the fox, \"I shall cry.\"\n",
    "\"It is your own fault,\" said the little prince. \"I never wished you any sort of harm; but you wanted me to tame you...\"\n",
    "\"Yes, that is so,\" said the fox. \n",
    "\"But now you are going to cry!\" said the little prince. \n",
    "\"Yes, that is so,\" said the fox. \"Then it has done you no good at all!\"\n",
    "\"It has done me good,\" said the fox, \"because of the color of the wheat fields.\" And then he added: \"Go and look again at the roses. \n",
    "You will understand now that yours is unique in all the world. \n",
    "Then come back to say goodbye to me, and I will make you a present of a secret.\" \"\"\""
   ]
  },
  {
   "cell_type": "code",
   "execution_count": 49,
   "id": "9a01415b-b223-4ce2-8cff-c12e16386740",
   "metadata": {},
   "outputs": [
    {
     "data": {
      "text/plain": [
       "['so the little prince tamed the fox.',\n",
       " 'and when the hour of his departure drew near -- \\n\"ah,\" said the fox, \"i shall cry.\"',\n",
       " '\"it is your own fault,\" said the little prince.',\n",
       " '\"i never wished you any sort of harm; but you wanted me to tame you...\"\\n\"yes, that is so,\" said the fox.',\n",
       " '\"but now you are going to cry!\"',\n",
       " 'said the little prince.',\n",
       " '\"yes, that is so,\" said the fox.',\n",
       " '\"then it has done you no good at all!\"',\n",
       " '\"it has done me good,\" said the fox, \"because of the color of the wheat fields.\"',\n",
       " 'and then he added: \"go and look again at the roses.',\n",
       " 'you will understand now that yours is unique in all the world.',\n",
       " 'then come back to say goodbye to me, and i will make you a present of a secret.\"']"
      ]
     },
     "execution_count": 49,
     "metadata": {},
     "output_type": "execute_result"
    }
   ],
   "source": [
    "# Clean the paragraph, lowercase so no duplicated words\n",
    "paragraph2 = paragraph2.lower()\n",
    "\n",
    "# Tokenize the paragraph into sentences, your goal is to have a list of sentences (lemmatized)\n",
    "sentences = nltk.sent_tokenize(paragraph2)\n",
    "sentences"
   ]
  },
  {
   "cell_type": "code",
   "execution_count": 50,
   "id": "efef664a-c9cd-4aad-8b89-5e1a1c1b7cba",
   "metadata": {},
   "outputs": [
    {
     "name": "stdout",
     "output_type": "stream",
     "text": [
      "['little prince tamed fox', 'hour departure drew near ah said fox shall cry', 'fault said little prince', 'never wished sort harm wanted tame yes said fox', 'going cry', 'said little prince', 'yes said fox', 'done good', 'done good said fox color wheat field', 'added go look rose', 'understand unique world', 'come back say goodbye make present secret']\n",
      "\n",
      "\n",
      "['so the little prince tamed the fox.', 'and when the hour of his departure drew near -- \\n\"ah,\" said the fox, \"i shall cry.\"', '\"it is your own fault,\" said the little prince.', '\"i never wished you any sort of harm; but you wanted me to tame you...\"\\n\"yes, that is so,\" said the fox.', '\"but now you are going to cry!\"', 'said the little prince.', '\"yes, that is so,\" said the fox.', '\"then it has done you no good at all!\"', '\"it has done me good,\" said the fox, \"because of the color of the wheat fields.\"', 'and then he added: \"go and look again at the roses.', 'you will understand now that yours is unique in all the world.', 'then come back to say goodbye to me, and i will make you a present of a secret.\"']\n"
     ]
    }
   ],
   "source": [
    "# Lemmatize\n",
    "import re\n",
    "from nltk import WordNetLemmatizer\n",
    "\n",
    "lemmatizer = WordNetLemmatizer()\n",
    "sentences2 = []\n",
    "for i in range(len(sentences)):\n",
    "    sentence = re.sub(\"[^a-zA-Z]\", ' ', sentences[i])\n",
    "    sentence = nltk.word_tokenize(sentence)\n",
    "    words = [lemmatizer.lemmatize(word) for word in sentence if word not in set(stopwords.words(\"english\"))]\n",
    "    sentences2.append(' '.join(words))\n",
    "\n",
    "print(sentences2)\n",
    "print(\"\\n\")\n",
    "print(sentences)"
   ]
  },
  {
   "cell_type": "code",
   "execution_count": 51,
   "id": "6857749f-9097-4d32-b573-6bdc3185a31a",
   "metadata": {},
   "outputs": [
    {
     "name": "stdout",
     "output_type": "stream",
     "text": [
      "[[0.         0.         0.         0.         0.         0.\n",
      "  0.         0.         0.         0.         0.         0.38801002\n",
      "  0.         0.         0.         0.         0.         0.\n",
      "  0.47673404 0.         0.         0.         0.         0.\n",
      "  0.47673404 0.         0.         0.         0.         0.\n",
      "  0.         0.         0.62840874 0.         0.         0.\n",
      "  0.         0.         0.         0.        ]\n",
      " [0.         0.36670065 0.         0.         0.         0.31492678\n",
      "  0.36670065 0.         0.36670065 0.         0.         0.22641876\n",
      "  0.         0.         0.         0.         0.         0.36670065\n",
      "  0.         0.         0.         0.36670065 0.         0.\n",
      "  0.         0.         0.20673525 0.         0.         0.36670065\n",
      "  0.         0.         0.         0.         0.         0.\n",
      "  0.         0.         0.         0.        ]\n",
      " [0.         0.         0.         0.         0.         0.\n",
      "  0.         0.         0.         0.63642679 0.         0.\n",
      "  0.         0.         0.         0.         0.         0.\n",
      "  0.48281682 0.         0.         0.         0.         0.\n",
      "  0.48281682 0.         0.35879906 0.         0.         0.\n",
      "  0.         0.         0.         0.         0.         0.\n",
      "  0.         0.         0.         0.        ]\n",
      " [0.         0.         0.         0.         0.         0.\n",
      "  0.         0.         0.         0.         0.         0.22641876\n",
      "  0.         0.         0.         0.         0.36670065 0.\n",
      "  0.         0.         0.         0.         0.36670065 0.\n",
      "  0.         0.         0.20673525 0.         0.         0.\n",
      "  0.36670065 0.36670065 0.         0.         0.         0.36670065\n",
      "  0.         0.36670065 0.         0.31492678]\n",
      " [0.         0.         0.         0.         0.         0.65152087\n",
      "  0.         0.         0.         0.         0.         0.\n",
      "  0.         0.75863071 0.         0.         0.         0.\n",
      "  0.         0.         0.         0.         0.         0.\n",
      "  0.         0.         0.         0.         0.         0.\n",
      "  0.         0.         0.         0.         0.         0.\n",
      "  0.         0.         0.         0.        ]\n",
      " [0.         0.         0.         0.         0.         0.\n",
      "  0.         0.         0.         0.         0.         0.\n",
      "  0.         0.         0.         0.         0.         0.\n",
      "  0.62594787 0.         0.         0.         0.         0.\n",
      "  0.62594787 0.         0.46516505 0.         0.         0.\n",
      "  0.         0.         0.         0.         0.         0.\n",
      "  0.         0.         0.         0.        ]\n",
      " [0.         0.         0.         0.         0.         0.\n",
      "  0.         0.         0.         0.         0.         0.51514212\n",
      "  0.         0.         0.         0.         0.         0.\n",
      "  0.         0.         0.         0.         0.         0.\n",
      "  0.         0.         0.4703587  0.         0.         0.\n",
      "  0.         0.         0.         0.         0.         0.\n",
      "  0.         0.         0.         0.71651328]\n",
      " [0.         0.         0.         0.         0.         0.\n",
      "  0.         0.70710678 0.         0.         0.         0.\n",
      "  0.         0.         0.70710678 0.         0.         0.\n",
      "  0.         0.         0.         0.         0.         0.\n",
      "  0.         0.         0.         0.         0.         0.\n",
      "  0.         0.         0.         0.         0.         0.\n",
      "  0.         0.         0.         0.        ]\n",
      " [0.         0.         0.         0.43962116 0.         0.\n",
      "  0.         0.37755176 0.         0.         0.43962116 0.27144342\n",
      "  0.         0.         0.37755176 0.         0.         0.\n",
      "  0.         0.         0.         0.         0.         0.\n",
      "  0.         0.         0.24784573 0.         0.         0.\n",
      "  0.         0.         0.         0.         0.         0.\n",
      "  0.43962116 0.         0.         0.        ]\n",
      " [0.5        0.         0.         0.         0.         0.\n",
      "  0.         0.         0.         0.         0.         0.\n",
      "  0.5        0.         0.         0.         0.         0.\n",
      "  0.         0.5        0.         0.         0.         0.\n",
      "  0.         0.5        0.         0.         0.         0.\n",
      "  0.         0.         0.         0.         0.         0.\n",
      "  0.         0.         0.         0.        ]\n",
      " [0.         0.         0.         0.         0.         0.\n",
      "  0.         0.         0.         0.         0.         0.\n",
      "  0.         0.         0.         0.         0.         0.\n",
      "  0.         0.         0.         0.         0.         0.\n",
      "  0.         0.         0.         0.         0.         0.\n",
      "  0.         0.         0.         0.57735027 0.57735027 0.\n",
      "  0.         0.         0.57735027 0.        ]\n",
      " [0.         0.         0.37796447 0.         0.37796447 0.\n",
      "  0.         0.         0.         0.         0.         0.\n",
      "  0.         0.         0.         0.37796447 0.         0.\n",
      "  0.         0.         0.37796447 0.         0.         0.37796447\n",
      "  0.         0.         0.         0.37796447 0.37796447 0.\n",
      "  0.         0.         0.         0.         0.         0.\n",
      "  0.         0.         0.         0.        ]]\n",
      "(12, 40)\n"
     ]
    }
   ],
   "source": [
    "# so now that we have these list of sentences, we can proceed with to transforming it to TF-IDF\n",
    "from sklearn.feature_extraction.text import TfidfVectorizer\n",
    "cv = TfidfVectorizer()\n",
    "X = cv.fit_transform(sentences2).toarray()\n",
    "print(X)\n",
    "print(X.shape)"
   ]
  }
 ],
 "metadata": {
  "kernelspec": {
   "display_name": "Python 3 (ipykernel)",
   "language": "python",
   "name": "python3"
  },
  "language_info": {
   "codemirror_mode": {
    "name": "ipython",
    "version": 3
   },
   "file_extension": ".py",
   "mimetype": "text/x-python",
   "name": "python",
   "nbconvert_exporter": "python",
   "pygments_lexer": "ipython3",
   "version": "3.13.7"
  }
 },
 "nbformat": 4,
 "nbformat_minor": 5
}
