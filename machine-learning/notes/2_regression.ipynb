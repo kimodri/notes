{
 "cells": [
  {
   "cell_type": "markdown",
   "id": "0f409b35-6460-4190-86db-8ed01086ac5c",
   "metadata": {},
   "source": [
    "# Regression"
   ]
  },
  {
   "cell_type": "markdown",
   "id": "849b5e62-72b2-45e2-bff8-f42d0cb0cf79",
   "metadata": {},
   "source": [
    "This is predictig a value of continuous variable."
   ]
  },
  {
   "cell_type": "markdown",
   "id": "0bdcb7f9-e0c0-4a4e-9ef5-df27198a7293",
   "metadata": {},
   "source": [
    "- Create regression model\n",
    "- Performance metrics\n",
    "- k-fold cross-validation and apply regularization to reduce overfitting"
   ]
  },
  {
   "cell_type": "markdown",
   "id": "f5368dd1-f118-4c66-9fc1-08fbe629af16",
   "metadata": {},
   "source": [
    "---"
   ]
  },
  {
   "cell_type": "markdown",
   "id": "1670b4f3-5cf7-4b54-98f6-56b7b11a0198",
   "metadata": {},
   "source": [
    "The use of a regression algorithm follows the same flow as other algorithms\n",
    "\n",
    "```python\n",
    "from sklearn.module import Model\r\n",
    "\r\n",
    "model = Model()\r\n",
    "\r\n",
    "model.fit(X, y)\r\n",
    "\r\n",
    "model.predict(X_new)\n",
    "```"
   ]
  },
  {
   "cell_type": "markdown",
   "id": "2b7257ca-29c7-4bf1-9a81-cd1faa1e5bfb",
   "metadata": {},
   "source": [
    "## Intro to Linear Regression\n",
    "\n",
    "---"
   ]
  },
  {
   "cell_type": "markdown",
   "id": "7a9abb80-e37b-4a87-83bf-63c67f68760e",
   "metadata": {},
   "source": [
    "Through out this course we will be using the diabetes dataset:"
   ]
  },
  {
   "cell_type": "code",
   "execution_count": 1,
   "id": "24409ce8-53c3-42e9-8f78-8a0816f39308",
   "metadata": {},
   "outputs": [
    {
     "data": {
      "text/html": [
       "<div>\n",
       "<style scoped>\n",
       "    .dataframe tbody tr th:only-of-type {\n",
       "        vertical-align: middle;\n",
       "    }\n",
       "\n",
       "    .dataframe tbody tr th {\n",
       "        vertical-align: top;\n",
       "    }\n",
       "\n",
       "    .dataframe thead th {\n",
       "        text-align: right;\n",
       "    }\n",
       "</style>\n",
       "<table border=\"1\" class=\"dataframe\">\n",
       "  <thead>\n",
       "    <tr style=\"text-align: right;\">\n",
       "      <th></th>\n",
       "      <th>pregnancies</th>\n",
       "      <th>glucose</th>\n",
       "      <th>diastolic</th>\n",
       "      <th>triceps</th>\n",
       "      <th>insulin</th>\n",
       "      <th>bmi</th>\n",
       "      <th>dpf</th>\n",
       "      <th>age</th>\n",
       "      <th>diabetes</th>\n",
       "    </tr>\n",
       "  </thead>\n",
       "  <tbody>\n",
       "    <tr>\n",
       "      <th>0</th>\n",
       "      <td>6</td>\n",
       "      <td>148</td>\n",
       "      <td>72</td>\n",
       "      <td>35</td>\n",
       "      <td>0</td>\n",
       "      <td>33.6</td>\n",
       "      <td>0.627</td>\n",
       "      <td>50</td>\n",
       "      <td>1</td>\n",
       "    </tr>\n",
       "    <tr>\n",
       "      <th>1</th>\n",
       "      <td>1</td>\n",
       "      <td>85</td>\n",
       "      <td>66</td>\n",
       "      <td>29</td>\n",
       "      <td>0</td>\n",
       "      <td>26.6</td>\n",
       "      <td>0.351</td>\n",
       "      <td>31</td>\n",
       "      <td>0</td>\n",
       "    </tr>\n",
       "    <tr>\n",
       "      <th>2</th>\n",
       "      <td>8</td>\n",
       "      <td>183</td>\n",
       "      <td>64</td>\n",
       "      <td>0</td>\n",
       "      <td>0</td>\n",
       "      <td>23.3</td>\n",
       "      <td>0.672</td>\n",
       "      <td>32</td>\n",
       "      <td>1</td>\n",
       "    </tr>\n",
       "    <tr>\n",
       "      <th>3</th>\n",
       "      <td>1</td>\n",
       "      <td>89</td>\n",
       "      <td>66</td>\n",
       "      <td>23</td>\n",
       "      <td>94</td>\n",
       "      <td>28.1</td>\n",
       "      <td>0.167</td>\n",
       "      <td>21</td>\n",
       "      <td>0</td>\n",
       "    </tr>\n",
       "    <tr>\n",
       "      <th>4</th>\n",
       "      <td>0</td>\n",
       "      <td>137</td>\n",
       "      <td>40</td>\n",
       "      <td>35</td>\n",
       "      <td>168</td>\n",
       "      <td>43.1</td>\n",
       "      <td>2.288</td>\n",
       "      <td>33</td>\n",
       "      <td>1</td>\n",
       "    </tr>\n",
       "  </tbody>\n",
       "</table>\n",
       "</div>"
      ],
      "text/plain": [
       "   pregnancies  glucose  diastolic  triceps  insulin   bmi    dpf  age  \\\n",
       "0            6      148         72       35        0  33.6  0.627   50   \n",
       "1            1       85         66       29        0  26.6  0.351   31   \n",
       "2            8      183         64        0        0  23.3  0.672   32   \n",
       "3            1       89         66       23       94  28.1  0.167   21   \n",
       "4            0      137         40       35      168  43.1  2.288   33   \n",
       "\n",
       "   diabetes  \n",
       "0         1  \n",
       "1         0  \n",
       "2         1  \n",
       "3         0  \n",
       "4         1  "
      ]
     },
     "execution_count": 1,
     "metadata": {},
     "output_type": "execute_result"
    }
   ],
   "source": [
    "import pandas as pd\n",
    "diabetes_df = pd.read_csv(\"diabetes.csv\")\n",
    "diabetes_df.head()"
   ]
  },
  {
   "cell_type": "markdown",
   "id": "f48d6fa3-1e5d-42c0-9f09-2e5ed3f5067b",
   "metadata": {},
   "source": [
    "## Linear Regression with one variable\n",
    "\n",
    "To get the conceptualize linear regression it is best to create a model that only accepts one column and so:"
   ]
  },
  {
   "cell_type": "code",
   "execution_count": 8,
   "id": "cfba1111-8f51-4f6b-b6f3-58c3672abe8f",
   "metadata": {},
   "outputs": [
    {
     "data": {
      "image/png": "[encoded data removed]",
      "text/plain": [
       "<Figure size 640x480 with 1 Axes>"
      ]
     },
     "metadata": {},
     "output_type": "display_data"
    }
   ],
   "source": [
    "import matplotlib.pyplot as plt\n",
    "\n",
    "# Plotting the values\n",
    "plt.scatter(X_bmi, y, label = \"Actual Values\")\n",
    "plt.xlabel(\"BMI\")\n",
    "plt.ylabel(\"Glucose\")\n",
    "plt.grid()\n",
    "plt.legend()\n",
    "plt.show()"
   ]
  },
  {
   "cell_type": "code",
   "execution_count": 14,
   "id": "583703c7-b1e2-46bf-a7e2-1063ff1fad3f",
   "metadata": {},
   "outputs": [
    {
     "data": {
      "image/png": "[encoded data removed]",
      "text/plain": [
       "<Figure size 640x480 with 1 Axes>"
      ]
     },
     "metadata": {},
     "output_type": "display_data"
    }
   ],
   "source": [
    "from sklearn.linear_model import LinearRegression\n",
    "X_bmi = diabetes_df[['bmi']]\n",
    "y = diabetes_df[['glucose']]\n",
    "model = LinearRegression()\n",
    "model.fit(X_bmi, y)\n",
    "y_pred = model.predict(X_bmi)\n",
    "\n",
    "# Plotting the values\n",
    "plt.scatter(X_bmi, y, label = \"Actual Values\")\n",
    "plt.xlabel(\"BMI\")\n",
    "plt.ylabel(\"Glucose\")\n",
    "plt.grid()\n",
    "plt.plot(X_bmi, y_pred, label = \"Predicted Values\", color = \"black\")\n",
    "plt.legend()\n",
    "plt.show()"
   ]
  },
  {
   "cell_type": "markdown",
   "id": "171a4ff1-e2e5-4512-8c5d-4668e4edbfda",
   "metadata": {},
   "source": [
    "## Linear Regression Demystified"
   ]
  },
  {
   "cell_type": "markdown",
   "id": "0449483c-43a1-45b3-848d-c8f72b385481",
   "metadata": {},
   "source": [
    "Linear regrssion simply means we are trying to fit the fittest line to our observation (fittest means closest to the observation as possible). Like kim, you will not draw a horizontal line to a scatter plot where each observation joins to form a diagonal line.\n",
    "\n",
    "The line follows the formula: \n",
    "$$ y = mx + b $$ and remember that the values of `m` and `b` define how the line will behave so it is reasonable then to find the best m and b that minimize the cost function (the difference between the line and the actual values). "
   ]
  },
  {
   "cell_type": "markdown",
   "id": "a415bc66-79ba-43b2-a0e2-933038a8c7b2",
   "metadata": {},
   "source": [
    "## Multiple Linear Regression\n",
    "\n",
    "---\n",
    "This follows the same flow as the simple linear regression—we just manipulate the data (input) that we will use to fit the model."
   ]
  },
  {
   "cell_type": "code",
   "execution_count": 15,
   "id": "b7a27831-35f1-4818-a246-54460f8e1df4",
   "metadata": {},
   "outputs": [
    {
     "data": {
      "text/html": [
       "<div>\n",
       "<style scoped>\n",
       "    .dataframe tbody tr th:only-of-type {\n",
       "        vertical-align: middle;\n",
       "    }\n",
       "\n",
       "    .dataframe tbody tr th {\n",
       "        vertical-align: top;\n",
       "    }\n",
       "\n",
       "    .dataframe thead th {\n",
       "        text-align: right;\n",
       "    }\n",
       "</style>\n",
       "<table border=\"1\" class=\"dataframe\">\n",
       "  <thead>\n",
       "    <tr style=\"text-align: right;\">\n",
       "      <th></th>\n",
       "      <th>pregnancies</th>\n",
       "      <th>glucose</th>\n",
       "      <th>diastolic</th>\n",
       "      <th>triceps</th>\n",
       "      <th>insulin</th>\n",
       "      <th>bmi</th>\n",
       "      <th>dpf</th>\n",
       "      <th>age</th>\n",
       "      <th>diabetes</th>\n",
       "    </tr>\n",
       "  </thead>\n",
       "  <tbody>\n",
       "    <tr>\n",
       "      <th>0</th>\n",
       "      <td>6</td>\n",
       "      <td>148</td>\n",
       "      <td>72</td>\n",
       "      <td>35</td>\n",
       "      <td>0</td>\n",
       "      <td>33.6</td>\n",
       "      <td>0.627</td>\n",
       "      <td>50</td>\n",
       "      <td>1</td>\n",
       "    </tr>\n",
       "    <tr>\n",
       "      <th>1</th>\n",
       "      <td>1</td>\n",
       "      <td>85</td>\n",
       "      <td>66</td>\n",
       "      <td>29</td>\n",
       "      <td>0</td>\n",
       "      <td>26.6</td>\n",
       "      <td>0.351</td>\n",
       "      <td>31</td>\n",
       "      <td>0</td>\n",
       "    </tr>\n",
       "    <tr>\n",
       "      <th>2</th>\n",
       "      <td>8</td>\n",
       "      <td>183</td>\n",
       "      <td>64</td>\n",
       "      <td>0</td>\n",
       "      <td>0</td>\n",
       "      <td>23.3</td>\n",
       "      <td>0.672</td>\n",
       "      <td>32</td>\n",
       "      <td>1</td>\n",
       "    </tr>\n",
       "    <tr>\n",
       "      <th>3</th>\n",
       "      <td>1</td>\n",
       "      <td>89</td>\n",
       "      <td>66</td>\n",
       "      <td>23</td>\n",
       "      <td>94</td>\n",
       "      <td>28.1</td>\n",
       "      <td>0.167</td>\n",
       "      <td>21</td>\n",
       "      <td>0</td>\n",
       "    </tr>\n",
       "    <tr>\n",
       "      <th>4</th>\n",
       "      <td>0</td>\n",
       "      <td>137</td>\n",
       "      <td>40</td>\n",
       "      <td>35</td>\n",
       "      <td>168</td>\n",
       "      <td>43.1</td>\n",
       "      <td>2.288</td>\n",
       "      <td>33</td>\n",
       "      <td>1</td>\n",
       "    </tr>\n",
       "  </tbody>\n",
       "</table>\n",
       "</div>"
      ],
      "text/plain": [
       "   pregnancies  glucose  diastolic  triceps  insulin   bmi    dpf  age  \\\n",
       "0            6      148         72       35        0  33.6  0.627   50   \n",
       "1            1       85         66       29        0  26.6  0.351   31   \n",
       "2            8      183         64        0        0  23.3  0.672   32   \n",
       "3            1       89         66       23       94  28.1  0.167   21   \n",
       "4            0      137         40       35      168  43.1  2.288   33   \n",
       "\n",
       "   diabetes  \n",
       "0         1  \n",
       "1         0  \n",
       "2         1  \n",
       "3         0  \n",
       "4         1  "
      ]
     },
     "execution_count": 15,
     "metadata": {},
     "output_type": "execute_result"
    }
   ],
   "source": [
    "diabetes_df.head()"
   ]
  },
  {
   "cell_type": "markdown",
   "id": "c02ef1ed-ab2e-45ed-b46f-56fccd8c60ef",
   "metadata": {},
   "source": [
    "So if we want to predict the glucose of an observation or fit a line to the values we can do:"
   ]
  },
  {
   "cell_type": "code",
   "execution_count": 22,
   "id": "d7eb835e-5b3e-4322-99bc-7f9168b17df5",
   "metadata": {},
   "outputs": [],
   "source": [
    "from sklearn.model_selection import train_test_split\n",
    "\n",
    "X = diabetes_df.drop(\"glucose\", axis = 1)\n",
    "y = diabetes_df[\"glucose\"]\n",
    "\n",
    "X_train, X_test, y_train, y_test = train_test_split(X, y, test_size=0.2, random_state=42) \n",
    "\n",
    "# instantiate\n",
    "model = LinearRegression()\n",
    "\n",
    "# fit the model\n",
    "model.fit(X_train, y_train)\n",
    "\n",
    "# predict\n",
    "y_pred = model.predict(X_test)"
   ]
  },
  {
   "cell_type": "code",
   "execution_count": 25,
   "id": "58386e09-9738-4a9d-bdfa-bcaa9eb1b882",
   "metadata": {},
   "outputs": [
    {
     "data": {
      "image/png": "[encoded data removed]",
      "text/plain": [
       "<Figure size 640x480 with 1 Axes>"
      ]
     },
     "metadata": {},
     "output_type": "display_data"
    }
   ],
   "source": [
    "# plotting the data we get\n",
    "\n",
    "plt.scatter(y_test, y_pred)\n",
    "plt.xlabel('Actual Values')\n",
    "plt.ylabel('Predicted Values')\n",
    "plt.grid()\n",
    "plt.show()"
   ]
  },
  {
   "cell_type": "markdown",
   "id": "c1d8c74f-4dc7-48cf-86dc-39ad66883edd",
   "metadata": {},
   "source": [
    "## Linear Regression Accuracy\n",
    "\n",
    "---\n",
    "The default metric when measuring the accuracy is the R-squared (0 - 1). 1 being the highest so that is what is used with the `model.score()`\n",
    "\n",
    "The following are the tools you can use to measure the accuracy of a linear regression model: \n"
   ]
  },
  {
   "cell_type": "markdown",
   "id": "f82e3c78-ca92-4c0b-adcb-ee99b9cec45c",
   "metadata": {},
   "source": [
    "**Arguments**\r\n",
    "\r\n",
    "| Arguments       | Description                                                   | Syntax                                      |\r\n",
    "|----------------|---------------------------------------------------------------|---------------------------------------------|\r\n",
    "| X_test         | Feature matrix for the test data                              | `model.score(X_test, y_test)`               |\r\n",
    "| y_test         | Actual labels for the test data                               | `model.score(X_test, y_test)`               |\r\n",
    "| y_true         | Actual labels for the test data                               | `mean_squared_error(y_true, y_pred, squared=)` |\r\n",
    "| y_pred         | Predicted labels for the test data                            | `mean_squared_error(y_true, y_pred, squared=)` |\r\n",
    "| squared        | If False, returns the square root of the MSE (RMSE)            | `mean_squared_error(y_true, y_pred, squared=)` |\r\n",
    "\r\n",
    "**Functions**\r\n",
    "\r\n",
    "| Functions            | Description                                                   | Syntax                                      |\r\n",
    "|----------------------|---------------------------------------------------------------|---------------------------------------------|\r\n",
    "| .score()             | Computes R-squared, the default metric for linear regression. R-squared values range from 0 to 1, with 1 indicating that the features completely explain the target's variance. | `model.score(X_test, y_test)`               |\r\n",
    "| mean_squared_error   | Calculates the mean squared error (MSE) or root mean squared error (RMSE). MSE is measured in units of the target variable squared, while RMSE is in the same units as the target variable. Lower values indicate better model performance. | `mean_squared_error(y_true, y_pred, squared=)` |\r\n"
   ]
  },
  {
   "cell_type": "markdown",
   "id": "15293bdf-59a8-42f6-9e2d-d5be3c45e522",
   "metadata": {},
   "source": [
    "## Cross-Validation\n",
    "\n",
    "---"
   ]
  },
  {
   "cell_type": "markdown",
   "id": "03c0bd47-5826-40f2-8920-6a111135fbec",
   "metadata": {},
   "source": [
    "Model performance is dependent on the way we split up the data. And to solve the problem we do the technique called the cross validation. \n",
    "\n",
    "The percentage of data used for testing in each iteration depends on the number of folds (k). When you increase the number of folds, the size of each test set decreases. For example, with 20 folds, each fold contains 5% of the data (1/20 = 5%). And it is okay to have less than 20% because in k-folds you are using each subset.\n",
    "\n",
    "The following are the tools you can use with cross validation:\n",
    "\n",
    "**Importing to be able to do cross-validation:**\n",
    "`from sklearn.model_selection import cross_val_score, Kfold`"
   ]
  },
  {
   "cell_type": "markdown",
   "id": "38d30bbb-61dd-4ab2-88dd-c6d5156ac4d7",
   "metadata": {},
   "source": [
    "**Arguments**\n",
    "\n",
    "| Arguments     | Description                                                       | Syntax                                    |\n",
    "|--------------|-------------------------------------------------------------------|-------------------------------------------|\n",
    "| n_splits     | Defines the number of folds in cross-validation                   | `KFold(n_splits=)`                         |\n",
    "| shuffle      | Determines whether to shuffle data before splitting into folds    | `KFold(shuffle=)`                          |\n",
    "| random_state | Sets a seed for reproducibility                                   | `KFold(random_state=)`                     |\n",
    "| cv           | Specifies the cross-validation strategy                           | `cross_val_score(..., cv=)`                |\n",
    "\n",
    "**Functions**\n",
    "\n",
    "| Functions         | Description                                                 | Syntax                                    |\n",
    "|------------------|-------------------------------------------------------------|-------------------------------------------|\n",
    "| KFold           | Initializes a k-fold cross-validation object                 | `KFold(n_splits=, shuffle=, random_state=)` |\n",
    "| cross_val_score | Computes cross-validation scores for a given model           | `cross_val_score(model, X, y, cv=)`        |\n",
    "| mean            | Computes the mean of an array                                | `np.mean(cv_results)`                      |\n",
    "| std             | Computes the standard deviation of an array                  | `np.std(cv_results)`                       |\n",
    "| quantile        | Computes quantiles of an array                               | `np.quantile(cv_results, [lower, upper])`  |"
   ]
  },
  {
   "cell_type": "markdown",
   "id": "0790161e-899b-4a6a-9fff-7be7c8c24e08",
   "metadata": {},
   "source": [
    "After you get the list of scores for each fold you get its descriptive stats to tell something about the possiblt true value of the score."
   ]
  },
  {
   "cell_type": "markdown",
   "id": "75c4f3c6-6469-40d3-a7c1-2b9c2e2f75b9",
   "metadata": {},
   "source": [
    "If you do not specify the scoring argument in scikit-learn's cross-validation functions, the default scoring metric for the estimator you are using will be applied. The default scoring metric varies depending on the type of estimator (e.g., regression, classification).\n",
    "\n",
    "**Default Scoring Metrics:**\n",
    "- Regression Models: For regression models, the default scoring metric is the coefficient of determination, 𝑅^2 This metric measures how well the model's predictions match the actual values, with higher values indicating better performance.\n",
    "- Classification Models: For classification models, the default scoring metric is accuracy. This metric measures the proportion of correctly classified instances out of the total instances."
   ]
  },
  {
   "cell_type": "markdown",
   "id": "5d616d61-25c7-4904-bd58-f8564bd3f5aa",
   "metadata": {},
   "source": [
    "# Study more about Confidence Interval from chatGPT"
   ]
  },
  {
   "cell_type": "markdown",
   "id": "53094890-6c8b-483f-9507-c07f3c670fbf",
   "metadata": {},
   "source": [
    "## Choosing the Scoring Metric for Cross-Validation\r\n",
    "--- \n",
    "\r\n",
    "When performing cross-validation to evaluate your machine learning model, selecting the appropriate scoring metric is crucial. Here are some guidelines to help you choose the right scoring metric:\r\n",
    "\r\n",
    "### 1. Understand Your Problem Type\r\n",
    "- **Regression**: Predicting continuous values (e.g., house prices, temperatures).\r\n",
    "- **Classification**: Predicting categorical values (e.g., spam or not spam, disease presence).\r\n",
    "\r\n",
    "### 2. Common Scoring Metrics\r\n",
    "\r\n",
    "#### Regression Metrics\r\n",
    "- **Mean Squared Error (MSE)**: Measures the average squared difference between actual and predicted values. Lower values indicate better performance.\r\n",
    "  - Use `scoring='neg_mean_squared_error'` in `scikit-learn`.\r\n",
    "- **Root Mean Squared Error (RMSE)**: Square root of MSE, providing error in the same units as the target variable.\r\n",
    "  - Calculate RMSE from `neg_mean_squared_error` scores.\r\n",
    "- **Mean Absolute Error (MAE)**: Measures the average absolute difference between actual and predicted values. Less sensitive to outliers than MSE.\r\n",
    "  - Use `scoring='neg_mean_absolute_error'`.\r\n",
    "- **R-squared (\\( R^2 \\))**: Measures the proportion of variance explained by the model. Higher values indicate better performance.\r\n",
    "  - Use `scoring='r2'`.\r\n",
    "\r\n",
    "#### Classification Metrics\r\n",
    "- **Accuracy**: Measures the proportion of correctly classified instances. Suitable for balanced datasets.\r\n",
    "  - Use `scoring='accuracy'`.\r\n",
    "- **Precision**: Measures the proportion of true positives among predicted positives. Useful for imbalanced datasets.\r\n",
    "  - Use `scoring='precision'`.\r\n",
    "- **Recall**: Measures the proportion of true positives among actual positives. Useful for imbalanced datasets.\r\n",
    "  - Use `scoring='recall'`.\r\n",
    "- **F1 Score**: Harmonic mean of precision and recall. Balances precision and recall.\r\n",
    "  - Use `scoring='f1'`.\r\n",
    "- **Area Under the ROC Curve (AUC-ROC)**: Measures the ability of the model to distinguish between classes. Higher values indicate better performance.\r\n",
    "  - Use `scoring='roc_auc'`.\r\n",
    "\r\n",
    "### 3. Consider Your Goals\r\n",
    "- **Minimize Error**: Use MSE, RMSE, or MAE for regression tasks.\r\n",
    "- **Maximize Explained Variance**: Use \\( R^2 \\) for regression tasks.\r\n",
    "- **Handle Imbalanced Data**: Use precision, recall, or F1 score for classification tasks.\r\n",
    "- **Evaluate Overall Performance**: Use accuracy for balanced classification tasks or AUC-ROC for overall classification performance.\r\n",
    "\r\n",
    "### 4. Example Code\r\n",
    "\r\n",
    "Here's an example of how to use different scoring metrics in cross-validation:\r\n",
    "\r\n",
    "```python\r\n",
    "from sklearn.model_selection import cross_val_score\r\n",
    "from sklearn.linear_model import Ridge\r\n",
    "from sklearn.datasets import make_regression\r\n",
    "\r\n",
    "# Create a sample regression dataset\r\n",
    "X, y = make_regression(n_samples=100, n_features=2, noise=0.1, random_state=42)\r\n",
    "\r\n",
    "# Instantiate the Ridge regression model\r\n",
    "model = Ridge()\r\n",
    "\r\n",
    "# Perform cross-validation with different scoring metrics\r\n",
    "mse_scores = cross_val_score(model, X, y, scoring='neg_mean_squared_error', cv=5)\r\n",
    "r2_scores = cross_val_score(model, X, y, scoring='r2', cv=5)\r\n",
    "\r\n",
    "# Convert negative MSE scores to positive and calculate RMSE\r\n",
    "mse_scores = -mse_scores\r\n",
    "rmse_scores = np.sqrt(mse_scores)\r\n",
    "\r\n",
    "print(\"MSE Scores:\", mse_scores)\r\n",
    "print(\"RMSE Scores:\", rmse_scores)\r\n",
    "print(\"R^2 Scores:\", r2_scores)\r\n"
   ]
  },
  {
   "cell_type": "markdown",
   "id": "f90b6caa-a903-410b-933c-b67aac81dd27",
   "metadata": {},
   "source": [
    "## Regularized Regression\n",
    "\n",
    "---"
   ]
  },
  {
   "cell_type": "markdown",
   "id": "d6bc10c6-4d91-486f-9742-a4b0052ffa7c",
   "metadata": {},
   "source": [
    "This is used to avoid overfitting in regression. Remember that fitting a line requires the manipulation of the variables `a` and `b` and we have a variable called alpha (hyperparameter) that selects the right parameters. We have two regularized regression alogirthms:\n",
    "\n",
    "- Ridge\n",
    "\n",
    "OLS Loss (cost function) + another function that uses the alpha: $$\\alpha \\times  \\sum_{i=1}^{n} a_{i}^2$$\n",
    "\n",
    "- Lasso\n",
    "\n",
    "OLS Loss (cost function) + another function that uses the alpha: $$\\alpha \\times \\sum_{i=1}^{n} |a_{i}|$$"
   ]
  },
  {
   "cell_type": "markdown",
   "id": "03ad6dc0-360e-4d97-9fe9-3a2523d668e9",
   "metadata": {},
   "source": [
    "## Ridge Regression\n",
    "\n",
    "---\n",
    "Ridge penalizes models with large positive and negative coefficients. From the given formula if the alpha is zero then you are just using the OLS and therefore the coefficients are not supervised and **overfitting** may occur and a high alpha may result in **underfitting**.\n",
    "\n",
    "To use Ridge regression in scikit learn we can do the flow:\n",
    "\n",
    "- Create empty list for the scores of different alpha\n",
    "- Loop through different alpha values\n",
    "- Instantiate ridge\n",
    "- Fit\n",
    "- Predict\n",
    "- Append the score to the list\n",
    "\n",
    "```python\n",
    "from sklearn.linear_model import Ridge\n",
    "scores = []\n",
    "for alpha in [0.1, 1.0, 10.0, 100.0, 1000.0]:\n",
    "    ridge = Ridge(alpha = alpha)\n",
    "    ridge.fit(X_train, y_train)\n",
    "    ridge.predict(X_test)\n",
    "    scores.append(ridge.score(X_test, y_test))\n",
    "```"
   ]
  },
  {
   "cell_type": "markdown",
   "id": "d2e5b07f-f752-46e0-8021-8ba975998ac7",
   "metadata": {},
   "source": [
    "## Lasso Regression\n",
    "\n",
    "---"
   ]
  },
  {
   "cell_type": "markdown",
   "id": "6488a2ca-ca27-44b4-8bd2-03c69e6404f5",
   "metadata": {},
   "source": [
    "The use of lasso is the same with the Ridge:\n",
    "\n",
    "- Create empty list for the scores of different alpha\n",
    "- Loop through different alpha values\n",
    "- Instantiate the model\n",
    "- Fit\n",
    "- Predict\n",
    "- Append the score to the list\n",
    "\n",
    "```python\n",
    "from sklearn.linear_model import lasso\n",
    "scores[]\n",
    "for alpha in [0.01, 1.0, 10.0, 100.0, 1000.0]:\n",
    "    lasso = Lasso(alpha = alpha)\n",
    "    lasso.fit(X_train, y_train)\n",
    "    lasso.predict(X_test)\n",
    "    scores.append(ridge.score(X_test, y_test)\n",
    "```"
   ]
  },
  {
   "cell_type": "markdown",
   "id": "86a54f33-a28f-43d6-85b0-d7e906573059",
   "metadata": {},
   "source": [
    "## Lasso Regression for Feature Selection\n",
    "\n",
    "---"
   ]
  },
  {
   "cell_type": "markdown",
   "id": "fd3df185-b745-4777-9667-132ad07c91b0",
   "metadata": {},
   "source": [
    "- Lasso model can select important features of a dataset\n",
    "- Because it shrinks the coefficient of less important to zero"
   ]
  },
  {
   "cell_type": "markdown",
   "id": "c978a0d6-d553-471e-98cf-b8d1d3ef0de6",
   "metadata": {},
   "source": [
    "To do this we follow:\n",
    "- Initializing X and y\n",
    "- Instantiate model\n",
    "- Fit the model to the data and use the `.coef_` attribute and assign it to a variable\n",
    "- Plot\n",
    "\n",
    "```python\n",
    "lasso = Lasso(alpha = 0.1)\n",
    "lasso_coef = lasso.fit(X, y).coef_\n",
    "```\n",
    "That will return a list of coefficients for every feature."
   ]
  },
  {
   "cell_type": "markdown",
   "id": "766f3ab6-b5b6-4c9d-8de3-92d4022cf525",
   "metadata": {},
   "source": [
    "END"
   ]
  },
  {
   "cell_type": "markdown",
   "id": "9245b77d-7494-4f6a-8f66-7f47b3a5bd2b",
   "metadata": {},
   "source": []
  }
 ],
 "metadata": {
  "kernelspec": {
   "display_name": "Python 3 (ipykernel)",
   "language": "python",
   "name": "python3"
  },
  "language_info": {
   "codemirror_mode": {
    "name": "ipython",
    "version": 3
   },
   "file_extension": ".py",
   "mimetype": "text/x-python",
   "name": "python",
   "nbconvert_exporter": "python",
   "pygments_lexer": "ipython3",
   "version": "3.12.9"
  }
 },
 "nbformat": 4,
 "nbformat_minor": 5
}
