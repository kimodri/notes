{
 "cells": [
  {
   "cell_type": "markdown",
   "id": "52fda59e-b0bb-4117-b748-a3da1d55af1e",
   "metadata": {},
   "source": [
    "# Classification"
   ]
  },
  {
   "cell_type": "markdown",
   "id": "887ebea1-06b7-4387-875b-293d90801388",
   "metadata": {},
   "source": [
    "- Split data into training sets and test sets\n",
    "- Fit a model\n",
    "- Predict\n",
    "- Evaluate\n",
    "\n",
    "This note will mainly focus on the K-Nearest Neighbors algorithm but you can always use any algorithm—does not matter—they all follow the same flow as written above"
   ]
  },
  {
   "cell_type": "markdown",
   "id": "e2c755f9-5c86-4eb0-b889-a7b3b63f4637",
   "metadata": {},
   "source": [
    "---"
   ]
  },
  {
   "cell_type": "markdown",
   "id": "d6825470-4c9a-4adf-840d-6cbe46a98a84",
   "metadata": {},
   "source": [
    "The use of an algorithm usually follows:\n",
    "\n",
    "\n",
    "```python\n",
    "from sklearn.module import Model\n",
    "\n",
    "model = Model()\n",
    "\n",
    "model.fit(X, y)\n",
    "\n",
    "model.predict(X_new)\n",
    "```\n"
   ]
  },
  {
   "cell_type": "markdown",
   "id": "17c38767-1f42-4b36-ad44-2d9f96ed71f9",
   "metadata": {},
   "source": [
    "## KNN Classifier\n",
    "\n",
    "---\n",
    "The following are the functionalities you can use when training with the KNN Classifier"
   ]
  },
  {
   "cell_type": "markdown",
   "id": "ae6e46f8-9c34-460b-ae5e-45b235a2fdc2",
   "metadata": {},
   "source": [
    "**Arguments**\r\n",
    "\r\n",
    "| Arguments       | Description                                                   | Syntax                                      |\r\n",
    "|----------------|---------------------------------------------------------------|---------------------------------------------|\r\n",
    "| n_neighbors    | Sets the number of neighbors to consider in KNN               | `KNeighborsClassifier(n_neighbors=)`         |\r\n",
    "\r\n",
    "**Functions**\r\n",
    "\r\n",
    "| Functions            | Description                                                   | Syntax                                      |\r\n",
    "|----------------------|---------------------------------------------------------------|---------------------------------------------|\r\n",
    "| KNeighborsClassifier | Instantiates a KNN classifier with a specified number of neighbors | `KNeighborsClassifier(n_neighbors=)`         |\r\n",
    "| fit                 | Trains the classifier using labeled data                      | `knn.fit(X, y)`                              |\r\n",
    "| predict             | Predicts labels for new, unseen data                          | `knn.predict(X_new)`                         |\r\n",
    "\r\n",
    "**Attributes**\r\n",
    "\r\n",
    "| Attributes  | Description                                    | Syntax     |\r\n",
    "|------------|------------------------------------------------|-----------|\r\n",
    "| values     | Returns NumPy representation of a DataFrame   | `df.values` |\r\n"
   ]
  },
  {
   "cell_type": "markdown",
   "id": "1f7a12d2-3a67-4370-a650-b1bfd3049376",
   "metadata": {},
   "source": [
    "Through out this course we will be using the churn dataset:"
   ]
  },
  {
   "cell_type": "code",
   "execution_count": 3,
   "id": "608f4511-f25c-4a10-9dc9-c186a761f94f",
   "metadata": {},
   "outputs": [
    {
     "data": {
      "text/html": [
       "<div>\n",
       "<style scoped>\n",
       "    .dataframe tbody tr th:only-of-type {\n",
       "        vertical-align: middle;\n",
       "    }\n",
       "\n",
       "    .dataframe tbody tr th {\n",
       "        vertical-align: top;\n",
       "    }\n",
       "\n",
       "    .dataframe thead th {\n",
       "        text-align: right;\n",
       "    }\n",
       "</style>\n",
       "<table border=\"1\" class=\"dataframe\">\n",
       "  <thead>\n",
       "    <tr style=\"text-align: right;\">\n",
       "      <th></th>\n",
       "      <th>account_length</th>\n",
       "      <th>area_code</th>\n",
       "      <th>international_plan</th>\n",
       "      <th>voice_mail_plan</th>\n",
       "      <th>number_vmail_messages</th>\n",
       "      <th>total_day_minutes</th>\n",
       "      <th>total_day_calls</th>\n",
       "      <th>total_day_charge</th>\n",
       "      <th>total_eve_minutes</th>\n",
       "      <th>total_eve_calls</th>\n",
       "      <th>total_eve_charge</th>\n",
       "      <th>total_night_minutes</th>\n",
       "      <th>total_night_calls</th>\n",
       "      <th>total_night_charge</th>\n",
       "      <th>total_intl_minutes</th>\n",
       "      <th>total_intl_calls</th>\n",
       "      <th>total_intl_charge</th>\n",
       "      <th>customer_service_calls</th>\n",
       "      <th>churn</th>\n",
       "    </tr>\n",
       "  </thead>\n",
       "  <tbody>\n",
       "    <tr>\n",
       "      <th>0</th>\n",
       "      <td>128</td>\n",
       "      <td>415</td>\n",
       "      <td>0</td>\n",
       "      <td>1</td>\n",
       "      <td>25</td>\n",
       "      <td>265.1</td>\n",
       "      <td>110</td>\n",
       "      <td>45.07</td>\n",
       "      <td>197.4</td>\n",
       "      <td>99</td>\n",
       "      <td>16.78</td>\n",
       "      <td>244.7</td>\n",
       "      <td>91</td>\n",
       "      <td>11.01</td>\n",
       "      <td>10.0</td>\n",
       "      <td>3</td>\n",
       "      <td>2.70</td>\n",
       "      <td>1</td>\n",
       "      <td>0</td>\n",
       "    </tr>\n",
       "    <tr>\n",
       "      <th>1</th>\n",
       "      <td>107</td>\n",
       "      <td>415</td>\n",
       "      <td>0</td>\n",
       "      <td>1</td>\n",
       "      <td>26</td>\n",
       "      <td>161.6</td>\n",
       "      <td>123</td>\n",
       "      <td>27.47</td>\n",
       "      <td>195.5</td>\n",
       "      <td>103</td>\n",
       "      <td>16.62</td>\n",
       "      <td>254.4</td>\n",
       "      <td>103</td>\n",
       "      <td>11.45</td>\n",
       "      <td>13.7</td>\n",
       "      <td>3</td>\n",
       "      <td>3.70</td>\n",
       "      <td>1</td>\n",
       "      <td>0</td>\n",
       "    </tr>\n",
       "    <tr>\n",
       "      <th>2</th>\n",
       "      <td>137</td>\n",
       "      <td>415</td>\n",
       "      <td>0</td>\n",
       "      <td>0</td>\n",
       "      <td>0</td>\n",
       "      <td>243.4</td>\n",
       "      <td>114</td>\n",
       "      <td>41.38</td>\n",
       "      <td>121.2</td>\n",
       "      <td>110</td>\n",
       "      <td>10.30</td>\n",
       "      <td>162.6</td>\n",
       "      <td>104</td>\n",
       "      <td>7.32</td>\n",
       "      <td>12.2</td>\n",
       "      <td>5</td>\n",
       "      <td>3.29</td>\n",
       "      <td>0</td>\n",
       "      <td>0</td>\n",
       "    </tr>\n",
       "    <tr>\n",
       "      <th>3</th>\n",
       "      <td>84</td>\n",
       "      <td>408</td>\n",
       "      <td>1</td>\n",
       "      <td>0</td>\n",
       "      <td>0</td>\n",
       "      <td>299.4</td>\n",
       "      <td>71</td>\n",
       "      <td>50.90</td>\n",
       "      <td>61.9</td>\n",
       "      <td>88</td>\n",
       "      <td>5.26</td>\n",
       "      <td>196.9</td>\n",
       "      <td>89</td>\n",
       "      <td>8.86</td>\n",
       "      <td>6.6</td>\n",
       "      <td>7</td>\n",
       "      <td>1.78</td>\n",
       "      <td>2</td>\n",
       "      <td>0</td>\n",
       "    </tr>\n",
       "    <tr>\n",
       "      <th>4</th>\n",
       "      <td>75</td>\n",
       "      <td>415</td>\n",
       "      <td>1</td>\n",
       "      <td>0</td>\n",
       "      <td>0</td>\n",
       "      <td>166.7</td>\n",
       "      <td>113</td>\n",
       "      <td>28.34</td>\n",
       "      <td>148.3</td>\n",
       "      <td>122</td>\n",
       "      <td>12.61</td>\n",
       "      <td>186.9</td>\n",
       "      <td>121</td>\n",
       "      <td>8.41</td>\n",
       "      <td>10.1</td>\n",
       "      <td>3</td>\n",
       "      <td>2.73</td>\n",
       "      <td>3</td>\n",
       "      <td>0</td>\n",
       "    </tr>\n",
       "  </tbody>\n",
       "</table>\n",
       "</div>"
      ],
      "text/plain": [
       "   account_length  area_code  international_plan  voice_mail_plan  \\\n",
       "0             128        415                   0                1   \n",
       "1             107        415                   0                1   \n",
       "2             137        415                   0                0   \n",
       "3              84        408                   1                0   \n",
       "4              75        415                   1                0   \n",
       "\n",
       "   number_vmail_messages  total_day_minutes  total_day_calls  \\\n",
       "0                     25              265.1              110   \n",
       "1                     26              161.6              123   \n",
       "2                      0              243.4              114   \n",
       "3                      0              299.4               71   \n",
       "4                      0              166.7              113   \n",
       "\n",
       "   total_day_charge  total_eve_minutes  total_eve_calls  total_eve_charge  \\\n",
       "0             45.07              197.4               99             16.78   \n",
       "1             27.47              195.5              103             16.62   \n",
       "2             41.38              121.2              110             10.30   \n",
       "3             50.90               61.9               88              5.26   \n",
       "4             28.34              148.3              122             12.61   \n",
       "\n",
       "   total_night_minutes  total_night_calls  total_night_charge  \\\n",
       "0                244.7                 91               11.01   \n",
       "1                254.4                103               11.45   \n",
       "2                162.6                104                7.32   \n",
       "3                196.9                 89                8.86   \n",
       "4                186.9                121                8.41   \n",
       "\n",
       "   total_intl_minutes  total_intl_calls  total_intl_charge  \\\n",
       "0                10.0                 3               2.70   \n",
       "1                13.7                 3               3.70   \n",
       "2                12.2                 5               3.29   \n",
       "3                 6.6                 7               1.78   \n",
       "4                10.1                 3               2.73   \n",
       "\n",
       "   customer_service_calls  churn  \n",
       "0                       1      0  \n",
       "1                       1      0  \n",
       "2                       0      0  \n",
       "3                       2      0  \n",
       "4                       3      0  "
      ]
     },
     "execution_count": 3,
     "metadata": {},
     "output_type": "execute_result"
    }
   ],
   "source": [
    "import pandas as pd\n",
    "\n",
    "churnDf = pd.read_csv(\"churn.csv\")\n",
    "churnDf.head()"
   ]
  },
  {
   "cell_type": "markdown",
   "id": "5a43af72-9661-485b-a0cd-f6983be063a8",
   "metadata": {},
   "source": [
    "the task is to predict if an employee would churn or not, to do that we go back to the flow of using an algorithm:"
   ]
  },
  {
   "cell_type": "code",
   "execution_count": 4,
   "id": "c089f026-cff5-46ee-9f49-150a87caadeb",
   "metadata": {},
   "outputs": [
    {
     "name": "stdout",
     "output_type": "stream",
     "text": [
      "[0]\n"
     ]
    }
   ],
   "source": [
    "from sklearn.neighbors import KNeighborsClassifier\n",
    "X = churnDf[[\"account_length\", \"customer_service_calls\"]].values\n",
    "y = churnDf[\"churn\"].values\n",
    "model = KNeighborsClassifier(n_neighbors= 3)\n",
    "model.fit(X, y)\n",
    "prediction = model.predict([[128, 1]])\n",
    "print(prediction)"
   ]
  },
  {
   "cell_type": "markdown",
   "id": "f2d924e6-9e15-41a2-9b89-c9c91d9230c8",
   "metadata": {},
   "source": [
    "## Measuring the Performance\n",
    "\n",
    "---"
   ]
  },
  {
   "cell_type": "markdown",
   "id": "da5aa468-9f16-498f-bf86-8a5b6afcbc02",
   "metadata": {},
   "source": [
    "We can measure the accuracy of the model from the data it is trained on, but that's stupid! That's why we divide the dataset."
   ]
  },
  {
   "cell_type": "markdown",
   "id": "b60386db-6a56-4064-928d-792584da2b54",
   "metadata": {},
   "source": [
    "### Dividing the Dataset"
   ]
  },
  {
   "cell_type": "markdown",
   "id": "466b03fe-3b04-4c6e-b500-8fb39425904a",
   "metadata": {},
   "source": [
    "**Arguments**\r\n",
    "\r\n",
    "| Arguments       | Description                                                   | Syntax                                      |\r\n",
    "|----------------|---------------------------------------------------------------|---------------------------------------------|\r\n",
    "| test_size      | Proportion of the dataset to include in the test split         | `train_test_split(X, y, test_size=)`        |\r\n",
    "| train_size     | Proportion of the dataset to include in the train split        | `train_test_split(X, y, train_size=)`       |\r\n",
    "| random_state   | Controls the shuffling applied to the data before splitting    | `train_test_split(X, y, random_state=)`     |\r\n",
    "| shuffle        | Whether or not to shuffle the data before splitting            | `train_test_split(X, y, shuffle=)`          |\r\n",
    "| stratify       | If not None, data is split in a stratified fashion             | `train_test_split(X, y, stratify=)`         |\r\n",
    "\r\n",
    "**Functions**\r\n",
    "\r\n",
    "| Functions            | Description                                                   | Syntax                                      |\r\n",
    "|----------------------|---------------------------------------------------------------|---------------------------------------------|\r\n",
    "| train_test_split     | Splits arrays or matrices into random train and test subsets  | `train_test_split(X, y, test_size=, train_size=, random_state=, shuffle=, stratify=)` |\r\n"
   ]
  },
  {
   "cell_type": "markdown",
   "id": "9d1707d8-ce38-40d4-9650-7284f2ceb552",
   "metadata": {},
   "source": [
    "### Calculating the score"
   ]
  },
  {
   "cell_type": "markdown",
   "id": "975669d3-c8c5-4eeb-b813-d7269e871aef",
   "metadata": {},
   "source": [
    "We calculate the score in classification by dividing the count of the correct outputs to the total number of outputs."
   ]
  },
  {
   "cell_type": "markdown",
   "id": "a02e2055-7555-474b-8a3e-ed3ff7b330ad",
   "metadata": {},
   "source": [
    "**Arguments**\r\n",
    "\r\n",
    "| Arguments       | Description                                                   | Syntax                                      |\r\n",
    "|----------------|---------------------------------------------------------------|---------------------------------------------|\r\n",
    "| X_test         | Feature matrix for the test data                              | `model.score(X_test, y_test)`               |\r\n",
    "| y_test         | Actual labels for the test data                               | `model.score(X_test, y_test)`               |\r\n",
    "| y_true         | Actual labels for the test data                               | `accuracy_score(y_true, y_pred)`            |\r\n",
    "| y_pred         | Predicted labels for the test data                            | `accuracy_score(y_true, y_pred)`            |\r\n",
    "\r\n",
    "**Functions**\r\n",
    "\r\n",
    "| Functions            | Description                                                   | Syntax                                      |\r\n",
    "|----------------------|---------------------------------------------------------------|---------------------------------------------|\r\n",
    "| .score()             | Calculates the accuracy of the model on the given dataset     | `model.score(X_test, y_test)`               |\r\n",
    "| accuracy_score       | Calculates the accuracy of the predicted labels               | `accuracy_score(y_true, y_pred)`            |\r\n"
   ]
  },
  {
   "cell_type": "markdown",
   "id": "160efa6a-0241-4f18-be4c-87910a066061",
   "metadata": {},
   "source": [
    "### How to pick the best n?\n"
   ]
  },
  {
   "cell_type": "markdown",
   "id": "2f71f1b4-64d4-4122-99ab-8da80acb0e88",
   "metadata": {},
   "source": [
    "You can do this by looping."
   ]
  },
  {
   "cell_type": "code",
   "execution_count": 10,
   "id": "a47581eb-931f-4835-828b-d59c696419f2",
   "metadata": {},
   "outputs": [
    {
     "name": "stdout",
     "output_type": "stream",
     "text": [
      "3\n",
      "0.8710644677661169\n"
     ]
    },
    {
     "data": {
      "image/png": "[encoded data removed]",
      "text/plain": [
       "<Figure size 640x480 with 1 Axes>"
      ]
     },
     "metadata": {},
     "output_type": "display_data"
    }
   ],
   "source": [
    "from sklearn.neighbors import KNeighborsClassifier\n",
    "from sklearn.model_selection import train_test_split\n",
    "\n",
    "X = churnDf[[\"account_length\", \"customer_service_calls\"]].values\n",
    "y = churnDf[\"churn\"].values\n",
    "\n",
    "X_train, X_test, y_train, y_test = train_test_split(X, y, test_size= 0.20, train_size= 0.80, random_state= 42)\n",
    "\n",
    "neighbors = [i for i in range(1, 21)]\n",
    "scoreList = []\n",
    "\n",
    "for neighbor in neighbors:\n",
    "    model = KNeighborsClassifier(n_neighbors = neighbor)\n",
    "    model.fit(X, y)\n",
    "    scoreList.append(model.score(X_test, y_test))\n",
    "\n",
    "print(scoreList.index(max(scoreList)) + 1)\n",
    "print(max(scoreList))\n",
    "\n",
    "\n",
    "import matplotlib.pyplot as plt\n",
    "\n",
    "plt.plot(neighbors, scoreList)\n",
    "plt.ylabel(\"Scores\")\n",
    "plt.xlabel(\"Neighbor\")\n",
    "plt.xticks([i for i in range (1, 21)])\n",
    "plt.grid()\n",
    "plt.show()"
   ]
  },
  {
   "cell_type": "markdown",
   "id": "1fe8737c-f54d-464c-8e11-6243f12ecce1",
   "metadata": {},
   "source": [
    "Remember that there are more than just one classification algorithm :)"
   ]
  },
  {
   "cell_type": "markdown",
   "id": "91929e72-fe99-45d5-ab2c-04a353c3cbd6",
   "metadata": {},
   "source": [
    "END"
   ]
  },
  {
   "cell_type": "markdown",
   "id": "aebe4208-ffc1-4b66-b2a3-7182f97d6420",
   "metadata": {},
   "source": []
  }
 ],
 "metadata": {
  "kernelspec": {
   "display_name": "Python 3 (ipykernel)",
   "language": "python",
   "name": "python3"
  },
  "language_info": {
   "codemirror_mode": {
    "name": "ipython",
    "version": 3
   },
   "file_extension": ".py",
   "mimetype": "text/x-python",
   "name": "python",
   "nbconvert_exporter": "python",
   "pygments_lexer": "ipython3",
   "version": "3.12.9"
  }
 },
 "nbformat": 4,
 "nbformat_minor": 5
}
