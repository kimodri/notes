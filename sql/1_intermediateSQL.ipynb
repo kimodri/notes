{
 "cells": [
  {
   "cell_type": "markdown",
   "id": "a72aa055-1ef9-4d74-a207-9ca2884815d1",
   "metadata": {},
   "source": [
    "# DataCamp: Interemediate SQL \n",
    "This course is a part of the many courses towards DataCamp's SQL Associate Certification. And this is my notes in this course, this will contain important functions and my answers to the practice exercises.<br>\n"
   ]
  },
  {
   "cell_type": "markdown",
   "id": "ff408e1f-e002-4f8e-8eee-e553bd312633",
   "metadata": {},
   "source": [
    "<hr>"
   ]
  },
  {
   "cell_type": "markdown",
   "id": "2952407a-50c3-431c-a80b-5e52a697a5fe",
   "metadata": {},
   "source": [
    "## Contents:\n",
    "1. Lessons\n",
    "   - Querying\n",
    "   - Filtering\n",
    "   - Null\n",
    "   - Aggregate Functions\n",
    "   - Arithmetic\n",
    "   - Sorting\n",
    "   - Grouping\n",
    "   - Filtering Groups\n",
    "2. Exercises\n",
    "   - `WHERE IN`\n",
    "   - `NULL`\n",
    "   - Aliasing Functions\n",
    "   - Grouping with `GROUP BY` Clause\n",
    "   - `GROUP BY` with Multiple Fields\n",
    "   - Answeing Business Questions\n",
    "   - Filtering with `HAVING` clause"
   ]
  },
  {
   "cell_type": "markdown",
   "id": "ee3afebd-df9e-44db-8acb-36ac1cd7f4c7",
   "metadata": {},
   "source": [
    "# Querying:"
   ]
  },
  {
   "cell_type": "markdown",
   "id": "29a13301-0ae0-43e8-ad2c-3c6214343a62",
   "metadata": {},
   "source": [
    "## 1. Using the ```COUNT()``` Function:\n",
    "- ```COUNT()```: returns the number of records with values in a specific field."
   ]
  },
  {
   "cell_type": "code",
   "execution_count": 2,
   "id": "a0c47b6b-dd87-4135-828a-d39180849602",
   "metadata": {
    "collapsed": true,
    "customType": "sql",
    "dataFrameVariableName": "df14",
    "executionCancelledAt": null,
    "executionTime": 1255,
    "jupyter": {
     "outputs_hidden": true,
     "source_hidden": false
    },
    "lastExecutedAt": 1728972291838,
    "lastExecutedByKernel": "a463fa85-419b-412a-885b-7686ad631d6a",
    "lastScheduledRunId": null,
    "lastSuccessfullyExecutedCode": "-- Explore the data in the table\nSELECT *\nFROM companies\nLIMIT 5",
    "sqlCellMode": "dataFrame",
    "sqlSource": {
     "integrationId": "89e17161-a224-4a8a-846b-0adc0fe7a4b1",
     "integrationType": "postgresql",
     "type": "integration"
    }
   },
   "outputs": [
    {
     "@datacamp/metadata": {
      "executedQuery": "-- Explore the data in the table\nSELECT *\nFROM companies\nLIMIT 5",
      "executedQueryParameters": []
     },
     "data": {
      "application/com.datacamp.data-table.v2+json": {
       "table": {
        "data": {
         "city": [
          "Duderstadt",
          "",
          "Santa Clara",
          "Bellingham",
          "New York"
         ],
         "company": [
          "Otto Bock HealthCare",
          "Matrixport",
          "Cloudinary",
          "PLACE",
          "candy.com"
         ],
         "company_id": [
          189,
          848,
          556,
          999,
          396
         ],
         "continent": [
          "Europe",
          "Asia",
          "North America",
          "North America",
          "North America"
         ],
         "country": [
          "Germany",
          "Singapore",
          "United States",
          "United States",
          "United States"
         ],
         "index": [
          0,
          1,
          2,
          3,
          4
         ]
        },
        "schema": {
         "fields": [
          {
           "name": "index",
           "type": "integer"
          },
          {
           "name": "company_id",
           "type": "integer"
          },
          {
           "name": "company",
           "type": "string"
          },
          {
           "name": "city",
           "type": "string"
          },
          {
           "name": "country",
           "type": "string"
          },
          {
           "name": "continent",
           "type": "string"
          }
         ],
         "pandas_version": "1.4.0",
         "primaryKey": [
          "index"
         ]
        }
       },
       "total_rows": 5,
       "truncation_type": null
      },
      "text/html": [
       "<div>\n",
       "<style scoped>\n",
       "    .dataframe tbody tr th:only-of-type {\n",
       "        vertical-align: middle;\n",
       "    }\n",
       "\n",
       "    .dataframe tbody tr th {\n",
       "        vertical-align: top;\n",
       "    }\n",
       "\n",
       "    .dataframe thead th {\n",
       "        text-align: right;\n",
       "    }\n",
       "</style>\n",
       "<table border=\"1\" class=\"dataframe\">\n",
       "  <thead>\n",
       "    <tr style=\"text-align: right;\">\n",
       "      <th></th>\n",
       "      <th>company_id</th>\n",
       "      <th>company</th>\n",
       "      <th>city</th>\n",
       "      <th>country</th>\n",
       "      <th>continent</th>\n",
       "    </tr>\n",
       "  </thead>\n",
       "  <tbody>\n",
       "    <tr>\n",
       "      <th>0</th>\n",
       "      <td>189</td>\n",
       "      <td>Otto Bock HealthCare</td>\n",
       "      <td>Duderstadt</td>\n",
       "      <td>Germany</td>\n",
       "      <td>Europe</td>\n",
       "    </tr>\n",
       "    <tr>\n",
       "      <th>1</th>\n",
       "      <td>848</td>\n",
       "      <td>Matrixport</td>\n",
       "      <td></td>\n",
       "      <td>Singapore</td>\n",
       "      <td>Asia</td>\n",
       "    </tr>\n",
       "    <tr>\n",
       "      <th>2</th>\n",
       "      <td>556</td>\n",
       "      <td>Cloudinary</td>\n",
       "      <td>Santa Clara</td>\n",
       "      <td>United States</td>\n",
       "      <td>North America</td>\n",
       "    </tr>\n",
       "    <tr>\n",
       "      <th>3</th>\n",
       "      <td>999</td>\n",
       "      <td>PLACE</td>\n",
       "      <td>Bellingham</td>\n",
       "      <td>United States</td>\n",
       "      <td>North America</td>\n",
       "    </tr>\n",
       "    <tr>\n",
       "      <th>4</th>\n",
       "      <td>396</td>\n",
       "      <td>candy.com</td>\n",
       "      <td>New York</td>\n",
       "      <td>United States</td>\n",
       "      <td>North America</td>\n",
       "    </tr>\n",
       "  </tbody>\n",
       "</table>\n",
       "</div>"
      ],
      "text/plain": [
       "   company_id               company         city        country      continent\n",
       "0         189  Otto Bock HealthCare   Duderstadt        Germany         Europe\n",
       "1         848            Matrixport                   Singapore           Asia\n",
       "2         556            Cloudinary  Santa Clara  United States  North America\n",
       "3         999                 PLACE   Bellingham  United States  North America\n",
       "4         396             candy.com     New York  United States  North America"
      ]
     },
     "execution_count": 2,
     "metadata": {},
     "output_type": "execute_result"
    }
   ],
   "source": [
    "-- Count the number of names and birthdates in the people table\n",
    "SELECT COUNT(name), COUNT(birthdate) \n",
    "FROM people;"
   ]
  },
  {
   "cell_type": "markdown",
   "id": "83b4b12f-0631-4fd4-824a-344d7378472f",
   "metadata": {},
   "source": [
    "### 1.1 Using ```*``` with ```COUNT()```\n",
    "\n",
    "- The asterisk ```(*)``` in ```COUNT(*)``` counts the total number of records in a table."
   ]
  },
  {
   "cell_type": "markdown",
   "id": "2991cd6a-232d-405c-a6fd-97573c01f3ee",
   "metadata": {},
   "source": [
    "## 2. Using `DISTINCT`\n",
    "\n",
    "- The `DISTINCT` keyword selects unique values from a field."
   ]
  },
  {
   "cell_type": "code",
   "execution_count": null,
   "id": "3e0d17ad-92fa-4d3b-ae2b-739001a9da82",
   "metadata": {
    "customType": "sql",
    "dataFrameVariableName": "df15",
    "sqlCellMode": "dataFrame",
    "sqlSource": {
     "integrationId": "89e17161-a224-4a8a-846b-0adc0fe7a4b1",
     "integrationType": "postgresql",
     "type": "integration"
    }
   },
   "outputs": [],
   "source": [
    "-- Select all unique languages in the films table\n",
    "SELECT DISTINCT(language) \n",
    "FROM films;"
   ]
  },
  {
   "cell_type": "markdown",
   "id": "ddb212f8-6920-4e39-b9ca-4e707cf9c897",
   "metadata": {},
   "source": [
    "### 2.1 Combining `COUNT()` with `DISTINCT`\n",
    "\n",
    "Combine `COUNT()` and `DISTINCT` to count unique values in a field."
   ]
  },
  {
   "cell_type": "code",
   "execution_count": null,
   "id": "70b9d5ab-4222-45db-8049-892508bc6495",
   "metadata": {
    "customType": "sql",
    "dataFrameVariableName": "df16",
    "sqlCellMode": "dataFrame",
    "sqlSource": {
     "integrationId": "89e17161-a224-4a8a-846b-0adc0fe7a4b1",
     "integrationType": "postgresql",
     "type": "integration"
    }
   },
   "outputs": [],
   "source": [
    "-- Count the number of unique birthdates in the people table\n",
    "SELECT COUNT(DISTINCT(birthdate)) AS unique_birthdates \n",
    "FROM people;\n",
    "-- This will return fewer results"
   ]
  },
  {
   "cell_type": "markdown",
   "id": "65a36b4e-ba75-4258-9b99-1ee7515573eb",
   "metadata": {},
   "source": [
    "# Filtering:"
   ]
  },
  {
   "cell_type": "markdown",
   "id": "18f572db-2bd4-4a05-bbb7-e2d2dc1f37f7",
   "metadata": {},
   "source": [
    "## 1. Filtering Text in SQL\n",
    "\n",
    "To search for patterns in text, SQL provides the following keywords:\n",
    "1. `LIKE`\n",
    "2. `NOT LIKE`\n",
    "3. `IN`"
   ]
  },
  {
   "cell_type": "markdown",
   "id": "173eed5a-decd-4faf-9a6c-6cd089f43fd2",
   "metadata": {},
   "source": [
    "### 1.1. Using `LIKE`\n",
    "\n",
    "The `LIKE` operator is used with the `WHERE` clause to search for a pattern in a field.\n",
    "- Wildcards:\n",
    "    - `%` matches zero, one, or many characters.\n",
    "    - `_` matches a single character."
   ]
  },
  {
   "cell_type": "code",
   "execution_count": null,
   "id": "8c4ab4e0-8378-440c-bd3f-de36c3ef6591",
   "metadata": {
    "customType": "sql",
    "dataFrameVariableName": "df17",
    "sqlCellMode": "dataFrame",
    "sqlSource": {
     "integrationId": "89e17161-a224-4a8a-846b-0adc0fe7a4b1",
     "integrationType": "postgresql",
     "type": "integration"
    }
   },
   "outputs": [],
   "source": [
    "-- Find names that start with \"Ad\" followed by any number of characters\n",
    "SELECT name \n",
    "FROM people \n",
    "WHERE name LIKE 'Ad%';\n",
    "\n",
    "-- Find three-letter names starting with \"E\"\n",
    "SELECT name \n",
    "FROM people \n",
    "WHERE name LIKE 'E__';"
   ]
  },
  {
   "cell_type": "markdown",
   "id": "9981efc1-d1d8-4dc0-8cc2-68c3a964c420",
   "metadata": {},
   "source": [
    "### 1.2. Using `NOT LIKE`\n",
    "\n",
    "The `NOT LIKE` operator is used to find records that don't match the specified pattern.\n",
    "**Note: This operation is case-sensitive.**"
   ]
  },
  {
   "cell_type": "code",
   "execution_count": null,
   "id": "26ec1aab-dca1-4347-8afe-b46d96c54362",
   "metadata": {
    "customType": "sql",
    "dataFrameVariableName": "df18",
    "sqlCellMode": "dataFrame",
    "sqlSource": {
     "integrationId": "89e17161-a224-4a8a-846b-0adc0fe7a4b1",
     "integrationType": "postgresql",
     "type": "integration"
    }
   },
   "outputs": [],
   "source": [
    "-- Find names that don't start with \"A.\"\n",
    "SELECT name \n",
    "FROM people \n",
    "WHERE name NOT LIKE 'A%';"
   ]
  },
  {
   "cell_type": "markdown",
   "id": "e124eaeb-c8f2-48ae-8565-1ae36d542e21",
   "metadata": {},
   "source": [
    "### 1.3. Using `WHERE` with `OR`\n",
    "\n",
    "You can use multiple conditions in a `WHERE` clause by chaining `OR` conditions."
   ]
  },
  {
   "cell_type": "code",
   "execution_count": null,
   "id": "98261caa-36bf-41ad-b3d5-0e54680aeca0",
   "metadata": {
    "customType": "sql",
    "dataFrameVariableName": "df19",
    "sqlCellMode": "dataFrame",
    "sqlSource": {
     "integrationId": "89e17161-a224-4a8a-846b-0adc0fe7a4b1",
     "integrationType": "postgresql",
     "type": "integration"
    }
   },
   "outputs": [],
   "source": [
    "-- Example: Selecting films released in 1920, 1930, or 1940\n",
    "SELECT title \n",
    "FROM films \n",
    "WHERE release_year = 1920 OR release_year = 1930 OR release_year = 1940;"
   ]
  },
  {
   "cell_type": "markdown",
   "id": "b1d07884-3e04-4813-8f94-5f00c5c6add0",
   "metadata": {},
   "source": [
    "### 1.4. Using `IN`\n",
    "\n",
    "The `IN` operator simplifies multiple `OR` conditions by specifying a list of values in parentheses."
   ]
  },
  {
   "cell_type": "code",
   "execution_count": null,
   "id": "2b915a3c-d82e-4f63-8f55-4b885bc87026",
   "metadata": {
    "customType": "sql",
    "dataFrameVariableName": "df20",
    "sqlCellMode": "dataFrame",
    "sqlSource": {
     "integrationId": "89e17161-a224-4a8a-846b-0adc0fe7a4b1",
     "integrationType": "postgresql",
     "type": "integration"
    }
   },
   "outputs": [],
   "source": [
    "-- Find films released in 1920, 1930, or 1940 using IN\n",
    "SELECT title \n",
    "FROM films \n",
    "WHERE release_year IN (1920, 1930, 1940);"
   ]
  },
  {
   "cell_type": "markdown",
   "id": "eb9fb741-3d39-47d0-83eb-3e7d1be055b0",
   "metadata": {},
   "source": [
    "### 1.5. Using `IN` with Text Fields\n",
    "\n",
    "The `IN` operator can also be used with text fields to filter based on multiple values."
   ]
  },
  {
   "cell_type": "code",
   "execution_count": null,
   "id": "24fa1e7a-3314-44e0-ad3d-abe7e37c4bfc",
   "metadata": {
    "customType": "sql",
    "dataFrameVariableName": "df21",
    "sqlCellMode": "dataFrame",
    "sqlSource": {
     "integrationId": "89e17161-a224-4a8a-846b-0adc0fe7a4b1",
     "integrationType": "postgresql",
     "type": "integration"
    }
   },
   "outputs": [],
   "source": [
    "-- Find films where the country is Germany or France\n",
    "SELECT title \n",
    "FROM films \n",
    "WHERE country IN ('Germany', 'France');"
   ]
  },
  {
   "cell_type": "markdown",
   "id": "ac13ee90-ae99-4bf0-b43d-6b6273c577be",
   "metadata": {},
   "source": [
    "# NULL"
   ]
  },
  {
   "cell_type": "markdown",
   "id": "9c53e5e1-d54c-4f70-8124-3dd60f1802cc",
   "metadata": {},
   "source": [
    "## 1. Using `IS NULL`\n",
    "\n",
    "The `IS NULL` operator is used to filter records where the field has a NULL value."
   ]
  },
  {
   "cell_type": "code",
   "execution_count": null,
   "id": "3e4a422c-fd3d-46e5-8860-611f32896e99",
   "metadata": {
    "customType": "sql",
    "dataFrameVariableName": "df22",
    "sqlCellMode": "dataFrame",
    "sqlSource": {
     "integrationId": "89e17161-a224-4a8a-846b-0adc0fe7a4b1",
     "integrationType": "postgresql",
     "type": "integration"
    }
   },
   "outputs": [],
   "source": [
    "-- Find names with no recorded birthdate in the people table\n",
    "SELECT name \n",
    "FROM people \n",
    "WHERE birthdate IS NULL;"
   ]
  },
  {
   "cell_type": "markdown",
   "id": "05e60a9f-d675-4540-9a52-99826a87d18a",
   "metadata": {},
   "source": [
    "## 2. Using `IS NOT NULL`\n",
    "\n",
    "The `IS NOT NULL` operator filters records where the field has a non-NULL value."
   ]
  },
  {
   "cell_type": "code",
   "execution_count": null,
   "id": "1ff63feb-e72e-4e90-aed3-62c0286467f1",
   "metadata": {
    "customType": "sql",
    "dataFrameVariableName": "df23",
    "sqlCellMode": "dataFrame",
    "sqlSource": {
     "integrationId": "89e17161-a224-4a8a-846b-0adc0fe7a4b1",
     "integrationType": "postgresql",
     "type": "integration"
    }
   },
   "outputs": [],
   "source": [
    "-- Count the number of people with recorded birthdates in the people table\n",
    "SELECT COUNT(birthdate) AS count_non_null_birthdates \n",
    "FROM people \n",
    "WHERE birthdate IS NOT NULL;"
   ]
  },
  {
   "cell_type": "markdown",
   "id": "b2619c25-5fae-497d-8070-8ee68b9793e5",
   "metadata": {},
   "source": [
    "## 3. `COUNT()` vs `IS NOT NULL`\n",
    "\n",
    "There is no difference between using `COUNT()` on a field and using `COUNT()` with a `WHERE` clause and `IS NOT NULL`. Both count non-missing values."
   ]
  },
  {
   "cell_type": "code",
   "execution_count": null,
   "id": "ba55a947-78f5-4e53-8585-f18569bbaad1",
   "metadata": {
    "customType": "sql",
    "dataFrameVariableName": "df24",
    "sqlCellMode": "dataFrame",
    "sqlSource": {
     "integrationId": "89e17161-a224-4a8a-846b-0adc0fe7a4b1",
     "integrationType": "postgresql",
     "type": "integration"
    }
   },
   "outputs": [],
   "source": [
    "-- Count the non-missing birthdates in two ways\n",
    "SELECT COUNT(birthdate) AS count_non_null_birthdates \n",
    "FROM people;\n",
    "\n",
    "-- Equivalent query using IS NOT NULL\n",
    "SELECT COUNT(*) \n",
    "FROM people \n",
    "WHERE birthdate IS NOT NULL;"
   ]
  },
  {
   "cell_type": "markdown",
   "id": "25b63de3-92a4-49b7-bd89-f675f20c52e4",
   "metadata": {},
   "source": [
    "# Aggregate Functions"
   ]
  },
  {
   "cell_type": "markdown",
   "id": "ef621d52-e992-4e9c-8361-ea7c072d7439",
   "metadata": {},
   "source": [
    "## 1. Common Aggregate Functions\n",
    "\n",
    "- `AVG()` – Finds the average value.\n",
    "- `SUM()` – Returns the sum of all values.\n",
    "- `MIN()` – Returns the minimum value.\n",
    "- `MAX()` – Returns the maximum value."
   ]
  },
  {
   "cell_type": "code",
   "execution_count": null,
   "id": "2c3544cd-610a-4e66-9920-a6fd7704a3ba",
   "metadata": {
    "customType": "sql",
    "dataFrameVariableName": "df1",
    "sqlCellMode": "dataFrame",
    "sqlSource": {
     "integrationId": "89e17161-a224-4a8a-846b-0adc0fe7a4b1",
     "integrationType": "postgresql",
     "type": "integration"
    }
   },
   "outputs": [],
   "source": [
    "-- Find the average budget of films\n",
    "SELECT AVG(budget) AS avg_budget \n",
    "FROM films;\n",
    "\n",
    "-- Find the total budget of all films\n",
    "SELECT SUM(budget) AS total_budget \n",
    "FROM films;"
   ]
  },
  {
   "cell_type": "markdown",
   "id": "e7f3ae00-d76c-4648-b6d0-b77ced189f97",
   "metadata": {},
   "source": [
    "## 2. Finding Minimum and Maximum Values\n",
    "\n",
    "- `MIN()` returns the lowest value in a column, while \n",
    "- `MAX()` returns the highest value.<br>\n",
    "**These functions work on both numerical and non-numerical fields.**"
   ]
  },
  {
   "cell_type": "code",
   "execution_count": null,
   "id": "fe18e4f1-e6cb-42c9-a30e-97f6d585a012",
   "metadata": {
    "customType": "sql",
    "dataFrameVariableName": "df3",
    "sqlCellMode": "dataFrame",
    "sqlSource": {
     "integrationId": "89e17161-a224-4a8a-846b-0adc0fe7a4b1",
     "integrationType": "postgresql",
     "type": "integration"
    }
   },
   "outputs": [],
   "source": [
    "-- Find the minimum and maximum budget of films\n",
    "SELECT MIN(budget) AS min_budget, MAX(budget) AS max_budget \n",
    "FROM films;"
   ]
  },
  {
   "cell_type": "markdown",
   "id": "eef372be-8f90-445f-830b-74256ea46468",
   "metadata": {},
   "source": [
    "## 3. Using `WHERE` with Calculations\n",
    "\n",
    "The `WHERE` clause is executed before the `SELECT` statement, allowing us to summarize subsets of data based on conditions."
   ]
  },
  {
   "cell_type": "code",
   "execution_count": null,
   "id": "c431ffca-7c12-47d8-a678-fc16a79681ce",
   "metadata": {
    "customType": "sql",
    "dataFrameVariableName": "df4",
    "sqlCellMode": "dataFrame",
    "sqlSource": {
     "integrationId": "89e17161-a224-4a8a-846b-0adc0fe7a4b1",
     "integrationType": "postgresql",
     "type": "integration"
    }
   },
   "outputs": [],
   "source": [
    "-- Find the average budget of movies made in 2010 or later\n",
    "SELECT AVG(budget) AS avg_budget \n",
    "FROM films \n",
    "WHERE release_year >= 2010;\n",
    "\n",
    "-- Find the total budget of movies made in 2010\n",
    "SELECT SUM(budget) AS total_budget \n",
    "FROM films \n",
    "WHERE release_year = 2010;"
   ]
  },
  {
   "cell_type": "markdown",
   "id": "d04f7142-6239-4b66-bd8c-c6e7595f29f3",
   "metadata": {},
   "source": [
    "## 4. Rounding Numerical Values with `ROUND()`\n",
    "\n",
    "The `ROUND()` function allows us to round numerical values to a specified number of decimal places.\n",
    "- Syntax: `ROUND(number, decimal_places)`\n",
    "- If no second parameter is provided, `ROUND()` will round to the nearest whole number."
   ]
  },
  {
   "cell_type": "code",
   "execution_count": null,
   "id": "295e18e7-4dab-4363-9f45-6ed1bbdb8537",
   "metadata": {
    "customType": "sql",
    "dataFrameVariableName": "df25",
    "sqlCellMode": "dataFrame",
    "sqlSource": {
     "integrationId": "89e17161-a224-4a8a-846b-0adc0fe7a4b1",
     "integrationType": "postgresql",
     "type": "integration"
    }
   },
   "outputs": [],
   "source": [
    "-- Round the average budget of movies made in 2010 to 2 decimal places\n",
    "SELECT ROUND(AVG(budget), 2) AS avg_budget_rounded \n",
    "FROM films \n",
    "WHERE release_year >= 2010;"
   ]
  },
  {
   "cell_type": "markdown",
   "id": "c76e2028-cb45-4182-b856-ffd20ba220ce",
   "metadata": {},
   "source": [
    "### 4.4 Advanced `ROUND()` Usage\n",
    "\n",
    "You can pass a negative number to the `ROUND()`\n",
    "Example: `ROUND(budget, -5)` rounds to the nearest hundred thousand."
   ]
  },
  {
   "cell_type": "code",
   "execution_count": null,
   "id": "beacc665-e5cd-4089-9bc6-b6109db903df",
   "metadata": {
    "customType": "sql",
    "dataFrameVariableName": "df26",
    "sqlCellMode": "dataFrame",
    "sqlSource": {
     "integrationId": "89e17161-a224-4a8a-846b-0adc0fe7a4b1",
     "integrationType": "postgresql",
     "type": "integration"
    }
   },
   "outputs": [],
   "source": [
    "-- Round the total budget to the nearest hundred thousand\n",
    "SELECT ROUND(SUM(budget), -5) AS total_budget_rounded \n",
    "FROM films \n",
    "WHERE release_year = 2010;"
   ]
  },
  {
   "cell_type": "markdown",
   "id": "ea956850-507f-482b-95e9-97e608f70840",
   "metadata": {},
   "source": [
    "# Arithmetic in SQL\n",
    "We can use basic arithmetic operators in SQL for calculations within queries."
   ]
  },
  {
   "cell_type": "code",
   "execution_count": null,
   "id": "a92f29d1-871c-4616-aa65-8ea4d7927554",
   "metadata": {
    "customType": "sql",
    "dataFrameVariableName": "df7",
    "sqlCellMode": "dataFrame",
    "sqlSource": {
     "integrationId": "89e17161-a224-4a8a-846b-0adc0fe7a4b1",
     "integrationType": "postgresql",
     "type": "integration"
    }
   },
   "outputs": [],
   "source": [
    "-- Example of basic arithmetic in SQL\n",
    "-- Subtracting the budget from the gross to calculate profit\n",
    "SELECT gross - budget AS profit \n",
    "FROM films;"
   ]
  },
  {
   "cell_type": "markdown",
   "id": "9793bfcf-6739-4ca4-bff0-9e88a3953324",
   "metadata": {},
   "source": [
    "## 1. Aggregate Functions vs. Arithmetic\n",
    "\n",
    "- **Aggregate Functions:** Operate vertically (e.g., `SUM()` adds all values in a column).<br>\n",
    "- **Arithmetic:** Performs calculations horizontally across records (e.g.,` gross - budget` for each movie)."
   ]
  },
  {
   "cell_type": "markdown",
   "id": "15d29db9-5f05-484f-b8ba-110509068628",
   "metadata": {},
   "source": [
    "# Sorting "
   ]
  },
  {
   "cell_type": "markdown",
   "id": "e17043b2-f2e3-442a-8e30-dcccce4c5488",
   "metadata": {},
   "source": [
    "## Sorting Results in SQL\n",
    "\n",
    "We use the `ORDER BY` clause to sort the results of a query based on one or more fields."
   ]
  },
  {
   "cell_type": "code",
   "execution_count": null,
   "id": "1bb5fb2a-c442-4a7e-86f9-220270168b06",
   "metadata": {
    "customType": "sql",
    "dataFrameVariableName": "df27",
    "sqlCellMode": "dataFrame",
    "sqlSource": {
     "integrationId": "89e17161-a224-4a8a-846b-0adc0fe7a4b1",
     "integrationType": "postgresql",
     "type": "integration"
    }
   },
   "outputs": [],
   "source": [
    "-- Example: Sorting films by budget in ascending order\n",
    "SELECT title, budget \n",
    "FROM films\n",
    "ORDER BY budget ASC; -- by default it is ASC so no need to type ASC"
   ]
  },
  {
   "cell_type": "markdown",
   "id": "6fbc3680-403f-4f47-9ad8-f822a6d0631d",
   "metadata": {},
   "source": [
    "### 1.1. Sorting by Multiple Fields\n",
    "\n",
    "- SQL will first sort by the first field and use the second.\n",
    "- You can also specify different sort orders for each field."
   ]
  },
  {
   "cell_type": "code",
   "execution_count": null,
   "id": "1c55cb1b-8d38-487f-bfde-6a730b8833e1",
   "metadata": {
    "customType": "sql",
    "dataFrameVariableName": "df28",
    "sqlCellMode": "dataFrame",
    "sqlSource": {
     "integrationId": "89e17161-a224-4a8a-846b-0adc0fe7a4b1",
     "integrationType": "postgresql",
     "type": "integration"
    }
   },
   "outputs": [],
   "source": [
    "-- Example: Sorting by Oscar wins and then by IMDb score in descending order\n",
    "SELECT title, oscar_wins, imdb_score \n",
    "FROM films\n",
    "ORDER BY oscar_wins DESC, imdb_score DESC;\n",
    "\n",
    "-- Example: Sorting by birthdate in ascending order and name in descending order\n",
    "SELECT name, birthdate \n",
    "FROM actors\n",
    "ORDER BY birthdate ASC, name DESC;"
   ]
  },
  {
   "cell_type": "markdown",
   "id": "491f8b9b-9667-4bec-99f4-9f8f2e94934f",
   "metadata": {},
   "source": [
    "### 1.2. Order of Execution\n",
    "\n",
    "The order of execution in SQL is important to understand:<br>\n",
    "`FROM` <br>\n",
    "`WHERE` <br>\n",
    "`SELECT` <br>\n",
    "`ORDER BY` <br>\n",
    "`LIMIT`"
   ]
  },
  {
   "cell_type": "markdown",
   "id": "54812da8-e867-4350-892a-77ebc9dfc47a",
   "metadata": {},
   "source": [
    "# Grouping"
   ]
  },
  {
   "cell_type": "markdown",
   "id": "64065c0a-661a-42cc-b70a-b8245035083d",
   "metadata": {},
   "source": [
    "## 1. GROUP BY Clause\n",
    "The `GROUP BY`clause is used to group rows sharing a property so that **aggregate functions can be applied to each group.**\n",
    "- May shared property sila ng column o value. Imagine one column with different numbers but these numbers has the same propery in the other column, you can group them then."
   ]
  },
  {
   "cell_type": "code",
   "execution_count": null,
   "id": "807580fe-1b7c-4293-b7d7-0d26f6052ab5",
   "metadata": {
    "customType": "sql",
    "dataFrameVariableName": "df29",
    "sqlCellMode": "dataFrame",
    "sqlSource": {
     "integrationId": "89e17161-a224-4a8a-846b-0adc0fe7a4b1",
     "integrationType": "postgresql",
     "type": "integration"
    }
   },
   "outputs": [],
   "source": [
    "-- Example: Grouping by certification and calculating average duration\n",
    "SELECT certification, AVG(duration) AS avg_duration\n",
    "FROM films\n",
    "GROUP BY certification;"
   ]
  },
  {
   "cell_type": "markdown",
   "id": "9ccebe4f-e1ac-4d76-bb73-76b292fdb536",
   "metadata": {},
   "source": [
    "### 1.2. Error Handling\n",
    "- SQL will raise an error if you attempt to SELECT a field not included in the GROUP BY clause.<br>\n",
    "**RESEARCH MORE INTO THIS, KIM**"
   ]
  },
  {
   "cell_type": "code",
   "execution_count": null,
   "id": "17dbd8d5-4432-48b5-9280-fcafa3f8f7fd",
   "metadata": {
    "customType": "sql",
    "dataFrameVariableName": "df30",
    "sqlCellMode": "dataFrame",
    "sqlSource": {
     "integrationId": "89e17161-a224-4a8a-846b-0adc0fe7a4b1",
     "integrationType": "postgresql",
     "type": "integration"
    }
   },
   "outputs": [],
   "source": [
    "-- Example: This will raise an error\n",
    "SELECT certification, title \n",
    "FROM films\n",
    "GROUP BY certification;\n",
    "\n",
    "-- Corrected query using aggregate function\n",
    "SELECT certification, MAX(title) AS title\n",
    "FROM films\n",
    "GROUP BY certification;"
   ]
  },
  {
   "cell_type": "markdown",
   "id": "910fbe4b-0f4d-4799-8d70-696e51056fd5",
   "metadata": {},
   "source": [
    "ex: Cause magkakagulo-gulo umunti yung certification kasi grinoup mo na but yung count ng title the same but kapag MINAX() mo na maggiging isang title na lang for each group and therefore yung bilang is tama na."
   ]
  },
  {
   "cell_type": "markdown",
   "id": "eb839811-5602-4755-8378-6a92d43ad366",
   "metadata": {},
   "source": [
    "### 1.3. GROUP BY Multiple Fields"
   ]
  },
  {
   "cell_type": "code",
   "execution_count": null,
   "id": "2e49b544-fcd7-42ec-954b-036d986a2d18",
   "metadata": {
    "customType": "sql",
    "dataFrameVariableName": "df31",
    "sqlCellMode": "dataFrame",
    "sqlSource": {
     "integrationId": "89e17161-a224-4a8a-846b-0adc0fe7a4b1",
     "integrationType": "postgresql",
     "type": "integration"
    }
   },
   "outputs": [],
   "source": [
    "-- Example: Grouping by certification and language while counting titles\n",
    "SELECT certification, language, COUNT(title) AS title_count\n",
    "FROM films\n",
    "GROUP BY certification, language;"
   ]
  },
  {
   "cell_type": "markdown",
   "id": "a7a324f8-06bb-48fc-b21b-e75b8f8f410a",
   "metadata": {},
   "source": [
    "# Filtering Groups\n",
    "- To filter results of aggregate functions, we use the `HAVING` clause."
   ]
  },
  {
   "cell_type": "code",
   "execution_count": null,
   "id": "dd04a3b0-3d74-42a2-8a1f-a2220a90ebec",
   "metadata": {
    "customType": "sql",
    "dataFrameVariableName": "df32",
    "sqlCellMode": "dataFrame",
    "sqlSource": {
     "integrationId": "89e17161-a224-4a8a-846b-0adc0fe7a4b1",
     "integrationType": "postgresql",
     "type": "integration"
    }
   },
   "outputs": [],
   "source": [
    "-- Example: Using HAVING to filter years with more than ten films\n",
    "SELECT release_year, COUNT(title) AS title_count\n",
    "FROM films\n",
    "GROUP BY release_year\n",
    "HAVING title_count > 10;"
   ]
  },
  {
   "cell_type": "markdown",
   "id": "f2ff5b65-cea0-4844-95f6-d618c08273b9",
   "metadata": {},
   "source": [
    "## 1. HAVING Clause\n",
    "\n",
    "- The `HAVING` clause is used for filtering groups created by `GROUP BY`.\n",
    "- It allows us to filter based on the result of aggregate functions, unlike the `WHERE` clause."
   ]
  },
  {
   "cell_type": "code",
   "execution_count": null,
   "id": "ed7cec62-2b0d-4141-ae9c-c2031db875d0",
   "metadata": {
    "customType": "sql",
    "dataFrameVariableName": "df33",
    "sqlCellMode": "dataFrame",
    "sqlSource": {
     "integrationId": "89e17161-a224-4a8a-846b-0adc0fe7a4b1",
     "integrationType": "postgresql",
     "type": "integration"
    }
   },
   "outputs": [],
   "source": [
    "-- Example: This query is invalid since WHERE cannot filter aggregates\n",
    "SELECT release_year, COUNT(title) AS title_count\n",
    "FROM films\n",
    "WHERE COUNT(title) > 10;  -- Invalid usage"
   ]
  },
  {
   "cell_type": "markdown",
   "id": "b6302460-33ee-4032-8195-8715827a248e",
   "metadata": {},
   "source": [
    "### 1.1. Order of Execution\n",
    "\n",
    "Understanding the order of execution is crucial:\n",
    "`FROM` <br>\n",
    "`WHERE` <br>\n",
    "`GROUP BY` <br>\n",
    "`HAVING` <br>\n",
    "`SELECT` <br>\n",
    "`ORDER BY` <br>\n",
    "`LIMIT` <br>\n",
    "The `WHERE` clause executes before `GROUP BY`, which is why we use `HAVING` for filtering groups."
   ]
  },
  {
   "cell_type": "code",
   "execution_count": null,
   "id": "83038013-2f43-485e-9d4d-051b0475bdd5",
   "metadata": {
    "customType": "sql",
    "dataFrameVariableName": "df34",
    "sqlCellMode": "dataFrame",
    "sqlSource": {
     "integrationId": "89e17161-a224-4a8a-846b-0adc0fe7a4b1",
     "integrationType": "postgresql",
     "type": "integration"
    }
   },
   "outputs": [],
   "source": [
    "-- Example: Filtering average duration over two hours using HAVING\n",
    "SELECT release_year, AVG(duration) AS avg_duration\n",
    "FROM films\n",
    "GROUP BY release_year\n",
    "HAVING avg_duration > 120;  -- 120 minutes for two hours"
   ]
  },
  {
   "cell_type": "markdown",
   "id": "2a6d3296-d80f-4208-ad1f-2b3191cb939b",
   "metadata": {},
   "source": [
    "<hr>"
   ]
  },
  {
   "cell_type": "markdown",
   "id": "913b296d-d48a-4fe9-8a96-2eda28ff03ca",
   "metadata": {},
   "source": [
    "# Exercises:\n",
    "These are not all the exercises. I just included those I think are complex."
   ]
  },
  {
   "cell_type": "markdown",
   "id": "ce498697-e6b6-413e-a17f-8d47078d4ff6",
   "metadata": {},
   "source": [
    "### Exercise: WHERE IN\n",
    "Within the films dataset: "
   ]
  },
  {
   "cell_type": "code",
   "execution_count": null,
   "id": "3c55f112-4ccf-4eee-aa42-d03096db8a6e",
   "metadata": {
    "customType": "sql",
    "dataFrameVariableName": "df",
    "sqlCellMode": "dataFrame",
    "sqlSource": {
     "integrationId": "aee5c210-59ed-4b56-9819-3151be6192e6",
     "integrationType": "mysql",
     "type": "integration"
    }
   },
   "outputs": [],
   "source": [
    "-- Ex 1: Find the title and release_year for all films over two hours in length released in 1990 and 2000\n",
    "SELECT\n",
    "    title,\n",
    "    release_year\n",
    "FROM films\n",
    "WHERE \n",
    "    duration > 120 AND release_year IN (1990, 2000);"
   ]
  },
  {
   "cell_type": "code",
   "execution_count": null,
   "id": "91c69a5d-aaa1-4432-bc1a-1bc64b5c08ea",
   "metadata": {
    "customType": "sql",
    "dataFrameVariableName": "df2",
    "sqlCellMode": "dataFrame",
    "sqlSource": {
     "integrationId": "aee5c210-59ed-4b56-9819-3151be6192e6",
     "integrationType": "mysql",
     "type": "integration"
    }
   },
   "outputs": [],
   "source": [
    "-- Ex 3: Find the title, certification, and language all films certified NC-17 or R that are in English, Italian, or Greek\n",
    "SELECT \n",
    "    title,\n",
    "    certification,\n",
    "    language\n",
    "FROM films\n",
    "WHERE\n",
    "    certification IN ('R', 'NC-17') AND language IN ('English', 'Italian', 'Greek');"
   ]
  },
  {
   "cell_type": "markdown",
   "id": "85b2d5d9-373c-4d86-bb3e-721bc15c49b7",
   "metadata": {},
   "source": [
    "### Exercises with `NULL:`\n",
    "From the film dataset:"
   ]
  },
  {
   "cell_type": "code",
   "execution_count": null,
   "id": "b0d76768-5e0c-4f0f-b99f-e32902a834e9",
   "metadata": {
    "customType": "sql",
    "dataFrameVariableName": "df5",
    "sqlCellMode": "dataFrame",
    "sqlSource": {
     "integrationId": "aee5c210-59ed-4b56-9819-3151be6192e6",
     "integrationType": "mysql",
     "type": "integration"
    }
   },
   "outputs": [],
   "source": [
    "-- Ex 1: List all film titles with missing budgets\n",
    "SELECT\n",
    "    title AS no_budget_info\n",
    "FROM\n",
    "    films\n",
    "WHERE \n",
    "    budget IS NULL;"
   ]
  },
  {
   "cell_type": "code",
   "execution_count": null,
   "id": "b39f5d48-612d-4da3-aaf2-b54e489f25e2",
   "metadata": {
    "customType": "sql",
    "dataFrameVariableName": "df6",
    "sqlCellMode": "dataFrame",
    "sqlSource": {
     "integrationId": "aee5c210-59ed-4b56-9819-3151be6192e6",
     "integrationType": "mysql",
     "type": "integration"
    }
   },
   "outputs": [],
   "source": [
    "-- Ex 2: Count the number of films we have language data for\n",
    "SELECT \n",
    "    COUNT(language) AS count_language_known\n",
    "FROM films;"
   ]
  },
  {
   "cell_type": "markdown",
   "id": "a70ab0b7-a426-45cb-a082-d9b709ef159a",
   "metadata": {},
   "source": [
    "### Exercises: Aliasing with Functions\n",
    "Within the films dataset:"
   ]
  },
  {
   "cell_type": "code",
   "execution_count": null,
   "id": "a45664a4-2de2-46e6-9a4b-72cd1c6406ff",
   "metadata": {
    "customType": "sql",
    "dataFrameVariableName": "df8",
    "sqlCellMode": "dataFrame",
    "sqlSource": {
     "integrationId": "aee5c210-59ed-4b56-9819-3151be6192e6",
     "integrationType": "mysql",
     "type": "integration"
    }
   },
   "outputs": [],
   "source": [
    "-- In the film dataset\n",
    "-- Ex 1: Calculate the title and duration_hours from films\n",
    "SELECT title, (duration / 60.0) AS duration_hours\n",
    "FROM films;"
   ]
  },
  {
   "cell_type": "markdown",
   "id": "c2e39a9d-9192-45a3-90b5-45e4295514bd",
   "metadata": {},
   "source": [
    "### Exercises: Grouping with GROUP BY Clause\n",
    "Within the films dataset:"
   ]
  },
  {
   "cell_type": "code",
   "execution_count": null,
   "id": "a41436b0-a944-4866-b77b-01cda3d6013f",
   "metadata": {
    "customType": "sql",
    "dataFrameVariableName": "df9",
    "sqlCellMode": "dataFrame",
    "sqlSource": {
     "integrationId": "aee5c210-59ed-4b56-9819-3151be6192e6",
     "integrationType": "mysql",
     "type": "integration"
    }
   },
   "outputs": [],
   "source": [
    "-- Ex 1: Select the release_year and count of films released in each year aliased as film_count.\n",
    "SELECT\n",
    "    release_year, COUNT(title) AS film_count\n",
    "FROM\n",
    "    films\n",
    "GROUP BY\n",
    "    release_year;"
   ]
  },
  {
   "cell_type": "markdown",
   "id": "2448c902-58c2-47a0-a492-fe8b2a63cc48",
   "metadata": {},
   "source": [
    "Here we grouped the film count for each release_year."
   ]
  },
  {
   "cell_type": "code",
   "execution_count": null,
   "id": "593f1a73-5a88-44c7-8095-4163b854eeee",
   "metadata": {
    "customType": "sql",
    "dataFrameVariableName": "df10",
    "sqlCellMode": "dataFrame",
    "sqlSource": {
     "integrationId": "aee5c210-59ed-4b56-9819-3151be6192e6",
     "integrationType": "mysql",
     "type": "integration"
    }
   },
   "outputs": [],
   "source": [
    "-- Ex 2: Select the release_year and average duration aliased as avg_duration of all films, grouped by release_year\n",
    "SELECT\n",
    "    release_year, AVG(duration) AS avg_duration\n",
    "FROM \n",
    "    films\n",
    "GROUP BY\n",
    "    release_year;"
   ]
  },
  {
   "cell_type": "markdown",
   "id": "8a023a74-7d59-445d-b50a-ec769799dbfb",
   "metadata": {},
   "source": [
    "### Exercises: GROUP BY with multiple fields\n",
    "Within the films dataset:"
   ]
  },
  {
   "cell_type": "code",
   "execution_count": null,
   "id": "4dbfe5e0-d506-4c17-9cd0-653998cd40b0",
   "metadata": {
    "customType": "sql",
    "dataFrameVariableName": "df11",
    "sqlCellMode": "dataFrame",
    "sqlSource": {
     "integrationId": "aee5c210-59ed-4b56-9819-3151be6192e6",
     "integrationType": "mysql",
     "type": "integration"
    }
   },
   "outputs": [],
   "source": [
    "-- Find the release_year, country, and max_budget, then group and order by release_year and country\n",
    "SELECT\n",
    "    release_year, \n",
    "    country,\n",
    "    MAX(budget) AS max_budget\n",
    "FROM films\n",
    "GROUP BY \n",
    "    release_year, country;"
   ]
  },
  {
   "cell_type": "markdown",
   "id": "6e5a8dd8-bd02-43cf-8725-62dcd69e8193",
   "metadata": {},
   "source": [
    "Kim, ask why MAX(budget) works here, does not MAX() returns a single value from a column?"
   ]
  },
  {
   "cell_type": "markdown",
   "id": "38f03d82-0a5f-440c-b4db-550b33e3b8ad",
   "metadata": {},
   "source": [
    "### Exercise: Answering Business Questions\n",
    "In the real world, every SQL query starts with a business question. Then it is up to you to decide how to write the query that answers the question. Let's try this out.\n",
    "\n",
    "Which release_year had the most language diversity?"
   ]
  },
  {
   "cell_type": "code",
   "execution_count": null,
   "id": "20aa1375-ce33-40bd-8b5b-891eccfd740c",
   "metadata": {
    "customType": "sql",
    "dataFrameVariableName": "df12",
    "sqlCellMode": "dataFrame",
    "sqlSource": {
     "integrationId": "aee5c210-59ed-4b56-9819-3151be6192e6",
     "integrationType": "mysql",
     "type": "integration"
    }
   },
   "outputs": [],
   "source": [
    "SELECT\n",
    "    release_year, COUNT(DISTINCT language) AS Diverse\n",
    "FROM films\n",
    "GROUP BY\n",
    "    release_year\n",
    "ORDER BY\n",
    "    Diverse DESC;\n",
    "-- this returns 2006"
   ]
  },
  {
   "cell_type": "markdown",
   "id": "d8c978af-e25c-4be1-8f94-36e180439a2e",
   "metadata": {},
   "source": [
    "### Exercise: Filtering with HAVING\n",
    "within the films dataset:"
   ]
  },
  {
   "cell_type": "markdown",
   "id": "c32171ee-04e4-4a33-b590-ab0f70805410",
   "metadata": {},
   "source": [
    "Ex 1:\n",
    "1. Select country from the films table, and get the distinct count of certification aliased as certification_count.\n",
    "2. Group the results by country.\n",
    "3. Filter the unique count of certifications to only results greater than 10."
   ]
  },
  {
   "cell_type": "code",
   "execution_count": null,
   "id": "610df72d-e995-41dc-9d09-dffcff083ad2",
   "metadata": {
    "customType": "sql",
    "dataFrameVariableName": "df13",
    "sqlCellMode": "dataFrame",
    "sqlSource": {
     "integrationId": "aee5c210-59ed-4b56-9819-3151be6192e6",
     "integrationType": "mysql",
     "type": "integration"
    }
   },
   "outputs": [],
   "source": [
    "-- Ex 1: Select the country and distinct count of certification as certification_count\n",
    "SELECT country, COUNT(DISTINCT certification) AS certification_count\n",
    "FROM films\n",
    "-- Group by country\n",
    "GROUP BY country\n",
    "-- Filter results to countries with more than 10 different certifications\n",
    "HAVING COUNT(DISTINCT certification) > 10;"
   ]
  }
 ],
 "metadata": {
  "colab": {
   "name": "Welcome to DataCamp Workspaces.ipynb",
   "provenance": []
  },
  "kernelspec": {
   "display_name": "Python 3 (ipykernel)",
   "language": "python",
   "name": "python3"
  },
  "language_info": {
   "codemirror_mode": {
    "name": "ipython",
    "version": 3
   },
   "file_extension": ".py",
   "mimetype": "text/x-python",
   "name": "python",
   "nbconvert_exporter": "python",
   "pygments_lexer": "ipython3",
   "version": "3.11.5"
  }
 },
 "nbformat": 4,
 "nbformat_minor": 5
}
