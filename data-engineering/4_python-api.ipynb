{
 "cells": [
  {
   "cell_type": "markdown",
   "id": "178d6c9b-08df-472d-b21b-99e3d67d6801",
   "metadata": {},
   "source": [
    "# API in Python"
   ]
  },
  {
   "cell_type": "markdown",
   "id": "9f7cc0ac-1d7d-4770-912d-17580c729bef",
   "metadata": {},
   "source": [
    "## API with URLIB"
   ]
  },
  {
   "cell_type": "markdown",
   "id": "93e71398-f11b-447d-adcf-4cc58a04cee7",
   "metadata": {},
   "source": [
    "using `urlib` follows the following:\n",
    "- Import the library\n",
    "- open the url with `urlopen(api)`\n",
    "- read the data from the response\n",
    "- decode the data\n",
    "\n",
    "Example:\n",
    "\n",
    "```python\n",
    "from urllib.request import urlopen\n",
    "import urllib\n",
    "api = 'http://api.music-catalog.com/'\n",
    "\n",
    "with urlopen(api) as response:\n",
    "    data = response.read()\n",
    "    string = data.decode()\n",
    "    print(data)\n",
    "```\n",
    "\n",
    "Another example:\n",
    "```python\n",
    "from urllib.request import urlopen\n",
    "\n",
    "with urlopen('http://localhost:3000/lyrics/') as response:\n",
    "  \n",
    "  # Use the correct function to read the response data from the response object\n",
    "  data = response.read()\n",
    "  encoding = response.headers.get_content_charset()\n",
    "\n",
    "  # Decode the response data so you can print it as a string later\n",
    "  string = data.decode(encoding)\n",
    "  \n",
    "  print(string)\n",
    "```"
   ]
  },
  {
   "cell_type": "markdown",
   "id": "61bbf1bb-3658-4e65-9dab-14a06447321f",
   "metadata": {},
   "source": [
    "## API with Requests"
   ]
  },
  {
   "cell_type": "markdown",
   "id": "df16e50a-2cb1-4efb-8680-855aa44fd1b0",
   "metadata": {},
   "source": [
    "Requests simply follows:\n",
    "- Import the library\n",
    "- get the response from the api url with `Requests.get(api)`\n",
    "- Get the data from the response\n",
    "\n",
    "Example:\n",
    "```python\n",
    "import requests\n",
    "api = 'http://api.music-catalog.com'\n",
    "\n",
    "response = requests.get(api)\n",
    "print(response.text)\n",
    "```"
   ]
  },
  {
   "cell_type": "markdown",
   "id": "0c7c491d-d5d9-4c08-b22b-bc60c755c4f7",
   "metadata": {},
   "source": [
    "## Anatomy of API Requests"
   ]
  },
  {
   "cell_type": "markdown",
   "id": "68e0fa78-46f0-43ce-9160-1204c52e9d0a",
   "metadata": {},
   "source": [
    "We can use the requests library to instruct further what we can get from an API.\n",
    "\n",
    "To do that, one must be aware of the URLs\n",
    "- This is an address to an API resource\n",
    "- You can cutomize the URL to interact with a specific API resource"
   ]
  },
  {
   "cell_type": "markdown",
   "id": "c90cfbf4-9e84-4ea7-96dc-1321667dcd6c",
   "metadata": {},
   "source": [
    "| URL Part | Meaning & Example (`Using http://350.5th-ave.com:80/unit/243?floor=77`) | How it's Used in API Interaction |\n",
    "|---|---|---|\n",
    "| Protocol | Determines the transportation method (e.g., `http://` or `https://`). Example: `http://` | Specifies how the client communicates with the server. `http` in this example is unsecure. |\n",
    "| Domain | The server's address (e.g., `350.5th-ave.com`). Example: `350.5th-ave.com` | Identifies the location of the API server on the internet. |\n",
    "| Port | The server's gateway (e.g., `:80`). Example: `:80` | Specifies the network port the server listens on. In this instance, it is port 80, which is the default for HTTP. |\n",
    "| Path | The specific resource location (e.g., `/unit/243`). Example: `/unit/243` | Defines the specific resource or endpoint being requested on the server. |\n",
    "| Query | Additional instructions or parameters (e.g., `?floor=77`). Example: `?floor=77` | Provides parameters to filter, sort, or modify the API request. |"
   ]
  },
  {
   "cell_type": "markdown",
   "id": "1d283eed-f69a-4939-b5ae-d4507a8bf7e6",
   "metadata": {},
   "source": [
    "So as you can see **you can modify the path and the query to your API url to get the specific data that you want :)**\n",
    "\n",
    "You can do that here: `requests.get(modified_api_url)`"
   ]
  },
  {
   "cell_type": "markdown",
   "id": "94afa34f-7d88-4f47-ad75-3e4d0939bbe4",
   "metadata": {},
   "source": [
    "## Adding Query Params \n",
    "\n",
    "There is a more efficient way to do this and that is making a params dictionary and supplying this inside the `.get(api, params)`"
   ]
  },
  {
   "cell_type": "markdown",
   "id": "8f88d0fe-eb68-45e2-9a63-39a061c1d4d4",
   "metadata": {},
   "source": [
    "```python\n",
    "query_params = {'floor': 77, 'elevator': True}\n",
    "\n",
    "response = requests.get('http://350.5th-ave.com/unit/243', params = query_params)\n",
    "```"
   ]
  },
  {
   "cell_type": "markdown",
   "id": "dda86766-ccb7-4a07-9180-3ec0aaa0e38d",
   "metadata": {},
   "source": [
    "## HTTP Verbs\n",
    "Now all that you have done so far is `GET` http function and that is getting information from unit 243. Now what if you want to send something to that?"
   ]
  },
  {
   "cell_type": "markdown",
   "id": "f4f21d3f-2a02-4a0e-961a-42dbf9e14939",
   "metadata": {},
   "source": [
    "| HTTP Verb | Description | Python `requests` Usage | Example (using http://350.5th-ave.com:80/unit/243?floor=77 as base) |\n",
    "|---|---|---|---|\n",
    "| GET | Reads a resource. Retrieves data from the server. | `requests.get(url, params=query_params)` | `requests.get('http://350.5th-ave.com:80/unit/243', params={'floor': 77})` |\n",
    "| POST | Creates a new resource. Sends data to the server to create a new entry. | `requests.post(url, data=payload)` | `requests.post('http://350.5th-ave.com:80/unit/243', data={'item': 'new_package'})` |\n",
    "| PUT | Updates an existing resource. Sends data to the server to modify an existing entry. | `requests.put(url, data=payload)` | `requests.put('http://350.5th-ave.com:80/unit/243', data={'item': 'updated_package'})` |\n",
    "| DELETE | Removes a resource. Deletes data from the server. | `requests.delete(url)` | `requests.delete('http://350.5th-ave.com:80/unit/243')` |"
   ]
  },
  {
   "cell_type": "markdown",
   "id": "1567cfb5-c64d-4292-ac07-4ddd5653f234",
   "metadata": {},
   "source": [
    "The following are the functions and arguments you can use:"
   ]
  },
  {
   "cell_type": "markdown",
   "id": "bf78c2fb-37d6-41f6-b75c-4f69a94be217",
   "metadata": {},
   "source": [
    "**Functions**\n",
    "\n",
    "| Functions | Description | Syntax |\n",
    "|---|---|---|\n",
    "| `requests.get` | Sends a GET request to retrieve data. | `requests.get(url, params=params)` |\n",
    "| `requests.post` | Sends a POST request to create a resource. | `requests.post(url, data=data)` |\n",
    "| `requests.put` | Sends a PUT request to update a resource. | `requests.put(url, data=data)` |\n",
    "| `requests.delete` | Sends a DELETE request to remove a resource. | `requests.delete(url)` |\n",
    "\n",
    "**Arguments**\n",
    "\n",
    "| Arguments | Description | Syntax | Example Values |\n",
    "|---|---|---|---|\n",
    "| `url` | The URL to send the request to. | `requests.get(url, ...)`, `requests.post(url, ...)`, `requests.put(url, ...)`, `requests.delete(url)` | `\"https://api.example.com/resource\"`, `\"http://example.com/data\"` |\n",
    "| `params` | Query parameters to append to the URL. | `requests.get(url, params=params)` | `{\"key1\": \"value1\", \"key2\": \"value2\"}` |\n",
    "| `data` | The data to send with the POST or PUT request. | `requests.post(url, data=data)`, `requests.put(url, data=data)` | `{\"key\": \"value\"}`, `[1, 2, 3]`, `\"string_data\"` |\n"
   ]
  },
  {
   "cell_type": "markdown",
   "id": "23e1b3d7-f0d3-41f5-838b-f60f782229ef",
   "metadata": {},
   "source": [
    "Example usage:\n",
    "\n",
    "```python\n",
    "# GET = Retrieve a resource\n",
    "response = requests.get('url', params = params)\n",
    "\n",
    "# POST = Create a resource\n",
    "response = requests.post('url', data = {'key': 'value'})\n",
    "\n",
    "# PUT = Update an existing resource \n",
    "response = requests.put('url', data = {'key': 'value'})\n",
    "\n",
    "# DELETE = Remove a resource\n",
    "response = requests.delete('url')\n",
    "```"
   ]
  },
  {
   "cell_type": "markdown",
   "id": "f6e47ce5-6199-49a3-bfff-039bf3fc2e68",
   "metadata": {},
   "source": [
    "# Headers and Status Code"
   ]
  },
  {
   "cell_type": "markdown",
   "id": "d6a80356-51f2-464c-a152-e0a211ef5573",
   "metadata": {},
   "source": [
    "Remember that web runs on packets or messages beng sent worldwide, now these messages can be receieved through equest such as GET and POST.\n",
    "\n",
    "Now, headers are part of this packets."
   ]
  },
  {
   "cell_type": "markdown",
   "id": "656515fe-fbac-443a-999e-bfbd42170abf",
   "metadata": {},
   "source": [
    "**Headers**\n",
    "- Are usually written as **key-value** pairs\n",
    "- These are messages used by two parties to agree on the langguage they will use to understannd each other (Content negotiation)"
   ]
  },
  {
   "cell_type": "markdown",
   "id": "5625c074-2259-47a7-bca1-c657834ed4a5",
   "metadata": {},
   "source": [
    "For example, if you have a request message with this header:\n",
    "\n",
    "`Host: datacamp.com`\n",
    "\n",
    "`Accept: application/json`\n",
    "\n",
    "Your response headers may be:\n",
    "\n",
    "`Content-Type: application/json`\n",
    "\n",
    "`Content-language: en=US`\n",
    "\n",
    "`...`"
   ]
  },
  {
   "cell_type": "markdown",
   "id": "6d2b0e82-490f-40e5-aba8-b2ed5b1b6da7",
   "metadata": {},
   "source": [
    "## Working with headers\n",
    "Now, if you want to work with API's, it is important that you know how to work with `headers`"
   ]
  },
  {
   "cell_type": "code",
   "execution_count": 2,
   "id": "ea75d1c5-cbc4-4998-8eb1-e40b1e8511a5",
   "metadata": {},
   "outputs": [],
   "source": [
    "import requests\n",
    "\n",
    "response = requests.get(\n",
    "    'https://api.datacamp.com',\n",
    "    headers = {'accept': 'application/json'}\n",
    ")"
   ]
  },
  {
   "cell_type": "markdown",
   "id": "f8fae685-1797-4a65-8b46-e5a823e2e5f6",
   "metadata": {},
   "source": [
    "**If you want to read the header response**:\n",
    "\n",
    "```python\n",
    "# one way\n",
    "response.headers['conten-type']\n",
    "\n",
    "# another way\n",
    "response.headers.get('content-type')\n",
    "```"
   ]
  },
  {
   "cell_type": "markdown",
   "id": "1f903a41-a405-4ac7-a471-61742ee3f9b9",
   "metadata": {},
   "source": [
    "**What happens if you request in headers something that a web server cannot respond to?**\n",
    "\n",
    "It will return a `406 - Not Acceptable`\n",
    "\n",
    "For example, if you want your `accept` to not be a `JSON` and instead be an `XML` "
   ]
  },
  {
   "cell_type": "markdown",
   "id": "8449ee43-c145-4f84-ae66-9a243b71996b",
   "metadata": {},
   "source": [
    "## Getting the status code"
   ]
  },
  {
   "cell_type": "markdown",
   "id": "e5b8c347-db5d-4ea2-8995-a2bf7ad2a4ea",
   "metadata": {},
   "source": [
    "every response object has a `.status_code` attribute:"
   ]
  },
  {
   "cell_type": "code",
   "execution_count": 4,
   "id": "58e0e95e-eba7-493a-a49d-fc05e870c6c0",
   "metadata": {},
   "outputs": [
    {
     "data": {
      "text/plain": [
       "True"
      ]
     },
     "execution_count": 4,
     "metadata": {},
     "output_type": "execute_result"
    }
   ],
   "source": [
    "# if you want to check for the code, you can just do:\n",
    "response = requests.get('https://api.datacamp.com/this/is/wrong/path')\n",
    "response.status_code == requests.codes.not_found"
   ]
  },
  {
   "cell_type": "markdown",
   "id": "e1ebade6-7e11-40f2-8bf4-c2ffd57e61cc",
   "metadata": {},
   "source": [
    "---\n",
    "\n"
   ]
  },
  {
   "cell_type": "markdown",
   "id": "e3de9143-18a7-45c0-9981-21628c794ef9",
   "metadata": {},
   "source": [
    "# Advanced API concepts"
   ]
  },
  {
   "cell_type": "markdown",
   "id": "a73cbbcb-32cd-4d75-aa7c-45edf5de80db",
   "metadata": {},
   "source": [
    "- How to authenticate with APIs\n",
    "- Working with structured data, focusing on requesting and handling JSON data.\n",
    "- Master error handling, including how to manage errors with requests"
   ]
  },
  {
   "cell_type": "markdown",
   "id": "f2aa309c-cd86-498f-8fa7-8b6dbb3cd346",
   "metadata": {},
   "source": [
    "Sometimes API contain priivate things ths we need authentication, if we don't we get `40x` stats code"
   ]
  },
  {
   "cell_type": "markdown",
   "id": "00f226c0-6648-4872-8af7-9dd848d38982",
   "metadata": {},
   "source": [
    "There are different authentication methods:\n",
    "- Basic Authetication\n",
    "- API Keys\n",
    "- JWT Authentication\n",
    "- OAuth 2.0"
   ]
  },
  {
   "cell_type": "markdown",
   "id": "f3434e79-3164-4adc-a6c7-09f61a5b47fd",
   "metadata": {},
   "source": [
    "## Basic Authentication\n",
    "To be able to do basic authentication, we add another key to our `headers`\n",
    "\n",
    "`{'Authorization': '...'}`"
   ]
  },
  {
   "cell_type": "markdown",
   "id": "b9575735-c849-40f9-9d32-de0cb1739fc0",
   "metadata": {},
   "source": [
    "You can do it this way:\n",
    "```python\n",
    "# basic\n",
    "requests.get('url', auth = ('username', 'password'))\n",
    "\n",
    "# you can also add it to your header\n",
    "```"
   ]
  },
  {
   "cell_type": "markdown",
   "id": "534d0b4a-f59a-4dd7-a906-537a4af73ac9",
   "metadata": {},
   "source": [
    "## API Key"
   ]
  },
  {
   "cell_type": "markdown",
   "id": "60d6717d-5e4b-4550-a2e8-17d293f05a6d",
   "metadata": {},
   "source": [
    "To do this, you can actually:\n",
    "- Use a query `param`\n",
    "    - `https://api_url?access_token=token_code`\n",
    "    - Maybe use the `params = param`\n",
    "```python\n",
    "params = {'access_token': 'token'}\n",
    "requests.get('api_url', params = params)\n",
    "```\n",
    "\n",
    "- \"Bearer\" authorization `header`\n",
    "```python\n",
    "headers = {'Authorization': 'Bearer code'}\n",
    "requests.get('api_url', headers=headers)\n",
    "```"
   ]
  },
  {
   "cell_type": "markdown",
   "id": "b0ecdccf-5941-4705-806e-f4c12765fa80",
   "metadata": {},
   "source": [
    "--- \n"
   ]
  },
  {
   "cell_type": "markdown",
   "id": "0e952e8e-1802-4867-b4b1-c8180d598b54",
   "metadata": {},
   "source": [
    "## Working with Structre Data from API"
   ]
  },
  {
   "cell_type": "markdown",
   "id": "d540f037-0fb6-48a6-8252-1df4a19622d0",
   "metadata": {},
   "source": [
    "### 1. Importing JSON From Web with API"
   ]
  },
  {
   "cell_type": "markdown",
   "id": "1fbde26f-2b59-4cd9-a31d-7a549c09a34d",
   "metadata": {},
   "source": [
    "#### Working with JSON\n",
    "When working with JSON package, you assume that you will encounter a JSON File, now that being a file you must do the right way of opening a file, reading, and whatnot.\n",
    "\n",
    "```python\n",
    "import json\n",
    "with open('fileName.json', 'r') as json_file:\n",
    "    json_data = json.load(json_file)\n",
    "\n",
    "# use the data\n",
    "print(type(json_data))\n",
    "```"
   ]
  },
  {
   "cell_type": "markdown",
   "id": "a2b029ec-f147-41b0-8d9a-74f0cb3cb1d8",
   "metadata": {},
   "source": [
    "#### Working with API"
   ]
  },
  {
   "cell_type": "markdown",
   "id": "883b0c8a-892c-49ed-9b70-4b1dfb576ad7",
   "metadata": {},
   "source": [
    "What is it:\n",
    "- A bunch of code that allows programs to communicate with each other\n",
    "- Set of protocols and routines that are prolly wirtten in codes\n",
    "- If you for example are expecting a `JSON`, after you get the data it is a string, you will need to use the `json.loads(string_json)` to make it a dictionary and be able to work with it.\n",
    "\n",
    "For example, if you want to connect to an API of the OMDB website, which offers the `JSON` data for movies you could do it like this: "
   ]
  },
  {
   "cell_type": "markdown",
   "id": "8c969402-d22e-482e-8759-33a331f21608",
   "metadata": {},
   "source": [
    "```python\n",
    "import json\n",
    "import requests\n",
    "\n",
    "# The url here may seem odd but this can be seen from the documentation of the website\n",
    "url = 'http://www.omdbapi.com/?t=hackers'\n",
    "r = requests.get(url)\n",
    "json_data = r.json() # this is awesome\n",
    "\n",
    "for key, value in json_data.items():\n",
    "    print(\"key: \" + key + \" value: \" + value)\n",
    "```"
   ]
  },
  {
   "cell_type": "markdown",
   "id": "f8becd6d-db27-4e12-a71b-9698d56cb1c8",
   "metadata": {},
   "source": [
    "---\n",
    "\n"
   ]
  },
  {
   "cell_type": "markdown",
   "id": "880e477c-8aa9-4711-81d8-d31487bb2eea",
   "metadata": {},
   "source": [
    "### 2. Receiving JSON"
   ]
  },
  {
   "cell_type": "markdown",
   "id": "96779f24-bc84-4d1b-b950-977a016efc5d",
   "metadata": {},
   "source": [
    "Usually, you work with `JSON`\n",
    "\n",
    "In order to use pyython object wiith web API, we need to convert it to a JSON string **(encoding)**, the reverse is **decoding**, turing a JSON string to a python object\n",
    "\n",
    "\n",
    "```python\n",
    "import json\n",
    "\n",
    "# A dictionary (kinda like a JSON but not a JSON)\n",
    "album = {'id': 42, 'title': \"Back in Black\"}\n",
    "\n",
    "# encode:\n",
    "string = json.dumps(album)\n",
    "\n",
    "# decode:\n",
    "album = json.loads(string)\n",
    "```"
   ]
  },
  {
   "cell_type": "markdown",
   "id": "7234a8da-4ec4-41e8-8fb1-92cebc1d2b16",
   "metadata": {},
   "source": [
    "```python\n",
    "# Get a JSON from an API and work with it\n",
    "\n",
    "# Your goal should be \n",
    "# - request, make sure that inckuded in the headers the accept application\n",
    "# - get the return with .text\n",
    "# - decode\n",
    "\n",
    "\n",
    "response = requests.get('url', headers={'accept': 'application/json'})\n",
    "\n",
    "# get the text\n",
    "print(response.text)\n",
    "\n",
    "# decode\n",
    "data = json.loads(response.text)\n",
    "# or simply\n",
    "data = response.json()\n"
   ]
  },
  {
   "cell_type": "markdown",
   "id": "41cc24c2-af08-4b28-a7e8-f26a6b4a309c",
   "metadata": {},
   "source": [
    "### Sending JSON"
   ]
  },
  {
   "cell_type": "markdown",
   "id": "bfb7aeb6-3064-4f6a-8728-ab6825afb7f5",
   "metadata": {},
   "source": [
    "```python\n",
    "# post something:\n",
    "response = requests.post('url', json = {})\n",
    "\n",
    "# check it, you requested something and it will return a response, now there would not be a response if there is no request, so you get that\n",
    "# nirerecord ng response yung request mo\n",
    "request = response.request\n",
    "\n",
    "# now that you got your request\n",
    "print(request.headers['content-type'])\n",
    "```\n",
    "\n",
    "> application/json"
   ]
  },
  {
   "cell_type": "markdown",
   "id": "c34e224f-e5b0-4bd8-875a-4b41bce3832c",
   "metadata": {},
   "source": [
    "### Error Handling"
   ]
  },
  {
   "cell_type": "markdown",
   "id": "87964a6d-ddba-42db-8781-be4e330c9dde",
   "metadata": {},
   "source": [
    "When working with API, the error that we usually face is the `Connection Errors`"
   ]
  },
  {
   "cell_type": "code",
   "execution_count": 11,
   "id": "f5404b07-c6ec-4335-9fd7-a43e612acf2f",
   "metadata": {},
   "outputs": [
    {
     "name": "stdout",
     "output_type": "stream",
     "text": [
      "Connection Error! HTTPSConnectionPool(host='kim.com', port=443): Max retries exceeded with url: / (Caused by ConnectTimeoutError(<urllib3.connection.HTTPSConnection object at 0x0000014F39EA4FE0>, 'Connection to kim.com timed out. (connect timeout=None)'))\n",
      "HTTPSConnectionPool(host='kim.com', port=443): Max retries exceeded with url: / (Caused by ConnectTimeoutError(<urllib3.connection.HTTPSConnection object at 0x0000014F39EA4FE0>, 'Connection to kim.com timed out. (connect timeout=None)'))\n"
     ]
    }
   ],
   "source": [
    "# to handle connection errors we utilize requests\n",
    "\n",
    "import requests\n",
    "from requests.exceptions import ConnectionError\n",
    "\n",
    "url = 'https://kim.com'\n",
    "try:\n",
    "    response = requests.get(url)\n",
    "    print(response.status_code)\n",
    "except ConnectionError as conn_err:\n",
    "    print(f\"Connection Error! {conn_err}\")\n",
    "    print(conn_err)"
   ]
  },
  {
   "cell_type": "markdown",
   "id": "02b0e14f-da4a-4c35-bb41-3ed29f8d835f",
   "metadata": {},
   "source": [
    "There is a better way to do the above code that is provided as well by the requests library."
   ]
  },
  {
   "cell_type": "markdown",
   "id": "e76d4ac0-dbdc-456c-8f09-a85f7e86607c",
   "metadata": {},
   "source": [
    "### Using raise_for_status()\n",
    "\n",
    "```python\n",
    "import requests\n",
    "from requests.exceptions import ConnectionError, HTTPError\n",
    "\n",
    "url = ''\n",
    "try:\n",
    "    r = requests.get(url)\n",
    "    \n",
    "    r.raise_for_status()\n",
    "    \n",
    "    print(r.status_code)\n",
    "except ConnectionError as conn_err:\n",
    "    print(conn_err)\n",
    "\n",
    "```"
   ]
  },
  {
   "cell_type": "markdown",
   "id": "c47d91ab-21a9-4c29-9aa7-f73007408182",
   "metadata": {},
   "source": [
    "---\n"
   ]
  },
  {
   "cell_type": "markdown",
   "id": "4f5106b6-2be4-46a5-b0c2-b5c4652e886b",
   "metadata": {},
   "source": [
    "## Working w/ JSON and Pandas"
   ]
  },
  {
   "cell_type": "markdown",
   "id": "de04f63c-9901-406a-bd3d-4387aa096107",
   "metadata": {},
   "source": [
    "### `pd.read_json()`"
   ]
  },
  {
   "cell_type": "markdown",
   "id": "282ebb20-ec58-47ee-a34e-6280503c566d",
   "metadata": {},
   "source": [
    "let's say you have a `JSON` like this:\n",
    "\n",
    "```JSON\n",
    "[{\"adult_families_in_shelter\":\"1796\",\"adults_in_families_with_children_in_shelter\":\"14607\",\"children_in_families_with_children_in_shelter\":\"21314\",\"date_of_census\":\"2013-08 21T00:00:00.000\",\"families_with_children_in_shelter\":\"10261\",\"individuals_in_adult_families_in_shelter\":\"3811\",\"single_adult_men_in_shelter\":\"7231\",\"single_adult_women_in_shelter\":\"2710\",\"total_adults_in_shelter\":\"28359\",\"total_children_in_shelter\":\"21314\",\"total_individuals_in_families_with_children_in_shelter_\":\"35921\",\"total_individuals_in_shelter\":\"49673\",\"total_single_adults_in_shelter\":\"9941\"}\n",
    "\n",
    "...\n",
    "```\n",
    "\n",
    "Now, as you can see, it looks like it has column names and a single value for each object, now you can read it by:\n",
    "\n",
    "```python\n",
    "import pandas as pd\n",
    "\n",
    "df = pd.read_json('file.json')\n",
    "\n",
    "df.head()\n",
    "```\n",
    "\n",
    "**The problem with this however is that there are specific orientations that pandas can work on**\n",
    "\n",
    "so sometimes you gotta have the `orient` argument in the `read_json`"
   ]
  },
  {
   "cell_type": "markdown",
   "id": "1b14f335-ab9f-4575-98a5-b75bca3c6e96",
   "metadata": {},
   "source": [
    "### `.json()`"
   ]
  },
  {
   "cell_type": "markdown",
   "id": "acf9d02e-d763-47aa-9e6f-3dafba6c2dcc",
   "metadata": {},
   "source": [
    "Let's say with this:\n",
    "\n",
    "`response.json()` returns a dictionary so we can use the `pd.DataFrame()` to read that"
   ]
  },
  {
   "cell_type": "markdown",
   "id": "ba1c5098-e381-4fc4-9981-343ee64ab42a",
   "metadata": {},
   "source": [
    "```python\n",
    "# Get a JSON from an API and work with it\n",
    "\n",
    "# Your goal should be \n",
    "# - request, make sure that inckuded in the headers the accept application\n",
    "# - get the return with .text\n",
    "# - decode\n",
    "\n",
    "\n",
    "response = requests.get('url', headers={'accept': 'application/json'})\n",
    "\n",
    "# get the text\n",
    "print(response.text)\n",
    "\n",
    "# decode\n",
    "data = json.loads(response.text)\n",
    "# or simply\n",
    "data = response.json()\n",
    "\n",
    "# for example data is a dictionary with a key that has a dataframe(dict)\n",
    "# so you can do:\n",
    "df = pd.DataFrame(data.get('df'))\n",
    "\n",
    "df.head()\n",
    "```"
   ]
  },
  {
   "cell_type": "markdown",
   "id": "4e16ba95-21a5-4534-8025-447cb7613380",
   "metadata": {},
   "source": [
    "### Working with Nested JSON\n",
    "\n",
    "A JSON is **nested** when the value of a key is another object (dictionary) or a list of objects.  \n",
    "This structure is common when dealing with data from APIs.\n",
    "\n",
    "#### Understanding Nested JSON in DataFrames\n",
    "If you load a JSON into a DataFrame and one of its columns contains dictionaries, those are considered **nested fields**.\n",
    "\n",
    "Example data:\n"
   ]
  },
  {
   "cell_type": "markdown",
   "id": "c1e884f2-e372-42e5-b20f-cdd787e83881",
   "metadata": {},
   "source": [
    "#### Deeply Nested\n",
    "\n",
    "Now what if after you have: a dataframe (dict) that has a column (categories) that contains dict and the values of that is **still** a dictionary.\n",
    "\n",
    "Example data:\n",
    "\n",
    "```text\n",
    "   categories \\\n",
    "0  [{'alias': 'bookstores', 'title': 'Bookstores'}]\n",
    "1  [{'alias': 'bookstores', 'title': 'Bookstores'...\n",
    "2  [{'alias': 'bookstores', 'title': 'Bookstores'}]\n",
    "\n",
    "   coordinates \\\n",
    "0  {'latitude': 37.7975997924885, 'longitude': -1...\n",
    "1  {'latitude': 37.7885846793652, 'longitude': -1...\n",
    "2  {'latitude': 37.7589836120865, 'longitude': -1...\n",
    "\n",
    "   location \\\n",
    "0  {'address1': '261 Columbus Ave', 'address2': '...\n",
    "1  {'address1': '50 2nd St', 'address2': '', 'add...\n",
    "2  {'address1': '866 Valencia St', 'address2': '...\n",
    "```"
   ]
  },
  {
   "cell_type": "markdown",
   "id": "fc39d94c-b7b7-4358-bb0c-f0d213aff1eb",
   "metadata": {},
   "source": [
    "To work with that using `pandas`:\n",
    "\n",
    "#### Flattening Nested JSON\n",
    "\n",
    "You can use `pandas.io.json.json_normalize()` (or `pd.json_normalize` in modern versions of pandas) to flatten nested data.\n",
    "\n",
    "Basic usage:\n",
    "```python\n",
    "from pandas import json_normalize\n",
    "\n",
    "# this will return a dictionary, inside this dictionary we are after the `df`\n",
    "data = requests.get('url', params = params, headers = headers)\n",
    "\n",
    "# instead of using response.json() we can just\n",
    "df = json_normalize(data.get('df'), sep='_')\n",
    "```\n",
    "\n",
    "This will flatten nested columns such as coordinates into:\n",
    "- `coordinates_latitude`\n",
    "- `coordinates_longitude`\n",
    "\n",
    "But this does not flatten the `categories` because it is deep, refer to below"
   ]
  },
  {
   "cell_type": "markdown",
   "id": "27c3ff74-f8dc-45ca-90c5-c3132c63a53a",
   "metadata": {},
   "source": [
    "#### Flattening _Deeply Nested_ JSON\n",
    "\n",
    "When dealing with deeply nested JSON, it's common to encounter a field (like a column in a DataFrame) that contains a **list of dictionaries**, and those dictionaries may themselves contain more nested values.\n",
    "\n",
    "To handle this, you can use `pandas.json_normalize()` with:\n",
    "\n",
    "- `record_path`: to extract and flatten the list of nested dictionaries\n",
    "- `meta`: to retain contextual information from the parent record\n",
    "- `meta_prefix`: to optionally prefix meta field names for clarity\n",
    "\n",
    "Let's say you have JSON data like this:\n",
    "\n",
    "```python\n",
    "data = [\n",
    "    {\n",
    "        \"name\": \"Store A\",\n",
    "        \"coordinates\": {\"latitude\": 37.7975, \"longitude\": -122.4060},\n",
    "        \"location\": {\"city\": \"San Francisco\", \"address1\": \"261 Columbus Ave\"},\n",
    "        \"categories\": [\n",
    "            {\"alias\": \"bookstores\", \"title\": \"Bookstores\"},\n",
    "            {\"alias\": \"comics\", \"title\": \"Comic Books\"}\n",
    "        ]\n",
    "    },\n",
    "    {\n",
    "        \"name\": \"Store B\",\n",
    "        \"coordinates\": {\"latitude\": 37.7885, \"longitude\": -122.4020},\n",
    "        \"location\": {\"city\": \"San Francisco\", \"address1\": \"50 2nd St\"},\n",
    "        \"categories\": [\n",
    "            {\"alias\": \"bookstores\", \"title\": \"Bookstores\"}\n",
    "        ]\n",
    "    }\n",
    "]"
   ]
  },
  {
   "cell_type": "markdown",
   "id": "4c336a67-e6d0-4e06-8713-62d92db59583",
   "metadata": {},
   "source": [
    "To convert each entry in categories into a row, while keeping the store's name, coordinates, and location,\n",
    "\n",
    "```python\n",
    "from pandas import json_normalize\n",
    "\n",
    "df = json_normalize(\n",
    "    data=data,\n",
    "    record_path='categories',\n",
    "    meta=['name', 'coordinates', 'location'],\n",
    "    meta_prefix='meta_',\n",
    "    sep='_'\n",
    ")\n",
    "```\n",
    "It will outpu:\n",
    "\n",
    "| alias      | title       | meta\\_name | meta\\_coordinates                            | meta\\_location                               |\n",
    "| ---------- | ----------- | ---------- | -------------------------------------------- | -------------------------------------------- |\n",
    "| bookstores | Bookstores  | Store A    | {'latitude': 37.7975, 'longitude': -122.406} | {'city': 'San Francisco', 'address1': '...'} |\n",
    "| comics     | Comic Books | Store A    | {'latitude': 37.7975, 'longitude': -122.406} | {'city': 'San Francisco', 'address1': '...'} |\n",
    "| bookstores | Bookstores  | Store B    | {'latitude': 37.7885, 'longitude': -122.402} | {'city': 'San Francisco', 'address1': '...'} |\n"
   ]
  },
  {
   "cell_type": "markdown",
   "id": "fd4030ab-ef91-4cbb-bb54-0f5ce7782626",
   "metadata": {},
   "source": [
    "But if you did:\n",
    "```python\n",
    "df = json_normalize(\n",
    "    data=data,\n",
    "    record_path='categories',\n",
    "    meta=[\n",
    "        'name',\n",
    "        ['coordinates', 'latitude'],\n",
    "        ['coordinates', 'longitude'],\n",
    "        ['location', 'city'],\n",
    "        ['location', 'address1']\n",
    "    ],\n",
    "    meta_prefix='meta_',\n",
    "    sep='_'\n",
    ")\n",
    "```\n",
    "\n",
    "You will get:\n",
    "\n",
    "| alias      | title       | meta\\_name | meta\\_coordinates\\_latitude | meta\\_coordinates\\_longitude | meta\\_location\\_city | meta\\_location\\_address1 |\n",
    "| ---------- | ----------- | ---------- | --------------------------- | ---------------------------- | -------------------- | ------------------------ |\n",
    "| bookstores | Bookstores  | Store A    | 37.7975                     | -122.4060                    | San Francisco        | 261 Columbus Ave         |\n",
    "| comics     | Comic Books | Store A    | 37.7975                     | -122.4060                    | San Francisco        | 261 Columbus Ave         |\n",
    "| bookstores | Bookstores  | Store B    | 37.7885                     | -122.4020                    | San Francisco        | 50 2nd St                |\n"
   ]
  },
  {
   "cell_type": "markdown",
   "id": "9bb9199e-667e-40b0-86aa-f2b2a6c09a62",
   "metadata": {},
   "source": [
    "#### Explanation of meta\n",
    "The meta argument is used to carry over important contextual information from the original record. In the example above, the categories were exploded into individual rows. To avoid losing which store each category belongs to, we kept name, coordinates, and location by specifying them in meta.\n",
    "\n",
    "Each meta field will be repeated for each category in that store’s list.\n",
    "\n",
    "If you did not use meta, the output would only contain the fields inside categories, and you would lose all the surrounding store information."
   ]
  },
  {
   "cell_type": "markdown",
   "id": "b65e075c-0452-47da-b210-da650c51d897",
   "metadata": {},
   "source": [
    "### Another example:\n",
    "A list of dictionaries in JSON can contain dictionaries with different keys. JSON doesn't enforce uniformity within lists of objects. For example:\n",
    "\n",
    "```json\n",
    "[\n",
    "  { \"alias\": \"bookstores\", \"title\": \"Bookstores\" },\n",
    "  { \"alias\": \"comics\", \"title\": \"Comic Books\", \"rating\": 4.8 },\n",
    "  { \"title\": \"Graphic Novels\" }\n",
    "]\n",
    "\n",
    "```"
   ]
  },
  {
   "cell_type": "markdown",
   "id": "93214a27-8147-4089-bd8b-7040dd95ee75",
   "metadata": {},
   "source": [
    "Using:\n",
    "```python\n",
    "from pandas import json_normalize\n",
    "\n",
    "df = json_normalize(\n",
    "    data=data,\n",
    "    record_path='categories',\n",
    "    meta=['name']\n",
    ")\n",
    "print(df)\n",
    "```\n",
    "\n",
    "It will output:\n",
    "\n",
    "| alias      | title          | rating | name    |\n",
    "| ---------- | -------------- | ------ | ------- |\n",
    "| bookstores | Bookstores     | NaN    | Store A |\n",
    "| comics     | Comic Books    | 4.8    | Store A |\n",
    "| NaN        | Graphic Novels | NaN    | Store A |\n"
   ]
  }
 ],
 "metadata": {
  "kernelspec": {
   "display_name": "Python 3 (ipykernel)",
   "language": "python",
   "name": "python3"
  },
  "language_info": {
   "codemirror_mode": {
    "name": "ipython",
    "version": 3
   },
   "file_extension": ".py",
   "mimetype": "text/x-python",
   "name": "python",
   "nbconvert_exporter": "python",
   "pygments_lexer": "ipython3",
   "version": "3.12.9"
  }
 },
 "nbformat": 4,
 "nbformat_minor": 5
}
