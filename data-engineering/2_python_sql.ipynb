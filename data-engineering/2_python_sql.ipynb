{
 "cells": [
  {
   "cell_type": "markdown",
   "id": "9d4724c1-8fad-42cf-9142-ace4e6b8fef4",
   "metadata": {},
   "source": [
    "Importing a Data From a Database\n",
    "---"
   ]
  },
  {
   "cell_type": "markdown",
   "id": "0cfcc53f-2037-4397-bcac-13de6b91b586",
   "metadata": {},
   "source": [
    "# SQLAlchemy\n",
    "To connect to a database you have to first import SQLAlchemy and then call the `create_engine()`:\n",
    "\n",
    "```python\n",
    "from sqlalchemy import create_engine\n",
    "engine = create_engine('sqLite:///name.sqLite)\n",
    "```"
   ]
  },
  {
   "cell_type": "markdown",
   "id": "e9f135b2-c1c9-4467-b23f-9d1551381f0d",
   "metadata": {},
   "source": [
    "`create_engine` is a function that returns an `Engine` obkect and this object has attributes such as `.table_names()` which returns a list of the names of the table. \n",
    "\n",
    "```python\n",
    "table_names = engine.table_names()\n",
    "print(table_names)\n",
    "```"
   ]
  },
  {
   "cell_type": "markdown",
   "id": "52447534-eccf-4742-9a62-6350b6fe123a",
   "metadata": {},
   "source": [
    "## Querying with Python (RDBMS)\n",
    "\n",
    "When we want to import data from a database of course we need to query the database and the workflow usually follows:\n",
    "- import packages and functions\n",
    "- Create the database engine\n",
    "- Connect to the engine\n",
    "- Query the database\n",
    "- Save query results to a DataFrame\n",
    "- Close the connection\n",
    "\n",
    "When querying a database you usually use:\n",
    "### Functions\n",
    "\n",
    "| Functions | Description | Syntax |\n",
    "|---|---|---|\n",
    "| `create_engine` | Creates a database engine. | `create_engine(connection_string)` |\n",
    "| `connect` | Establishes a connection to the database. | `engine.connect()` |\n",
    "| `execute` | Executes an SQL query. | `connection.execute(sql_query)` |\n",
    "| `fetchall` | Fetches all rows from the query result. | `result_set.fetchall()` |\n",
    "| `fetchmany` | Fetches a specified number of rows from the query result. | `result_set.fetchmany(size=n)` |\n",
    "| `DataFrame` | Creates a pandas DataFrame from data. | `pandas.DataFrame(data)` |\n",
    "| `close` | Closes the database connection. | `connection.close()` |\n",
    "\n",
    "### Arguments\n",
    "\n",
    "| Arguments | Description | Syntax |\n",
    "|---|---|---|\n",
    "| `connection_string` | The string used to connect to the database. | `create_engine(connection_string)` |\n",
    "| `sql_query` | The SQL query to be executed. | `connection.execute(sql_query)` |\n",
    "| `size` | The number of rows to fetch. | `result_set.fetchmany(size=n)` |\n",
    "| `columns` | Sets the column names of a DataFrame. | `df.columns = column_names` |\n",
    "| `keys` | Retrieves the column names from a result set. | `result_set.keys()` |"
   ]
  },
  {
   "cell_type": "markdown",
   "id": "0bc62181-8fb2-4009-9994-d15fbba75d08",
   "metadata": {},
   "source": [
    "```python\n",
    "# Import packages and functions\n",
    "from sqlalchemy import create_engine\n",
    "import pandas as pd\n",
    "\n",
    "# create an engine\n",
    "engine = create_engine('sqlite:///Northwind.sqlite')\n",
    "\n",
    "# create a connection\n",
    "con = engine.connect() # this kinda returns a file object like read\n",
    "\n",
    "# query the database\n",
    "rs = con.execute(\"SELECT * FROM Orders\") # Creates a results object from SQLAlchemy\n",
    "\n",
    "# Save query to a df\n",
    "df = pd.DataFrame(rs.fetchall())\n",
    "df.columns = rf.keys()\n",
    "\n",
    "# close the connection\n",
    "con.close\n",
    "\n",
    "df.head()\n",
    "```"
   ]
  },
  {
   "cell_type": "markdown",
   "id": "8d208b8b-b056-4f87-83f0-1efe09cea047",
   "metadata": {},
   "source": [
    "You can also use the `with` clause when establishing a connection:\n",
    "\n",
    "```python\n",
    "with engine.connect() as con:\n",
    "    rs = con.execute('SELECT * FROM Orders')\n",
    "    df = pd.DataFrame(rs.fetchmany(size = 5))\n",
    "    df.columns = rs.keys()\n",
    "```"
   ]
  },
  {
   "cell_type": "markdown",
   "id": "5a2a26c5-eacc-43d2-931b-ad7a1e20f218",
   "metadata": {},
   "source": [
    "## Querying with Pandas"
   ]
  },
  {
   "cell_type": "markdown",
   "id": "914d7303-942e-443a-af39-f409790aa074",
   "metadata": {},
   "source": [
    "You can do the same thing as what the above code was doing with pandas `read_sql_query` so the workflow will be easy with simply:\n",
    "\n",
    "- Importing the libraries\n",
    "- Creating an engine\n",
    "- Query with pandas\n",
    "\n",
    "```python\n",
    "import pandas as pd\n",
    "from sqlalchemy import create_engine\n",
    "\n",
    "engine = create_engine('sqlite:///...')\n",
    "\n",
    "df = pd.read_sql_query('SELECT * FROM Table', engine)"
   ]
  },
  {
   "cell_type": "code",
   "execution_count": null,
   "id": "fab17e1a-ef52-425d-82c8-10841b189469",
   "metadata": {},
   "outputs": [],
   "source": []
  }
 ],
 "metadata": {
  "kernelspec": {
   "display_name": "Python 3 (ipykernel)",
   "language": "python",
   "name": "python3"
  },
  "language_info": {
   "codemirror_mode": {
    "name": "ipython",
    "version": 3
   },
   "file_extension": ".py",
   "mimetype": "text/x-python",
   "name": "python",
   "nbconvert_exporter": "python",
   "pygments_lexer": "ipython3",
   "version": "3.12.9"
  }
 },
 "nbformat": 4,
 "nbformat_minor": 5
}
