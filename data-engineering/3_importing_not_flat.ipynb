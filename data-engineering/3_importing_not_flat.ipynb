{
 "cells": [
  {
   "cell_type": "markdown",
   "id": "5c10040c-b46e-4643-9405-8913f3d179c4",
   "metadata": {},
   "source": [
    "# Other File Types"
   ]
  },
  {
   "cell_type": "markdown",
   "id": "74d0fc75-96c9-4a75-ae96-c1ddc77374cc",
   "metadata": {},
   "source": [
    "In this notebok, we will learn hhow to import different file types:\n",
    "- MATLAB Files\n",
    "- Excel\n",
    "- SAS files\n",
    "- Stata files\n",
    "- HDF5 files\n",
    "- Pickled files"
   ]
  },
  {
   "cell_type": "markdown",
   "id": "0b3826d4-3d87-4ab3-9557-c082d6fc92b7",
   "metadata": {},
   "source": [
    "## Importing an Excel File\n",
    "\n",
    "When importing an excel file, it has to be remembered that it has **sheets**:\n",
    "\n",
    "```python\n",
    "# Loading an excel\n",
    "import pandas as pd\n",
    "file = 'fiile.xlsx'\n",
    "\n",
    "data = pd.ExcelFile(file)\n",
    "\n",
    "print(data.sheet_names)\n",
    "\n",
    "# Getting individual sheet\n",
    "df1 = data.parse('sheet_name')\n",
    "df2 = data.parse(0) # integer as index\n",
    "```\n",
    "\n"
   ]
  },
  {
   "cell_type": "markdown",
   "id": "3d1ad4bc-ab6e-4a76-aee9-5bb8e3e0838d",
   "metadata": {},
   "source": [
    "Sometimes it is important that we tranform our sheets when parsing and `.parase()` provide arguments for that:\n",
    "- `skiprows` - skip rows\n",
    "- `names` - rename the columns\n",
    "- `usecols` - identifies which columns to parse"
   ]
  },
  {
   "cell_type": "markdown",
   "id": "4129b596-4c5a-43cb-94ab-99e42f8d5dcb",
   "metadata": {},
   "source": [
    "| Argument         | Use Case                                                                 | Syntax Example                          | Sample Input                        |\n",
    "|------------------|--------------------------------------------------------------------------|------------------------------------------|-------------------------------------|\n",
    "| `sheet_name`     | Specify which sheet(s) to read                                           | `sheet_name='Sheet1'`                    | `'Sheet1'`, `0`, `[0, 1]`, `None`   |\n",
    "| `header`         | Define row(s) to use as column names                                     | `header=0`                               | `0`, `None`, `[0, 1]`               |\n",
    "| `names`          | Set custom column names                                                  | `names=['A', 'B', 'C']`                  | `['A', 'B', 'C']`                   |\n",
    "| `index_col`      | Specify which column(s) to use as index                                  | `index_col=0`                            | `0`, `[0, 1]`, `None`               |\n",
    "| `usecols`        | Select specific columns to read                                          | `usecols='A:C'`                          | `'A:C'`, `[0, 2]`, `['A', 'B']`     |\n",
    "| `skiprows`       | Skip a number of rows at the beginning                                   | `skiprows=1`                             | `1`, `[0, 2]`                       |\n",
    "| `nrows`          | Limit number of rows to read                                             | `nrows=10`                               | `10`                                |"
   ]
  },
  {
   "cell_type": "markdown",
   "id": "b4a38264-bb8d-41fe-b20a-3096c8319e5f",
   "metadata": {},
   "source": [
    "---\n"
   ]
  },
  {
   "cell_type": "markdown",
   "id": "748f39a0-2a20-4796-931f-824bdc51221d",
   "metadata": {},
   "source": [
    "## Importing SAS/Stata files"
   ]
  },
  {
   "cell_type": "markdown",
   "id": "5f0a6b7b-63f8-448c-90d8-901e996838e5",
   "metadata": {},
   "source": [
    "- SAS - Statistica Analysis System\n",
    "- Stata - Statistics + data"
   ]
  },
  {
   "cell_type": "markdown",
   "id": "acf8c097-104d-48ba-b454-6fbc56db5b2c",
   "metadata": {},
   "source": [
    "```python\n",
    "# Sample of importing SAS\n",
    "import pandas as pd\n",
    "from sas7bdat import SAS7BDAT\n",
    "\n",
    "with SAS77BDAT('file.sas7bdat') as file:\n",
    "    df_sas = file.to_data_frame()\n",
    "\n",
    "# importing stata\n",
    "data = pd.read_stata('file.data')\n",
    "```"
   ]
  },
  {
   "cell_type": "markdown",
   "id": "041492db-c96b-41e1-8a3b-3f83e38858d7",
   "metadata": {},
   "source": [
    "---\n",
    "\n"
   ]
  },
  {
   "cell_type": "markdown",
   "id": "281288d5-ff34-4f05-a6e0-cb410669b280",
   "metadata": {},
   "source": [
    "## Import HDF5"
   ]
  },
  {
   "cell_type": "markdown",
   "id": "2c65e2d0-be6e-42e4-a87e-822ec6427138",
   "metadata": {},
   "source": [
    "- Hierarchical Data Format version 5\n",
    "- Stores large data"
   ]
  },
  {
   "cell_type": "markdown",
   "id": "5cd020d6-83e9-4720-bf1f-322a8eaf00b6",
   "metadata": {},
   "source": [
    "For example, using the HDF5 file from LIGO we can do:\n",
    "```python\n",
    "import h5py\n",
    "filename = 'H-H1_LOSCS_4_V1-....hdf5'\n",
    "data = h5py.File(filename, 'r')\n",
    "```"
   ]
  },
  {
   "cell_type": "markdown",
   "id": "7f127769-ac8f-4015-a638-93a1a7cc0a07",
   "metadata": {},
   "source": [
    "But what is the **structure of this**?\n",
    "- It is hierarchical\n",
    "- You can explore its hierarchy by doing\n",
    "\n",
    "```python\n",
    "for key in data.keys():\n",
    "    print(key)\n",
    "```"
   ]
  },
  {
   "cell_type": "markdown",
   "id": "cc2dd674-8296-4831-901e-aa310b0e2929",
   "metadata": {},
   "source": [
    "> - meta\n",
    "> - quality\n",
    "> - realdata\n",
    "\n",
    "Each key is an HDF group, you can think of that as a **directory**. \n",
    "\n",
    "Now, if you want to know what are the metadata, you can do:\n",
    "\n",
    "```python\n",
    "for key in data['meta'].keys():\n",
    "    print(key)\n",
    "```\n",
    "> - Description\n",
    "> - Detector"
   ]
  },
  {
   "cell_type": "markdown",
   "id": "08705ae2-94ed-4978-a240-8ab8f4ad478f",
   "metadata": {},
   "source": [
    "Now if you are interested in the contents of these key, you can convert them into numoy array:\n",
    "\n",
    "```python\n",
    "print(np.array(data['meta']['Descrription'], np.array ...))\n",
    "```"
   ]
  },
  {
   "cell_type": "markdown",
   "id": "b94c97f5-9669-4f9c-87a3-3ef951ceb7f5",
   "metadata": {},
   "source": [
    "---\n",
    "\n"
   ]
  },
  {
   "cell_type": "markdown",
   "id": "d762f945-6024-4b90-bbe9-f781c6c8d72f",
   "metadata": {},
   "source": [
    "## Importing MATLAB"
   ]
  },
  {
   "cell_type": "markdown",
   "id": "15b9b3a8-ad49-4321-b1cf-016c098afade",
   "metadata": {},
   "source": [
    "To read MATLAB, we can use SciPy:\n",
    "- `scipy.io.loadmat()`: read .mat files\n",
    "- `scipy.io.savemat()`: write .mat files\n",
    "\n",
    "A `.mat()` file is simply collection of objects used in MATLAB environment (array, matriix, etc)"
   ]
  },
  {
   "cell_type": "markdown",
   "id": "882f783c-74cd-4f62-8959-0b735d8e47ba",
   "metadata": {},
   "source": [
    "For example, you can do:\n",
    "\n",
    "```python\n",
    "import scipy.io\n",
    "filename = 'workspace.mat'\n",
    "mat = scipy.io.loadmat(filename)\n",
    "```\n",
    "The return of this is a dictionary:\n",
    "- keys - MATLAB variable names\n",
    "- values - objects assigned to variables"
   ]
  },
  {
   "cell_type": "code",
   "execution_count": null,
   "id": "587cde7a-0fbc-4910-86b6-a5c1e275abfa",
   "metadata": {},
   "outputs": [],
   "source": []
  }
 ],
 "metadata": {
  "kernelspec": {
   "display_name": "Python 3 (ipykernel)",
   "language": "python",
   "name": "python3"
  },
  "language_info": {
   "codemirror_mode": {
    "name": "ipython",
    "version": 3
   },
   "file_extension": ".py",
   "mimetype": "text/x-python",
   "name": "python",
   "nbconvert_exporter": "python",
   "pygments_lexer": "ipython3",
   "version": "3.12.9"
  }
 },
 "nbformat": 4,
 "nbformat_minor": 5
}
