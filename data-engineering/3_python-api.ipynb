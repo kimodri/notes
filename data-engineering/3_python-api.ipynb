{
 "cells": [
  {
   "cell_type": "markdown",
   "id": "178d6c9b-08df-472d-b21b-99e3d67d6801",
   "metadata": {},
   "source": [
    "# API in Python"
   ]
  },
  {
   "cell_type": "markdown",
   "id": "9f7cc0ac-1d7d-4770-912d-17580c729bef",
   "metadata": {},
   "source": [
    "## API with URLIB"
   ]
  },
  {
   "cell_type": "markdown",
   "id": "93e71398-f11b-447d-adcf-4cc58a04cee7",
   "metadata": {},
   "source": [
    "using `urlib` follows the following:\n",
    "- Import the library\n",
    "- open the url with `urlopen(api)`\n",
    "- read the data from the response\n",
    "- decode the data\n",
    "\n",
    "Example:\n",
    "\n",
    "```python\n",
    "from urllib.request import urlopen\n",
    "import urllib\n",
    "api = 'http://api.music-catalog.com/'\n",
    "\n",
    "with urlopen(api) as response:\n",
    "    data = response.read()\n",
    "    string = data.decode()\n",
    "    print(data)\n",
    "```\n",
    "\n",
    "Another example:\n",
    "```python\n",
    "from urllib.request import urlopen\n",
    "\n",
    "with urlopen('http://localhost:3000/lyrics/') as response:\n",
    "  \n",
    "  # Use the correct function to read the response data from the response object\n",
    "  data = response.read()\n",
    "  encoding = response.headers.get_content_charset()\n",
    "\n",
    "  # Decode the response data so you can print it as a string later\n",
    "  string = data.decode(encoding)\n",
    "  \n",
    "  print(string)\n",
    "```"
   ]
  },
  {
   "cell_type": "markdown",
   "id": "61bbf1bb-3658-4e65-9dab-14a06447321f",
   "metadata": {},
   "source": [
    "## API with Requests"
   ]
  },
  {
   "cell_type": "markdown",
   "id": "df16e50a-2cb1-4efb-8680-855aa44fd1b0",
   "metadata": {},
   "source": [
    "Requests simply follows:\n",
    "- Import the library\n",
    "- get the response from the api url with `Requests.get(api)`\n",
    "- Get the data from the response\n",
    "\n",
    "Example:\n",
    "```python\n",
    "import requests\n",
    "api = 'http://api.music-catalog.com'\n",
    "\n",
    "response = requests.get(api)\n",
    "print(response.text)\n",
    "```"
   ]
  },
  {
   "cell_type": "markdown",
   "id": "0c7c491d-d5d9-4c08-b22b-bc60c755c4f7",
   "metadata": {},
   "source": [
    "## Anatomy of API Requests"
   ]
  },
  {
   "cell_type": "markdown",
   "id": "68e0fa78-46f0-43ce-9160-1204c52e9d0a",
   "metadata": {},
   "source": [
    "We can use the requests library to instruct further what we can get from an API.\n",
    "\n",
    "To do that, one must be aware of the URLs\n",
    "- This is an address to an API resource\n",
    "- You can cutomize the URL to interact with a specific API resource"
   ]
  },
  {
   "cell_type": "markdown",
   "id": "c90cfbf4-9e84-4ea7-96dc-1321667dcd6c",
   "metadata": {},
   "source": [
    "| URL Part | Meaning & Example (`Using http://350.5th-ave.com:80/unit/243?floor=77`) | How it's Used in API Interaction |\n",
    "|---|---|---|\n",
    "| Protocol | Determines the transportation method (e.g., `http://` or `https://`). Example: `http://` | Specifies how the client communicates with the server. `http` in this example is unsecure. |\n",
    "| Domain | The server's address (e.g., `350.5th-ave.com`). Example: `350.5th-ave.com` | Identifies the location of the API server on the internet. |\n",
    "| Port | The server's gateway (e.g., `:80`). Example: `:80` | Specifies the network port the server listens on. In this instance, it is port 80, which is the default for HTTP. |\n",
    "| Path | The specific resource location (e.g., `/unit/243`). Example: `/unit/243` | Defines the specific resource or endpoint being requested on the server. |\n",
    "| Query | Additional instructions or parameters (e.g., `?floor=77`). Example: `?floor=77` | Provides parameters to filter, sort, or modify the API request. |"
   ]
  },
  {
   "cell_type": "markdown",
   "id": "1d283eed-f69a-4939-b5ae-d4507a8bf7e6",
   "metadata": {},
   "source": [
    "So as you can see **you can modify the path and the query to your API url to get the specific data that you want :)**\n",
    "\n",
    "You can do that here: `requests.get(modified_api_url)`"
   ]
  },
  {
   "cell_type": "markdown",
   "id": "94afa34f-7d88-4f47-ad75-3e4d0939bbe4",
   "metadata": {},
   "source": [
    "## Adding Query Params \n",
    "\n",
    "There is a more efficient way to do this and that is making a params dictionary and supplying this inside the `.get(api, params)`"
   ]
  },
  {
   "cell_type": "markdown",
   "id": "8f88d0fe-eb68-45e2-9a63-39a061c1d4d4",
   "metadata": {},
   "source": [
    "```python\n",
    "query_params = {'floor': 77, 'elevator': True}\n",
    "\n",
    "response = requests.get('http://350.5th-ave.com/unit/243', params = query_params)\n",
    "```"
   ]
  },
  {
   "cell_type": "markdown",
   "id": "dda86766-ccb7-4a07-9180-3ec0aaa0e38d",
   "metadata": {},
   "source": [
    "## HTTP Verbs\n",
    "Now all that you have done so far is `GET` http function and that is getting information from unit 243. Now what if you want to send something to that?"
   ]
  },
  {
   "cell_type": "markdown",
   "id": "f4f21d3f-2a02-4a0e-961a-42dbf9e14939",
   "metadata": {},
   "source": [
    "| HTTP Verb | Description | Python `requests` Usage | Example (using http://350.5th-ave.com:80/unit/243?floor=77 as base) |\n",
    "|---|---|---|---|\n",
    "| GET | Reads a resource. Retrieves data from the server. | `requests.get(url, params=query_params)` | `requests.get('http://350.5th-ave.com:80/unit/243', params={'floor': 77})` |\n",
    "| POST | Creates a new resource. Sends data to the server to create a new entry. | `requests.post(url, data=payload)` | `requests.post('http://350.5th-ave.com:80/unit/243', data={'item': 'new_package'})` |\n",
    "| PUT | Updates an existing resource. Sends data to the server to modify an existing entry. | `requests.put(url, data=payload)` | `requests.put('http://350.5th-ave.com:80/unit/243', data={'item': 'updated_package'})` |\n",
    "| DELETE | Removes a resource. Deletes data from the server. | `requests.delete(url)` | `requests.delete('http://350.5th-ave.com:80/unit/243')` |"
   ]
  },
  {
   "cell_type": "markdown",
   "id": "1567cfb5-c64d-4292-ac07-4ddd5653f234",
   "metadata": {},
   "source": [
    "The following are the functions and arguments you can use:"
   ]
  },
  {
   "cell_type": "markdown",
   "id": "bf78c2fb-37d6-41f6-b75c-4f69a94be217",
   "metadata": {},
   "source": [
    "**Functions**\n",
    "\n",
    "| Functions | Description | Syntax |\n",
    "|---|---|---|\n",
    "| `requests.get` | Sends a GET request to retrieve data. | `requests.get(url, params=params)` |\n",
    "| `requests.post` | Sends a POST request to create a resource. | `requests.post(url, data=data)` |\n",
    "| `requests.put` | Sends a PUT request to update a resource. | `requests.put(url, data=data)` |\n",
    "| `requests.delete` | Sends a DELETE request to remove a resource. | `requests.delete(url)` |\n",
    "\n",
    "**Arguments**\n",
    "\n",
    "| Arguments | Description | Syntax | Example Values |\n",
    "|---|---|---|---|\n",
    "| `url` | The URL to send the request to. | `requests.get(url, ...)`, `requests.post(url, ...)`, `requests.put(url, ...)`, `requests.delete(url)` | `\"https://api.example.com/resource\"`, `\"http://example.com/data\"` |\n",
    "| `params` | Query parameters to append to the URL. | `requests.get(url, params=params)` | `{\"key1\": \"value1\", \"key2\": \"value2\"}` |\n",
    "| `data` | The data to send with the POST or PUT request. | `requests.post(url, data=data)`, `requests.put(url, data=data)` | `{\"key\": \"value\"}`, `[1, 2, 3]`, `\"string_data\"` |\n"
   ]
  },
  {
   "cell_type": "markdown",
   "id": "23e1b3d7-f0d3-41f5-838b-f60f782229ef",
   "metadata": {},
   "source": [
    "Example usage:\n",
    "\n",
    "```python\n",
    "# GET = Retrieve a resource\n",
    "response = requests.get('url', params = params)\n",
    "\n",
    "# POST = Create a resource\n",
    "response = requests.post('url', data = {'key': 'value'})\n",
    "\n",
    "# PUT = Update an existing resource \n",
    "response = requests.put('url', data = {'key': 'value'})\n",
    "\n",
    "# DELETE = Remove a resource\n",
    "response = requests.delete('url')\n",
    "```"
   ]
  },
  {
   "cell_type": "markdown",
   "id": "f6e47ce5-6199-49a3-bfff-039bf3fc2e68",
   "metadata": {},
   "source": [
    "# Headers and Status Code"
   ]
  },
  {
   "cell_type": "code",
   "execution_count": null,
   "id": "99502d76-7413-4663-b766-4672dfb26610",
   "metadata": {},
   "outputs": [],
   "source": []
  }
 ],
 "metadata": {
  "kernelspec": {
   "display_name": "Python 3 (ipykernel)",
   "language": "python",
   "name": "python3"
  },
  "language_info": {
   "codemirror_mode": {
    "name": "ipython",
    "version": 3
   },
   "file_extension": ".py",
   "mimetype": "text/x-python",
   "name": "python",
   "nbconvert_exporter": "python",
   "pygments_lexer": "ipython3",
   "version": "3.12.9"
  }
 },
 "nbformat": 4,
 "nbformat_minor": 5
}
