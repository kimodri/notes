{
 "cells": [
  {
   "cell_type": "markdown",
   "id": "f25518ab-8ec9-4213-bbeb-1cf187022286",
   "metadata": {},
   "source": [
    "# Loading to a SQL Database"
   ]
  },
  {
   "cell_type": "markdown",
   "id": "b21b95a2-04cc-4922-8a55-ae25328c7e51",
   "metadata": {},
   "source": [
    "To load to a SQL database, one must:\n",
    "1. create a connection\n",
    "```python\n",
    "engine = sqlalchemy.create_engine('uri')\n",
    "```\n",
    "2. use ge `.to_sql()` method to persists data to SQL\n",
    "```python\n",
    "df.to_sql(\n",
    "    name = 'dbtable__name',\n",
    "    con = engine,\n",
    "    if_exists = 'append', # determine how data is added to existing table, if append it appends\n",
    "    # if replace it overwrites\n",
    "    index = True,\n",
    "    index_label = 'label'\n",
    ")\n",
    "```\n",
    "3. Validate the loaded\n",
    "```python\n",
    "to_validate = pd.read_sql()\n",
    "```\n",
    "You can compare this to your df"
   ]
  },
  {
   "cell_type": "code",
   "execution_count": null,
   "id": "99dd69d4-52d2-46e6-9735-500d6cb4ec0c",
   "metadata": {},
   "outputs": [],
   "source": []
  }
 ],
 "metadata": {
  "kernelspec": {
   "display_name": "Python 3 (ipykernel)",
   "language": "python",
   "name": "python3"
  },
  "language_info": {
   "codemirror_mode": {
    "name": "ipython",
    "version": 3
   },
   "file_extension": ".py",
   "mimetype": "text/x-python",
   "name": "python",
   "nbconvert_exporter": "python",
   "pygments_lexer": "ipython3",
   "version": "3.12.9"
  }
 },
 "nbformat": 4,
 "nbformat_minor": 5
}
