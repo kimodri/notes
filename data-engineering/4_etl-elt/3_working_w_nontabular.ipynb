{
 "cells": [
  {
   "cell_type": "markdown",
   "id": "39cfa07e-8754-4d75-a105-46d57263acbc",
   "metadata": {},
   "source": [
    "# Working with Non-Tabular Data\n",
    "\n",
    "Usually, what you do is transform these non-tabular data into a tabular data\n",
    "\n",
    "---"
   ]
  },
  {
   "cell_type": "markdown",
   "id": "1556c0d9-13c8-4688-a11c-7985171fdcf1",
   "metadata": {},
   "source": [
    "## Working with APIs and JSON\n",
    "- You are just gathering data by requesting\n",
    "- Typically serves data as JSON"
   ]
  },
  {
   "cell_type": "markdown",
   "id": "f25518ab-8ec9-4213-bbeb-1cf187022286",
   "metadata": {},
   "source": [
    "Usually JSON is like a python dictionary and you can use the `pd.read_json()` to make it a dataframe\n",
    "\n",
    "```python\n",
    "data = pd.read_json('path', orient = 'columns')\n",
    "```\n",
    "\n",
    "- If you think that the JSON is like a table, you can use the `columns`\n",
    "- But if the JSON is a list of dictionaries, you must use `records`\n",
    "- `index` is passed to orient when key-value pairs are made up of indeces and the dictoionary containing the remainder of the record"
   ]
  },
  {
   "cell_type": "markdown",
   "id": "3d9201c1-de07-42a5-b7cd-2c0f71f334a0",
   "metadata": {},
   "source": [
    "## What if JSON is not DataFrame Ready?\n",
    "\n",
    "This happens when there is a nested objects or a varying schema\n",
    "\n",
    "**To handle this:**\n",
    "1. Import the json library\n",
    "2. Load the file into a dictionary\n",
    "3. Transform the data into a dataframe\n",
    "```python\n",
    "import json\n",
    "\n",
    "with open('json.json', 'r') as file:\n",
    "    dictionary = json.load(file)\n",
    "```"
   ]
  },
  {
   "cell_type": "markdown",
   "id": "302d500f-1c94-4f2b-be02-320555367f04",
   "metadata": {},
   "source": [
    "---\n",
    "## Transforming Non-Structured Data"
   ]
  },
  {
   "cell_type": "code",
   "execution_count": null,
   "id": "0cf5dd2e-986c-4ffb-aad8-6fed387f94f1",
   "metadata": {},
   "outputs": [],
   "source": []
  }
 ],
 "metadata": {
  "kernelspec": {
   "display_name": "Python 3 (ipykernel)",
   "language": "python",
   "name": "python3"
  },
  "language_info": {
   "codemirror_mode": {
    "name": "ipython",
    "version": 3
   },
   "file_extension": ".py",
   "mimetype": "text/x-python",
   "name": "python",
   "nbconvert_exporter": "python",
   "pygments_lexer": "ipython3",
   "version": "3.12.9"
  }
 },
 "nbformat": 4,
 "nbformat_minor": 5
}
