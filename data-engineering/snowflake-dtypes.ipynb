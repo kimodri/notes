{
 "cells": [
  {
   "cell_type": "markdown",
   "id": "0bcffb88-04cf-43fe-aa7a-74df4ffda6d3",
   "metadata": {},
   "source": [
    "# Snowflake"
   ]
  },
  {
   "cell_type": "markdown",
   "id": "4e52edc3-eca6-408f-a0ab-ef549681f163",
   "metadata": {},
   "source": [
    "---"
   ]
  },
  {
   "cell_type": "markdown",
   "id": "ae4c5c68-ac33-4c3b-8f31-b15a876e20f1",
   "metadata": {},
   "source": [
    "## Snowflake SQL Data Types\n",
    "- Data types in Snowflake\n",
    "- How to convert datatypes from postgres (or others) to snowflake"
   ]
  },
  {
   "cell_type": "markdown",
   "id": "366ee752-865d-4153-a51e-779ab65d0b0e",
   "metadata": {},
   "source": [
    "### Number\n",
    "\n",
    "```SQL\n",
    "NUMBER(p, s)\n",
    "```\n",
    "- `p` and `s` has max values = 38"
   ]
  },
  {
   "cell_type": "markdown",
   "id": "e98fe6e0-b5a3-4bc7-9c7a-12e4eefa9b6d",
   "metadata": {},
   "source": [
    "### TIMESTAMP_LTZ\n",
    "- Combines `DATE` and `TIME` with local time zone\n",
    "- Format: `YYYY-MM-DD HH:MI:SS`\n",
    "\n",
    "**Sample Code:**\n",
    "```SQL\n",
    "CREATE TABLE orders (\n",
    "-- Timestamp with local time zone\n",
    "order_timestamp TIMESTAMP_LTZ\n",
    "    )\n",
    "```"
   ]
  },
  {
   "cell_type": "markdown",
   "id": "e729618c-425d-4788-a07b-d52849c8774b",
   "metadata": {},
   "source": [
    "## Converting Data Types"
   ]
  },
  {
   "cell_type": "markdown",
   "id": "ef72d87f-d0a9-4d0d-bb79-5caf0203a6ae",
   "metadata": {},
   "source": [
    "1. CAST Syntax\n",
    "   - `CAST ( <source_data/column> AS <target_data_type> )`\n",
    "   - `CAST ('80' AS INT)`\n",
    "2. ::Syntax\n",
    "   - `<source_data/column>::<target_data_type>`\n",
    "   - `'80'::INT`"
   ]
  },
  {
   "cell_type": "markdown",
   "id": "d69581c7-4fad-4fcb-bf02-d74bcc18818d",
   "metadata": {},
   "source": [
    "**Sample Code:**\n",
    "```SQL\n",
    "SELECT CAST (order_timestamp AS DATE) AS order_date\n",
    "FROM orders\n",
    "```"
   ]
  },
  {
   "cell_type": "markdown",
   "id": "972e53de-beb6-4921-8f63-f72e460f7c4d",
   "metadata": {},
   "source": [
    "3. Using `TO_` Functions\n",
    "   - This is good for example if you want to concatenate different data types\n",
    "**Sample Code:**\n",
    "```SQL\n",
    "SELECT id_name || TO_VARCHAR(id_int)\n",
    "FROM table\n",
    "```"
   ]
  },
  {
   "cell_type": "markdown",
   "id": "1ca0b20c-083b-4a56-9886-fb95300c7ec7",
   "metadata": {},
   "source": [
    "### Checking Data Types\n",
    "`DESC TABLE table`"
   ]
  },
  {
   "cell_type": "markdown",
   "id": "4f44aa4c-30ee-4c88-b335-1fd3b542da1d",
   "metadata": {},
   "source": [
    "---\n"
   ]
  },
  {
   "cell_type": "markdown",
   "id": "3dd5dc3f-698f-44b4-95ff-6c75c00e5cad",
   "metadata": {},
   "source": [
    "## String Functions"
   ]
  },
  {
   "cell_type": "markdown",
   "id": "8a99ca69-4930-4723-b9dc-d0c36675e8cc",
   "metadata": {},
   "source": [
    "### IINITCAP"
   ]
  },
  {
   "cell_type": "markdown",
   "id": "22bf5900-0380-49b2-b1ac-b8b98fe204f5",
   "metadata": {},
   "source": [
    "syntax: `INITCAP(<expr>)`\n",
    "\n",
    "sample:\n",
    "```SQL\n",
    "SELECT INITCAP(column) AS capitalized_column\n",
    "FROM table\n",
    "```"
   ]
  },
  {
   "cell_type": "markdown",
   "id": "19d2fd0c-c9fe-4344-96f0-6af683828b2b",
   "metadata": {},
   "source": [
    "### CONCAT\n",
    "syntax: `CONCAT(<exp1/column>, ' expression')`\n"
   ]
  },
  {
   "cell_type": "markdown",
   "id": "ea9d4955-8cbb-472e-b82c-eff7b36bd050",
   "metadata": {},
   "source": [
    "---"
   ]
  },
  {
   "cell_type": "markdown",
   "id": "4816f057-ca3b-4535-8fef-65dcdac679bb",
   "metadata": {},
   "source": [
    "## Joining in Snowflake"
   ]
  },
  {
   "cell_type": "markdown",
   "id": "50d8f0cb-2405-49b1-8067-d54456d7f033",
   "metadata": {},
   "source": [
    "### Natural Join\n",
    "- Automatically match columns and remove duplicate ones"
   ]
  }
 ],
 "metadata": {
  "kernelspec": {
   "display_name": "Python 3 (ipykernel)",
   "language": "python",
   "name": "python3"
  },
  "language_info": {
   "codemirror_mode": {
    "name": "ipython",
    "version": 3
   },
   "file_extension": ".py",
   "mimetype": "text/x-python",
   "name": "python",
   "nbconvert_exporter": "python",
   "pygments_lexer": "ipython3",
   "version": "3.12.9"
  }
 },
 "nbformat": 4,
 "nbformat_minor": 5
}
