{
 "cells": [
  {
   "cell_type": "markdown",
   "id": "58d93a6c-ef22-4519-930d-773c5d004709",
   "metadata": {},
   "source": [
    "# Exploratory Data Analysis in Python\n"
   ]
  },
  {
   "cell_type": "markdown",
   "id": "36bb787e-c527-4ce9-a943-f1179496d81e",
   "metadata": {},
   "source": [
    "## I. Getting to Know the Dataset"
   ]
  },
  {
   "cell_type": "markdown",
   "id": "ae82cb7e-ae19-4eb8-a995-3e9659e9ce8c",
   "metadata": {},
   "source": [
    "06/29/2025\n",
    "\n",
    "The datasets found in this notes are can be seen inside the dataset folder:\n"
   ]
  },
  {
   "cell_type": "code",
   "execution_count": 20,
   "id": "858148a7-527b-44c3-94f9-772fbc26b850",
   "metadata": {},
   "outputs": [
    {
     "data": {
      "text/plain": [
       "['clean_books.csv']"
      ]
     },
     "execution_count": 20,
     "metadata": {},
     "output_type": "execute_result"
    }
   ],
   "source": [
    "import os \n",
    "\n",
    "os.listdir('datasets')"
   ]
  },
  {
   "cell_type": "markdown",
   "id": "0fe218bc-4339-4710-b6f2-4b32f33029f9",
   "metadata": {},
   "source": [
    "### Contents:\n",
    "- Initial Exploration\n",
    "  - Initial Exploration\n",
    "  - Exploring Categorical Data\n",
    "  - Exploring Numerical Data\n",
    "- Data Validation\n",
    "  - Validating Data Types\n",
    "  - Validating Categorical Data\n",
    "  - Validating Numerical Data\n",
    "- Data Summarization\n",
    "  - The Powerful `.agg()`\n",
    "  - `.agg()` and `.groupby()`"
   ]
  },
  {
   "cell_type": "markdown",
   "id": "2206f881-2bc5-4b68-a5f9-1c3bbb0a9889",
   "metadata": {},
   "source": [
    "The process of cleaning and reviewing data to \n",
    "- derive insights\n",
    "- generate hypotheses for experiments"
   ]
  },
  {
   "cell_type": "markdown",
   "id": "e3d487fe-fcae-4aed-8fd8-8ba7f2ddc27c",
   "metadata": {},
   "source": [
    "### Initial Exploration\n",
    "There are tools you can use to get an overview about your dataset, this overview will tell a lot some include:\n",
    "- `.head()`\n",
    "- `.info()`\n",
    "- `.describe()`"
   ]
  },
  {
   "cell_type": "markdown",
   "id": "25a01abc-9fd2-43de-bd34-2ba5009a161c",
   "metadata": {},
   "source": [
    "**When exploring categorical data:**\n",
    "- We usually want to count how many are the different categories and we can do that with `df.value_counts('category')`"
   ]
  },
  {
   "cell_type": "code",
   "execution_count": 21,
   "id": "589dca81-98a6-4072-8b9f-b3496df3559e",
   "metadata": {},
   "outputs": [
    {
     "data": {
      "text/html": [
       "<div>\n",
       "<style scoped>\n",
       "    .dataframe tbody tr th:only-of-type {\n",
       "        vertical-align: middle;\n",
       "    }\n",
       "\n",
       "    .dataframe tbody tr th {\n",
       "        vertical-align: top;\n",
       "    }\n",
       "\n",
       "    .dataframe thead th {\n",
       "        text-align: right;\n",
       "    }\n",
       "</style>\n",
       "<table border=\"1\" class=\"dataframe\">\n",
       "  <thead>\n",
       "    <tr style=\"text-align: right;\">\n",
       "      <th></th>\n",
       "      <th>name</th>\n",
       "      <th>author</th>\n",
       "      <th>rating</th>\n",
       "      <th>year</th>\n",
       "      <th>genre</th>\n",
       "    </tr>\n",
       "  </thead>\n",
       "  <tbody>\n",
       "    <tr>\n",
       "      <th>0</th>\n",
       "      <td>10-Day Green Smoothie Cleanse</td>\n",
       "      <td>JJ Smith</td>\n",
       "      <td>4.7</td>\n",
       "      <td>2016</td>\n",
       "      <td>Non Fiction</td>\n",
       "    </tr>\n",
       "    <tr>\n",
       "      <th>1</th>\n",
       "      <td>11/22/63: A Novel</td>\n",
       "      <td>Stephen King</td>\n",
       "      <td>4.6</td>\n",
       "      <td>2011</td>\n",
       "      <td>Fiction</td>\n",
       "    </tr>\n",
       "    <tr>\n",
       "      <th>2</th>\n",
       "      <td>12 Rules for Life: An Antidote to Chaos</td>\n",
       "      <td>Jordan B. Peterson</td>\n",
       "      <td>4.7</td>\n",
       "      <td>2018</td>\n",
       "      <td>Non Fiction</td>\n",
       "    </tr>\n",
       "    <tr>\n",
       "      <th>3</th>\n",
       "      <td>1984 (Signet Classics)</td>\n",
       "      <td>George Orwell</td>\n",
       "      <td>4.7</td>\n",
       "      <td>2017</td>\n",
       "      <td>Fiction</td>\n",
       "    </tr>\n",
       "    <tr>\n",
       "      <th>4</th>\n",
       "      <td>5,000 Awesome Facts (About Everything!) (Natio...</td>\n",
       "      <td>National Geographic Kids</td>\n",
       "      <td>4.8</td>\n",
       "      <td>2019</td>\n",
       "      <td>Childrens</td>\n",
       "    </tr>\n",
       "  </tbody>\n",
       "</table>\n",
       "</div>"
      ],
      "text/plain": [
       "                                                name  \\\n",
       "0                      10-Day Green Smoothie Cleanse   \n",
       "1                                  11/22/63: A Novel   \n",
       "2            12 Rules for Life: An Antidote to Chaos   \n",
       "3                             1984 (Signet Classics)   \n",
       "4  5,000 Awesome Facts (About Everything!) (Natio...   \n",
       "\n",
       "                     author  rating  year        genre  \n",
       "0                  JJ Smith     4.7  2016  Non Fiction  \n",
       "1              Stephen King     4.6  2011      Fiction  \n",
       "2        Jordan B. Peterson     4.7  2018  Non Fiction  \n",
       "3             George Orwell     4.7  2017      Fiction  \n",
       "4  National Geographic Kids     4.8  2019    Childrens  "
      ]
     },
     "execution_count": 21,
     "metadata": {},
     "output_type": "execute_result"
    }
   ],
   "source": [
    "import pandas as pd\n",
    "books_df = pd.read_csv('datasets/clean_books.csv')\n",
    "books_df.head()"
   ]
  },
  {
   "cell_type": "code",
   "execution_count": 22,
   "id": "1a0bed55-3b15-4dfd-b5f0-96e095584e6c",
   "metadata": {},
   "outputs": [
    {
     "data": {
      "text/plain": [
       "genre\n",
       "Non Fiction    179\n",
       "Fiction        131\n",
       "Childrens       40\n",
       "Name: count, dtype: int64"
      ]
     },
     "execution_count": 22,
     "metadata": {},
     "output_type": "execute_result"
    }
   ],
   "source": [
    "books_df.value_counts('genre')"
   ]
  },
  {
   "cell_type": "markdown",
   "id": "80868a41-e86e-4f78-bbef-6ff0be0f297c",
   "metadata": {},
   "source": [
    "**When exploring numerical data:**\n",
    "- When we deal with numerical data we often use **histogram** to see where the most numerical data lie\n",
    "- You use `.histplot()` and to change the width of the bin use `binwidth =  ...`\n",
    "\n",
    "```python\n",
    "sns.histplot(data=df, x = 'column')\n",
    "plt.show()\n",
    "```"
   ]
  },
  {
   "cell_type": "markdown",
   "id": "cef280f0-f81b-4192-af85-52bc2a4f42cf",
   "metadata": {},
   "source": [
    "In our case with the `books_df` we can use histogram to explore how our rating column looks:"
   ]
  },
  {
   "cell_type": "code",
   "execution_count": 23,
   "id": "68fee354-ad65-4b84-aed7-6079bd16e28a",
   "metadata": {},
   "outputs": [
    {
     "data": {
      "image/png": "[encoded data removed]",
      "text/plain": [
       "<Figure size 640x480 with 1 Axes>"
      ]
     },
     "metadata": {},
     "output_type": "display_data"
    }
   ],
   "source": [
    "import seaborn as sns\n",
    "import matplotlib.pyplot as plt\n",
    "\n",
    "sns.histplot(data = books_df, x = 'rating')\n",
    "plt.show()"
   ]
  },
  {
   "cell_type": "code",
   "execution_count": 24,
   "id": "cb306e4d-015d-4a37-b561-4cdaeb403095",
   "metadata": {},
   "outputs": [
    {
     "data": {
      "image/png": "[encoded data removed]",
      "text/plain": [
       "<Figure size 640x480 with 1 Axes>"
      ]
     },
     "metadata": {},
     "output_type": "display_data"
    }
   ],
   "source": [
    "sns.histplot(data = books_df, x = 'rating', binwidth = .1)\n",
    "plt.show()"
   ]
  },
  {
   "cell_type": "markdown",
   "id": "9e33bb55-b822-47c0-8645-f8989f1eb150",
   "metadata": {},
   "source": [
    "You can infer here then that the next time you look for a rating, it would probably be **4.5 - 4.6** or **4.7 - 4.8**"
   ]
  },
  {
   "cell_type": "markdown",
   "id": "36aff71e-d372-4f89-9fc1-f9b271122c3c",
   "metadata": {},
   "source": [
    "## Data Validation\n",
    "- We want to make sure that we have the correct data types and ranges before we start the analysis"
   ]
  },
  {
   "cell_type": "markdown",
   "id": "7eef65e4-521f-42f2-8604-3e573f894625",
   "metadata": {},
   "source": [
    "**Validating Data Types:**\n",
    "- You can use `.info()` or `.dtypes()` to see the data types\n",
    "- You can use the `series.astype(data_type)` or `df.astype(data_type)`\n",
    "\n",
    "```python\n",
    "# if the year column is in floats:\n",
    "\n",
    "books_df['year'].astype(int)\n",
    "```"
   ]
  },
  {
   "cell_type": "markdown",
   "id": "952cd8ce-9496-497e-9b31-1495590c227c",
   "metadata": {},
   "source": [
    "**Validating Categorical Data:**\n",
    "- Validate categorical data by comparing data in a column to an expected or unexpected values\n",
    "- You can use the `.isin([])`\n",
    "\n",
    "For example:\n",
    "```python\n",
    "# You expect that there would be `Fiction` and `Non Fiction` so you do:\n",
    "df['category'].isin(['expectation 1', 'expectation 2', '...'])\n",
    "```\n",
    "\n",
    "if a series that comes out is all false, there maybe mistakes in your category column.\n"
   ]
  },
  {
   "cell_type": "markdown",
   "id": "39dfaf43-89f6-4830-931e-628695d67543",
   "metadata": {},
   "source": [
    "You can invert this by having `~` before:\n",
    "\n",
    "example:\n",
    "```python\n",
    "~df['category'].isin(['expectation 1', 'expectation 2', '...'])\n",
    "```\n",
    "\n",
    "if a series that comes out is all true and you expect that those expectations *must* be there then there is something wrong with your category column."
   ]
  },
  {
   "cell_type": "markdown",
   "id": "8ff27998-0250-4538-a2d9-fd6338a7efdd",
   "metadata": {},
   "source": [
    "**Validating Numerical Data:**"
   ]
  },
  {
   "cell_type": "markdown",
   "id": "d41b54df-d00d-4883-b446-624d4ba5156f",
   "metadata": {},
   "source": [
    "- To get all the numerical data we can use: `df.select_dtypes('number')`\n",
    "- When we validate numerical data, we often want to know if the columns fit the expected range and that is done with `series.min()` or `.max()`\n",
    "- We often use boxplot to visualize ranges:\n",
    "\n",
    "```python\n",
    "sns.boxplot(data = df, x = numerical_column) # or if by category y = 'category'\n",
    "plt.show()\n",
    "```"
   ]
  },
  {
   "cell_type": "markdown",
   "id": "d06a0d87-7e90-44f5-a642-9e9ce6e4fdd6",
   "metadata": {},
   "source": [
    "### Data Summarization\n",
    "- This means aggregating things either by grouping them and then using aggregates functions on them. In that way we can summarize things about them.\n",
    "- This is usually done with `df.groupby('category')`\n",
    "\n",
    "**Example:**<br>\n",
    "`books_df.groupby('genre').mean()`\n",
    "\n",
    "You can use the following:\n",
    "- .sum()\n",
    "- .count()\n",
    "- .min()\n",
    "- .max()\n",
    "- .var()\n",
    "- .std()"
   ]
  },
  {
   "cell_type": "markdown",
   "id": "70e460fc-2443-4602-bda5-a29f8dc3e9e0",
   "metadata": {},
   "source": [
    "**The Powerful `.agg()`**"
   ]
  },
  {
   "cell_type": "markdown",
   "id": "dd19df62-f9a6-4c18-88c2-a8e79d175efd",
   "metadata": {},
   "source": [
    "- We use this typically if we want to apply multiple functions to aggregated things\n",
    "\n",
    "Example:\n",
    "```python\n",
    "df.agg(['mean', 'std'])\n",
    "```"
   ]
  },
  {
   "cell_type": "code",
   "execution_count": 30,
   "id": "ecf347d6-8a2f-45c1-806a-129a138077d2",
   "metadata": {},
   "outputs": [
    {
     "data": {
      "text/html": [
       "<div>\n",
       "<style scoped>\n",
       "    .dataframe tbody tr th:only-of-type {\n",
       "        vertical-align: middle;\n",
       "    }\n",
       "\n",
       "    .dataframe tbody tr th {\n",
       "        vertical-align: top;\n",
       "    }\n",
       "\n",
       "    .dataframe thead th {\n",
       "        text-align: right;\n",
       "    }\n",
       "</style>\n",
       "<table border=\"1\" class=\"dataframe\">\n",
       "  <thead>\n",
       "    <tr style=\"text-align: right;\">\n",
       "      <th></th>\n",
       "      <th>rating</th>\n",
       "      <th>year</th>\n",
       "    </tr>\n",
       "  </thead>\n",
       "  <tbody>\n",
       "    <tr>\n",
       "      <th>mean</th>\n",
       "      <td>4.608571</td>\n",
       "      <td>2013.508571</td>\n",
       "    </tr>\n",
       "    <tr>\n",
       "      <th>std</th>\n",
       "      <td>0.226941</td>\n",
       "      <td>3.284711</td>\n",
       "    </tr>\n",
       "  </tbody>\n",
       "</table>\n",
       "</div>"
      ],
      "text/plain": [
       "        rating         year\n",
       "mean  4.608571  2013.508571\n",
       "std   0.226941     3.284711"
      ]
     },
     "execution_count": 30,
     "metadata": {},
     "output_type": "execute_result"
    }
   ],
   "source": [
    "books_df.select_dtypes('number').agg(['mean', 'std'])"
   ]
  },
  {
   "cell_type": "markdown",
   "id": "3193008a-b00e-4dad-8b69-bc8b747f330d",
   "metadata": {},
   "source": [
    "**You can also use dictionary to specify which aggregating functions you can use to which column:**\n",
    "\n",
    "Example:\n",
    "\n",
    "```python\n",
    "df.select_dtypes('number').agg({'numeric_1': ['mean', 'std'], 'numeric_2': ['mean', 'sum']})\n",
    "```"
   ]
  },
  {
   "cell_type": "markdown",
   "id": "12907393-7d76-453e-bce5-4b07d4339549",
   "metadata": {},
   "source": [
    "**`.agg()` and `.groupby()`:**"
   ]
  },
  {
   "cell_type": "code",
   "execution_count": 33,
   "id": "de82348f-85c2-47dc-a6ef-64f47a2685e1",
   "metadata": {},
   "outputs": [
    {
     "data": {
      "text/html": [
       "<div>\n",
       "<style scoped>\n",
       "    .dataframe tbody tr th:only-of-type {\n",
       "        vertical-align: middle;\n",
       "    }\n",
       "\n",
       "    .dataframe tbody tr th {\n",
       "        vertical-align: top;\n",
       "    }\n",
       "\n",
       "    .dataframe thead th {\n",
       "        text-align: right;\n",
       "    }\n",
       "</style>\n",
       "<table border=\"1\" class=\"dataframe\">\n",
       "  <thead>\n",
       "    <tr style=\"text-align: right;\">\n",
       "      <th></th>\n",
       "      <th>mean_rating</th>\n",
       "      <th>std_rating</th>\n",
       "      <th>median_year</th>\n",
       "    </tr>\n",
       "    <tr>\n",
       "      <th>genre</th>\n",
       "      <th></th>\n",
       "      <th></th>\n",
       "      <th></th>\n",
       "    </tr>\n",
       "  </thead>\n",
       "  <tbody>\n",
       "    <tr>\n",
       "      <th>Childrens</th>\n",
       "      <td>4.780000</td>\n",
       "      <td>0.122370</td>\n",
       "      <td>2015.0</td>\n",
       "    </tr>\n",
       "    <tr>\n",
       "      <th>Fiction</th>\n",
       "      <td>4.570229</td>\n",
       "      <td>0.281123</td>\n",
       "      <td>2013.0</td>\n",
       "    </tr>\n",
       "    <tr>\n",
       "      <th>Non Fiction</th>\n",
       "      <td>4.598324</td>\n",
       "      <td>0.179411</td>\n",
       "      <td>2013.0</td>\n",
       "    </tr>\n",
       "  </tbody>\n",
       "</table>\n",
       "</div>"
      ],
      "text/plain": [
       "             mean_rating  std_rating  median_year\n",
       "genre                                            \n",
       "Childrens       4.780000    0.122370       2015.0\n",
       "Fiction         4.570229    0.281123       2013.0\n",
       "Non Fiction     4.598324    0.179411       2013.0"
      ]
     },
     "execution_count": 33,
     "metadata": {},
     "output_type": "execute_result"
    }
   ],
   "source": [
    "books_df.groupby('genre').agg(mean_rating = ('rating', 'mean'),\\\n",
    "                                                     std_rating = ('rating', 'std'),\\\n",
    "                                                     median_year = ('year', 'median'))"
   ]
  },
  {
   "cell_type": "code",
   "execution_count": null,
   "id": "fd70db1d-7b36-43cc-b92f-f0608237d702",
   "metadata": {},
   "outputs": [],
   "source": []
  }
 ],
 "metadata": {
  "kernelspec": {
   "display_name": "Python 3 (ipykernel)",
   "language": "python",
   "name": "python3"
  },
  "language_info": {
   "codemirror_mode": {
    "name": "ipython",
    "version": 3
   },
   "file_extension": ".py",
   "mimetype": "text/x-python",
   "name": "python",
   "nbconvert_exporter": "python",
   "pygments_lexer": "ipython3",
   "version": "3.12.9"
  }
 },
 "nbformat": 4,
 "nbformat_minor": 5
}
